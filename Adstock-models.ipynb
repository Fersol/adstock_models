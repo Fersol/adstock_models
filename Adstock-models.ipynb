{
 "cells": [
  {
   "cell_type": "code",
   "execution_count": 1,
   "metadata": {},
   "outputs": [],
   "source": [
    "import numpy as np\n",
    "import pandas as pd\n",
    "from scipy import stats\n",
    "from plotly import graph_objects as go"
   ]
  },
  {
   "cell_type": "markdown",
   "metadata": {},
   "source": [
    "# Simple Decay-Effect Model"
   ]
  },
  {
   "cell_type": "markdown",
   "metadata": {},
   "source": [
    "$A_t = T_t + \\lambda A_{t-1}$,  \n",
    "$A_t$ - Adstock at time t - market feature (number of sales, for example),  \n",
    "$T_t$ - value of advertising variable (views, for example)  \n",
    "$\\lambda$ - advertising lag"
   ]
  },
  {
   "cell_type": "markdown",
   "metadata": {},
   "source": [
    "#### Modeling advertising variable"
   ]
  },
  {
   "cell_type": "markdown",
   "metadata": {},
   "source": [
    "Example for number of views for advertising"
   ]
  },
  {
   "cell_type": "code",
   "execution_count": 98,
   "metadata": {},
   "outputs": [],
   "source": [
    "T = np.array([100, 200, 300, 400, 500, 1000, 2000, 4000, 3000, 2000, 1000, 500, 300, 200, 100])"
   ]
  },
  {
   "cell_type": "code",
   "execution_count": 99,
   "metadata": {},
   "outputs": [
    {
     "data": {
      "application/vnd.plotly.v1+json": {
       "config": {
        "plotlyServerURL": "https://plot.ly"
       },
       "data": [
        {
         "name": "views",
         "type": "scatter",
         "y": [
          100,
          200,
          300,
          400,
          500,
          1000,
          2000,
          4000,
          3000,
          2000,
          1000,
          500,
          300,
          200,
          100
         ]
        }
       ],
       "layout": {
        "autosize": true,
        "template": {
         "data": {
          "bar": [
           {
            "error_x": {
             "color": "#2a3f5f"
            },
            "error_y": {
             "color": "#2a3f5f"
            },
            "marker": {
             "line": {
              "color": "#E5ECF6",
              "width": 0.5
             },
             "pattern": {
              "fillmode": "overlay",
              "size": 10,
              "solidity": 0.2
             }
            },
            "type": "bar"
           }
          ],
          "barpolar": [
           {
            "marker": {
             "line": {
              "color": "#E5ECF6",
              "width": 0.5
             },
             "pattern": {
              "fillmode": "overlay",
              "size": 10,
              "solidity": 0.2
             }
            },
            "type": "barpolar"
           }
          ],
          "carpet": [
           {
            "aaxis": {
             "endlinecolor": "#2a3f5f",
             "gridcolor": "white",
             "linecolor": "white",
             "minorgridcolor": "white",
             "startlinecolor": "#2a3f5f"
            },
            "baxis": {
             "endlinecolor": "#2a3f5f",
             "gridcolor": "white",
             "linecolor": "white",
             "minorgridcolor": "white",
             "startlinecolor": "#2a3f5f"
            },
            "type": "carpet"
           }
          ],
          "choropleth": [
           {
            "colorbar": {
             "outlinewidth": 0,
             "ticks": ""
            },
            "type": "choropleth"
           }
          ],
          "contour": [
           {
            "colorbar": {
             "outlinewidth": 0,
             "ticks": ""
            },
            "colorscale": [
             [
              0,
              "#0d0887"
             ],
             [
              0.1111111111111111,
              "#46039f"
             ],
             [
              0.2222222222222222,
              "#7201a8"
             ],
             [
              0.3333333333333333,
              "#9c179e"
             ],
             [
              0.4444444444444444,
              "#bd3786"
             ],
             [
              0.5555555555555556,
              "#d8576b"
             ],
             [
              0.6666666666666666,
              "#ed7953"
             ],
             [
              0.7777777777777778,
              "#fb9f3a"
             ],
             [
              0.8888888888888888,
              "#fdca26"
             ],
             [
              1,
              "#f0f921"
             ]
            ],
            "type": "contour"
           }
          ],
          "contourcarpet": [
           {
            "colorbar": {
             "outlinewidth": 0,
             "ticks": ""
            },
            "type": "contourcarpet"
           }
          ],
          "heatmap": [
           {
            "colorbar": {
             "outlinewidth": 0,
             "ticks": ""
            },
            "colorscale": [
             [
              0,
              "#0d0887"
             ],
             [
              0.1111111111111111,
              "#46039f"
             ],
             [
              0.2222222222222222,
              "#7201a8"
             ],
             [
              0.3333333333333333,
              "#9c179e"
             ],
             [
              0.4444444444444444,
              "#bd3786"
             ],
             [
              0.5555555555555556,
              "#d8576b"
             ],
             [
              0.6666666666666666,
              "#ed7953"
             ],
             [
              0.7777777777777778,
              "#fb9f3a"
             ],
             [
              0.8888888888888888,
              "#fdca26"
             ],
             [
              1,
              "#f0f921"
             ]
            ],
            "type": "heatmap"
           }
          ],
          "heatmapgl": [
           {
            "colorbar": {
             "outlinewidth": 0,
             "ticks": ""
            },
            "colorscale": [
             [
              0,
              "#0d0887"
             ],
             [
              0.1111111111111111,
              "#46039f"
             ],
             [
              0.2222222222222222,
              "#7201a8"
             ],
             [
              0.3333333333333333,
              "#9c179e"
             ],
             [
              0.4444444444444444,
              "#bd3786"
             ],
             [
              0.5555555555555556,
              "#d8576b"
             ],
             [
              0.6666666666666666,
              "#ed7953"
             ],
             [
              0.7777777777777778,
              "#fb9f3a"
             ],
             [
              0.8888888888888888,
              "#fdca26"
             ],
             [
              1,
              "#f0f921"
             ]
            ],
            "type": "heatmapgl"
           }
          ],
          "histogram": [
           {
            "marker": {
             "pattern": {
              "fillmode": "overlay",
              "size": 10,
              "solidity": 0.2
             }
            },
            "type": "histogram"
           }
          ],
          "histogram2d": [
           {
            "colorbar": {
             "outlinewidth": 0,
             "ticks": ""
            },
            "colorscale": [
             [
              0,
              "#0d0887"
             ],
             [
              0.1111111111111111,
              "#46039f"
             ],
             [
              0.2222222222222222,
              "#7201a8"
             ],
             [
              0.3333333333333333,
              "#9c179e"
             ],
             [
              0.4444444444444444,
              "#bd3786"
             ],
             [
              0.5555555555555556,
              "#d8576b"
             ],
             [
              0.6666666666666666,
              "#ed7953"
             ],
             [
              0.7777777777777778,
              "#fb9f3a"
             ],
             [
              0.8888888888888888,
              "#fdca26"
             ],
             [
              1,
              "#f0f921"
             ]
            ],
            "type": "histogram2d"
           }
          ],
          "histogram2dcontour": [
           {
            "colorbar": {
             "outlinewidth": 0,
             "ticks": ""
            },
            "colorscale": [
             [
              0,
              "#0d0887"
             ],
             [
              0.1111111111111111,
              "#46039f"
             ],
             [
              0.2222222222222222,
              "#7201a8"
             ],
             [
              0.3333333333333333,
              "#9c179e"
             ],
             [
              0.4444444444444444,
              "#bd3786"
             ],
             [
              0.5555555555555556,
              "#d8576b"
             ],
             [
              0.6666666666666666,
              "#ed7953"
             ],
             [
              0.7777777777777778,
              "#fb9f3a"
             ],
             [
              0.8888888888888888,
              "#fdca26"
             ],
             [
              1,
              "#f0f921"
             ]
            ],
            "type": "histogram2dcontour"
           }
          ],
          "mesh3d": [
           {
            "colorbar": {
             "outlinewidth": 0,
             "ticks": ""
            },
            "type": "mesh3d"
           }
          ],
          "parcoords": [
           {
            "line": {
             "colorbar": {
              "outlinewidth": 0,
              "ticks": ""
             }
            },
            "type": "parcoords"
           }
          ],
          "pie": [
           {
            "automargin": true,
            "type": "pie"
           }
          ],
          "scatter": [
           {
            "marker": {
             "colorbar": {
              "outlinewidth": 0,
              "ticks": ""
             }
            },
            "type": "scatter"
           }
          ],
          "scatter3d": [
           {
            "line": {
             "colorbar": {
              "outlinewidth": 0,
              "ticks": ""
             }
            },
            "marker": {
             "colorbar": {
              "outlinewidth": 0,
              "ticks": ""
             }
            },
            "type": "scatter3d"
           }
          ],
          "scattercarpet": [
           {
            "marker": {
             "colorbar": {
              "outlinewidth": 0,
              "ticks": ""
             }
            },
            "type": "scattercarpet"
           }
          ],
          "scattergeo": [
           {
            "marker": {
             "colorbar": {
              "outlinewidth": 0,
              "ticks": ""
             }
            },
            "type": "scattergeo"
           }
          ],
          "scattergl": [
           {
            "marker": {
             "colorbar": {
              "outlinewidth": 0,
              "ticks": ""
             }
            },
            "type": "scattergl"
           }
          ],
          "scattermapbox": [
           {
            "marker": {
             "colorbar": {
              "outlinewidth": 0,
              "ticks": ""
             }
            },
            "type": "scattermapbox"
           }
          ],
          "scatterpolar": [
           {
            "marker": {
             "colorbar": {
              "outlinewidth": 0,
              "ticks": ""
             }
            },
            "type": "scatterpolar"
           }
          ],
          "scatterpolargl": [
           {
            "marker": {
             "colorbar": {
              "outlinewidth": 0,
              "ticks": ""
             }
            },
            "type": "scatterpolargl"
           }
          ],
          "scatterternary": [
           {
            "marker": {
             "colorbar": {
              "outlinewidth": 0,
              "ticks": ""
             }
            },
            "type": "scatterternary"
           }
          ],
          "surface": [
           {
            "colorbar": {
             "outlinewidth": 0,
             "ticks": ""
            },
            "colorscale": [
             [
              0,
              "#0d0887"
             ],
             [
              0.1111111111111111,
              "#46039f"
             ],
             [
              0.2222222222222222,
              "#7201a8"
             ],
             [
              0.3333333333333333,
              "#9c179e"
             ],
             [
              0.4444444444444444,
              "#bd3786"
             ],
             [
              0.5555555555555556,
              "#d8576b"
             ],
             [
              0.6666666666666666,
              "#ed7953"
             ],
             [
              0.7777777777777778,
              "#fb9f3a"
             ],
             [
              0.8888888888888888,
              "#fdca26"
             ],
             [
              1,
              "#f0f921"
             ]
            ],
            "type": "surface"
           }
          ],
          "table": [
           {
            "cells": {
             "fill": {
              "color": "#EBF0F8"
             },
             "line": {
              "color": "white"
             }
            },
            "header": {
             "fill": {
              "color": "#C8D4E3"
             },
             "line": {
              "color": "white"
             }
            },
            "type": "table"
           }
          ]
         },
         "layout": {
          "annotationdefaults": {
           "arrowcolor": "#2a3f5f",
           "arrowhead": 0,
           "arrowwidth": 1
          },
          "autotypenumbers": "strict",
          "coloraxis": {
           "colorbar": {
            "outlinewidth": 0,
            "ticks": ""
           }
          },
          "colorscale": {
           "diverging": [
            [
             0,
             "#8e0152"
            ],
            [
             0.1,
             "#c51b7d"
            ],
            [
             0.2,
             "#de77ae"
            ],
            [
             0.3,
             "#f1b6da"
            ],
            [
             0.4,
             "#fde0ef"
            ],
            [
             0.5,
             "#f7f7f7"
            ],
            [
             0.6,
             "#e6f5d0"
            ],
            [
             0.7,
             "#b8e186"
            ],
            [
             0.8,
             "#7fbc41"
            ],
            [
             0.9,
             "#4d9221"
            ],
            [
             1,
             "#276419"
            ]
           ],
           "sequential": [
            [
             0,
             "#0d0887"
            ],
            [
             0.1111111111111111,
             "#46039f"
            ],
            [
             0.2222222222222222,
             "#7201a8"
            ],
            [
             0.3333333333333333,
             "#9c179e"
            ],
            [
             0.4444444444444444,
             "#bd3786"
            ],
            [
             0.5555555555555556,
             "#d8576b"
            ],
            [
             0.6666666666666666,
             "#ed7953"
            ],
            [
             0.7777777777777778,
             "#fb9f3a"
            ],
            [
             0.8888888888888888,
             "#fdca26"
            ],
            [
             1,
             "#f0f921"
            ]
           ],
           "sequentialminus": [
            [
             0,
             "#0d0887"
            ],
            [
             0.1111111111111111,
             "#46039f"
            ],
            [
             0.2222222222222222,
             "#7201a8"
            ],
            [
             0.3333333333333333,
             "#9c179e"
            ],
            [
             0.4444444444444444,
             "#bd3786"
            ],
            [
             0.5555555555555556,
             "#d8576b"
            ],
            [
             0.6666666666666666,
             "#ed7953"
            ],
            [
             0.7777777777777778,
             "#fb9f3a"
            ],
            [
             0.8888888888888888,
             "#fdca26"
            ],
            [
             1,
             "#f0f921"
            ]
           ]
          },
          "colorway": [
           "#636efa",
           "#EF553B",
           "#00cc96",
           "#ab63fa",
           "#FFA15A",
           "#19d3f3",
           "#FF6692",
           "#B6E880",
           "#FF97FF",
           "#FECB52"
          ],
          "font": {
           "color": "#2a3f5f"
          },
          "geo": {
           "bgcolor": "white",
           "lakecolor": "white",
           "landcolor": "#E5ECF6",
           "showlakes": true,
           "showland": true,
           "subunitcolor": "white"
          },
          "hoverlabel": {
           "align": "left"
          },
          "hovermode": "closest",
          "mapbox": {
           "style": "light"
          },
          "paper_bgcolor": "white",
          "plot_bgcolor": "#E5ECF6",
          "polar": {
           "angularaxis": {
            "gridcolor": "white",
            "linecolor": "white",
            "ticks": ""
           },
           "bgcolor": "#E5ECF6",
           "radialaxis": {
            "gridcolor": "white",
            "linecolor": "white",
            "ticks": ""
           }
          },
          "scene": {
           "xaxis": {
            "backgroundcolor": "#E5ECF6",
            "gridcolor": "white",
            "gridwidth": 2,
            "linecolor": "white",
            "showbackground": true,
            "ticks": "",
            "zerolinecolor": "white"
           },
           "yaxis": {
            "backgroundcolor": "#E5ECF6",
            "gridcolor": "white",
            "gridwidth": 2,
            "linecolor": "white",
            "showbackground": true,
            "ticks": "",
            "zerolinecolor": "white"
           },
           "zaxis": {
            "backgroundcolor": "#E5ECF6",
            "gridcolor": "white",
            "gridwidth": 2,
            "linecolor": "white",
            "showbackground": true,
            "ticks": "",
            "zerolinecolor": "white"
           }
          },
          "shapedefaults": {
           "line": {
            "color": "#2a3f5f"
           }
          },
          "ternary": {
           "aaxis": {
            "gridcolor": "white",
            "linecolor": "white",
            "ticks": ""
           },
           "baxis": {
            "gridcolor": "white",
            "linecolor": "white",
            "ticks": ""
           },
           "bgcolor": "#E5ECF6",
           "caxis": {
            "gridcolor": "white",
            "linecolor": "white",
            "ticks": ""
           }
          },
          "title": {
           "x": 0.05
          },
          "xaxis": {
           "automargin": true,
           "gridcolor": "white",
           "linecolor": "white",
           "ticks": "",
           "title": {
            "standoff": 15
           },
           "zerolinecolor": "white",
           "zerolinewidth": 2
          },
          "yaxis": {
           "automargin": true,
           "gridcolor": "white",
           "linecolor": "white",
           "ticks": "",
           "title": {
            "standoff": 15
           },
           "zerolinecolor": "white",
           "zerolinewidth": 2
          }
         }
        },
        "title": {
         "text": "Number of views"
        },
        "xaxis": {
         "autorange": true,
         "range": [
          -0.8103044496487121,
          14.810304449648712
         ]
        },
        "yaxis": {
         "autorange": true,
         "range": [
          -221.84466019417476,
          4321.844660194175
         ],
         "type": "linear"
        }
       }
      },
      "image/png": "[encoded data removed]",
      "text/html": [
       "<div>                            <div id=\"01c4e82d-9039-4f26-996e-485b8aa30ef6\" class=\"plotly-graph-div\" style=\"height:525px; width:100%;\"></div>            <script type=\"text/javascript\">                require([\"plotly\"], function(Plotly) {                    window.PLOTLYENV=window.PLOTLYENV || {};                                    if (document.getElementById(\"01c4e82d-9039-4f26-996e-485b8aa30ef6\")) {                    Plotly.newPlot(                        \"01c4e82d-9039-4f26-996e-485b8aa30ef6\",                        [{\"name\":\"views\",\"type\":\"scatter\",\"y\":[100,200,300,400,500,1000,2000,4000,3000,2000,1000,500,300,200,100]}],                        {\"template\":{\"data\":{\"bar\":[{\"error_x\":{\"color\":\"#2a3f5f\"},\"error_y\":{\"color\":\"#2a3f5f\"},\"marker\":{\"line\":{\"color\":\"#E5ECF6\",\"width\":0.5},\"pattern\":{\"fillmode\":\"overlay\",\"size\":10,\"solidity\":0.2}},\"type\":\"bar\"}],\"barpolar\":[{\"marker\":{\"line\":{\"color\":\"#E5ECF6\",\"width\":0.5},\"pattern\":{\"fillmode\":\"overlay\",\"size\":10,\"solidity\":0.2}},\"type\":\"barpolar\"}],\"carpet\":[{\"aaxis\":{\"endlinecolor\":\"#2a3f5f\",\"gridcolor\":\"white\",\"linecolor\":\"white\",\"minorgridcolor\":\"white\",\"startlinecolor\":\"#2a3f5f\"},\"baxis\":{\"endlinecolor\":\"#2a3f5f\",\"gridcolor\":\"white\",\"linecolor\":\"white\",\"minorgridcolor\":\"white\",\"startlinecolor\":\"#2a3f5f\"},\"type\":\"carpet\"}],\"choropleth\":[{\"colorbar\":{\"outlinewidth\":0,\"ticks\":\"\"},\"type\":\"choropleth\"}],\"contour\":[{\"colorbar\":{\"outlinewidth\":0,\"ticks\":\"\"},\"colorscale\":[[0.0,\"#0d0887\"],[0.1111111111111111,\"#46039f\"],[0.2222222222222222,\"#7201a8\"],[0.3333333333333333,\"#9c179e\"],[0.4444444444444444,\"#bd3786\"],[0.5555555555555556,\"#d8576b\"],[0.6666666666666666,\"#ed7953\"],[0.7777777777777778,\"#fb9f3a\"],[0.8888888888888888,\"#fdca26\"],[1.0,\"#f0f921\"]],\"type\":\"contour\"}],\"contourcarpet\":[{\"colorbar\":{\"outlinewidth\":0,\"ticks\":\"\"},\"type\":\"contourcarpet\"}],\"heatmap\":[{\"colorbar\":{\"outlinewidth\":0,\"ticks\":\"\"},\"colorscale\":[[0.0,\"#0d0887\"],[0.1111111111111111,\"#46039f\"],[0.2222222222222222,\"#7201a8\"],[0.3333333333333333,\"#9c179e\"],[0.4444444444444444,\"#bd3786\"],[0.5555555555555556,\"#d8576b\"],[0.6666666666666666,\"#ed7953\"],[0.7777777777777778,\"#fb9f3a\"],[0.8888888888888888,\"#fdca26\"],[1.0,\"#f0f921\"]],\"type\":\"heatmap\"}],\"heatmapgl\":[{\"colorbar\":{\"outlinewidth\":0,\"ticks\":\"\"},\"colorscale\":[[0.0,\"#0d0887\"],[0.1111111111111111,\"#46039f\"],[0.2222222222222222,\"#7201a8\"],[0.3333333333333333,\"#9c179e\"],[0.4444444444444444,\"#bd3786\"],[0.5555555555555556,\"#d8576b\"],[0.6666666666666666,\"#ed7953\"],[0.7777777777777778,\"#fb9f3a\"],[0.8888888888888888,\"#fdca26\"],[1.0,\"#f0f921\"]],\"type\":\"heatmapgl\"}],\"histogram\":[{\"marker\":{\"pattern\":{\"fillmode\":\"overlay\",\"size\":10,\"solidity\":0.2}},\"type\":\"histogram\"}],\"histogram2d\":[{\"colorbar\":{\"outlinewidth\":0,\"ticks\":\"\"},\"colorscale\":[[0.0,\"#0d0887\"],[0.1111111111111111,\"#46039f\"],[0.2222222222222222,\"#7201a8\"],[0.3333333333333333,\"#9c179e\"],[0.4444444444444444,\"#bd3786\"],[0.5555555555555556,\"#d8576b\"],[0.6666666666666666,\"#ed7953\"],[0.7777777777777778,\"#fb9f3a\"],[0.8888888888888888,\"#fdca26\"],[1.0,\"#f0f921\"]],\"type\":\"histogram2d\"}],\"histogram2dcontour\":[{\"colorbar\":{\"outlinewidth\":0,\"ticks\":\"\"},\"colorscale\":[[0.0,\"#0d0887\"],[0.1111111111111111,\"#46039f\"],[0.2222222222222222,\"#7201a8\"],[0.3333333333333333,\"#9c179e\"],[0.4444444444444444,\"#bd3786\"],[0.5555555555555556,\"#d8576b\"],[0.6666666666666666,\"#ed7953\"],[0.7777777777777778,\"#fb9f3a\"],[0.8888888888888888,\"#fdca26\"],[1.0,\"#f0f921\"]],\"type\":\"histogram2dcontour\"}],\"mesh3d\":[{\"colorbar\":{\"outlinewidth\":0,\"ticks\":\"\"},\"type\":\"mesh3d\"}],\"parcoords\":[{\"line\":{\"colorbar\":{\"outlinewidth\":0,\"ticks\":\"\"}},\"type\":\"parcoords\"}],\"pie\":[{\"automargin\":true,\"type\":\"pie\"}],\"scatter\":[{\"marker\":{\"colorbar\":{\"outlinewidth\":0,\"ticks\":\"\"}},\"type\":\"scatter\"}],\"scatter3d\":[{\"line\":{\"colorbar\":{\"outlinewidth\":0,\"ticks\":\"\"}},\"marker\":{\"colorbar\":{\"outlinewidth\":0,\"ticks\":\"\"}},\"type\":\"scatter3d\"}],\"scattercarpet\":[{\"marker\":{\"colorbar\":{\"outlinewidth\":0,\"ticks\":\"\"}},\"type\":\"scattercarpet\"}],\"scattergeo\":[{\"marker\":{\"colorbar\":{\"outlinewidth\":0,\"ticks\":\"\"}},\"type\":\"scattergeo\"}],\"scattergl\":[{\"marker\":{\"colorbar\":{\"outlinewidth\":0,\"ticks\":\"\"}},\"type\":\"scattergl\"}],\"scattermapbox\":[{\"marker\":{\"colorbar\":{\"outlinewidth\":0,\"ticks\":\"\"}},\"type\":\"scattermapbox\"}],\"scatterpolar\":[{\"marker\":{\"colorbar\":{\"outlinewidth\":0,\"ticks\":\"\"}},\"type\":\"scatterpolar\"}],\"scatterpolargl\":[{\"marker\":{\"colorbar\":{\"outlinewidth\":0,\"ticks\":\"\"}},\"type\":\"scatterpolargl\"}],\"scatterternary\":[{\"marker\":{\"colorbar\":{\"outlinewidth\":0,\"ticks\":\"\"}},\"type\":\"scatterternary\"}],\"surface\":[{\"colorbar\":{\"outlinewidth\":0,\"ticks\":\"\"},\"colorscale\":[[0.0,\"#0d0887\"],[0.1111111111111111,\"#46039f\"],[0.2222222222222222,\"#7201a8\"],[0.3333333333333333,\"#9c179e\"],[0.4444444444444444,\"#bd3786\"],[0.5555555555555556,\"#d8576b\"],[0.6666666666666666,\"#ed7953\"],[0.7777777777777778,\"#fb9f3a\"],[0.8888888888888888,\"#fdca26\"],[1.0,\"#f0f921\"]],\"type\":\"surface\"}],\"table\":[{\"cells\":{\"fill\":{\"color\":\"#EBF0F8\"},\"line\":{\"color\":\"white\"}},\"header\":{\"fill\":{\"color\":\"#C8D4E3\"},\"line\":{\"color\":\"white\"}},\"type\":\"table\"}]},\"layout\":{\"annotationdefaults\":{\"arrowcolor\":\"#2a3f5f\",\"arrowhead\":0,\"arrowwidth\":1},\"autotypenumbers\":\"strict\",\"coloraxis\":{\"colorbar\":{\"outlinewidth\":0,\"ticks\":\"\"}},\"colorscale\":{\"diverging\":[[0,\"#8e0152\"],[0.1,\"#c51b7d\"],[0.2,\"#de77ae\"],[0.3,\"#f1b6da\"],[0.4,\"#fde0ef\"],[0.5,\"#f7f7f7\"],[0.6,\"#e6f5d0\"],[0.7,\"#b8e186\"],[0.8,\"#7fbc41\"],[0.9,\"#4d9221\"],[1,\"#276419\"]],\"sequential\":[[0.0,\"#0d0887\"],[0.1111111111111111,\"#46039f\"],[0.2222222222222222,\"#7201a8\"],[0.3333333333333333,\"#9c179e\"],[0.4444444444444444,\"#bd3786\"],[0.5555555555555556,\"#d8576b\"],[0.6666666666666666,\"#ed7953\"],[0.7777777777777778,\"#fb9f3a\"],[0.8888888888888888,\"#fdca26\"],[1.0,\"#f0f921\"]],\"sequentialminus\":[[0.0,\"#0d0887\"],[0.1111111111111111,\"#46039f\"],[0.2222222222222222,\"#7201a8\"],[0.3333333333333333,\"#9c179e\"],[0.4444444444444444,\"#bd3786\"],[0.5555555555555556,\"#d8576b\"],[0.6666666666666666,\"#ed7953\"],[0.7777777777777778,\"#fb9f3a\"],[0.8888888888888888,\"#fdca26\"],[1.0,\"#f0f921\"]]},\"colorway\":[\"#636efa\",\"#EF553B\",\"#00cc96\",\"#ab63fa\",\"#FFA15A\",\"#19d3f3\",\"#FF6692\",\"#B6E880\",\"#FF97FF\",\"#FECB52\"],\"font\":{\"color\":\"#2a3f5f\"},\"geo\":{\"bgcolor\":\"white\",\"lakecolor\":\"white\",\"landcolor\":\"#E5ECF6\",\"showlakes\":true,\"showland\":true,\"subunitcolor\":\"white\"},\"hoverlabel\":{\"align\":\"left\"},\"hovermode\":\"closest\",\"mapbox\":{\"style\":\"light\"},\"paper_bgcolor\":\"white\",\"plot_bgcolor\":\"#E5ECF6\",\"polar\":{\"angularaxis\":{\"gridcolor\":\"white\",\"linecolor\":\"white\",\"ticks\":\"\"},\"bgcolor\":\"#E5ECF6\",\"radialaxis\":{\"gridcolor\":\"white\",\"linecolor\":\"white\",\"ticks\":\"\"}},\"scene\":{\"xaxis\":{\"backgroundcolor\":\"#E5ECF6\",\"gridcolor\":\"white\",\"gridwidth\":2,\"linecolor\":\"white\",\"showbackground\":true,\"ticks\":\"\",\"zerolinecolor\":\"white\"},\"yaxis\":{\"backgroundcolor\":\"#E5ECF6\",\"gridcolor\":\"white\",\"gridwidth\":2,\"linecolor\":\"white\",\"showbackground\":true,\"ticks\":\"\",\"zerolinecolor\":\"white\"},\"zaxis\":{\"backgroundcolor\":\"#E5ECF6\",\"gridcolor\":\"white\",\"gridwidth\":2,\"linecolor\":\"white\",\"showbackground\":true,\"ticks\":\"\",\"zerolinecolor\":\"white\"}},\"shapedefaults\":{\"line\":{\"color\":\"#2a3f5f\"}},\"ternary\":{\"aaxis\":{\"gridcolor\":\"white\",\"linecolor\":\"white\",\"ticks\":\"\"},\"baxis\":{\"gridcolor\":\"white\",\"linecolor\":\"white\",\"ticks\":\"\"},\"bgcolor\":\"#E5ECF6\",\"caxis\":{\"gridcolor\":\"white\",\"linecolor\":\"white\",\"ticks\":\"\"}},\"title\":{\"x\":0.05},\"xaxis\":{\"automargin\":true,\"gridcolor\":\"white\",\"linecolor\":\"white\",\"ticks\":\"\",\"title\":{\"standoff\":15},\"zerolinecolor\":\"white\",\"zerolinewidth\":2},\"yaxis\":{\"automargin\":true,\"gridcolor\":\"white\",\"linecolor\":\"white\",\"ticks\":\"\",\"title\":{\"standoff\":15},\"zerolinecolor\":\"white\",\"zerolinewidth\":2}}},\"title\":{\"text\":\"Number of views\"}},                        {\"responsive\": true}                    ).then(function(){\n",
       "                            \n",
       "var gd = document.getElementById('01c4e82d-9039-4f26-996e-485b8aa30ef6');\n",
       "var x = new MutationObserver(function (mutations, observer) {{\n",
       "        var display = window.getComputedStyle(gd).display;\n",
       "        if (!display || display === 'none') {{\n",
       "            console.log([gd, 'removed!']);\n",
       "            Plotly.purge(gd);\n",
       "            observer.disconnect();\n",
       "        }}\n",
       "}});\n",
       "\n",
       "// Listen for the removal of the full notebook cells\n",
       "var notebookContainer = gd.closest('#notebook-container');\n",
       "if (notebookContainer) {{\n",
       "    x.observe(notebookContainer, {childList: true});\n",
       "}}\n",
       "\n",
       "// Listen for the clearing of the current output cell\n",
       "var outputEl = gd.closest('.output');\n",
       "if (outputEl) {{\n",
       "    x.observe(outputEl, {childList: true});\n",
       "}}\n",
       "\n",
       "                        })                };                });            </script>        </div>"
      ]
     },
     "metadata": {},
     "output_type": "display_data"
    }
   ],
   "source": [
    "go.Figure(data=go.Scatter(y=T, name=\"views\"), layout=go.Layout(title=\"Number of views\"))"
   ]
  },
  {
   "cell_type": "code",
   "execution_count": 100,
   "metadata": {},
   "outputs": [],
   "source": [
    "# 0 < l < 100\n",
    "l_values = [15, 25, 50, 80]"
   ]
  },
  {
   "cell_type": "code",
   "execution_count": 101,
   "metadata": {},
   "outputs": [],
   "source": [
    "A = {}\n",
    "for l in l_values:\n",
    "    A_l = []\n",
    "    A_prev = 0\n",
    "    for i in range(len(T)):\n",
    "        A_cur = T[i] + l/100 * A_prev\n",
    "        A_l.append(A_cur)\n",
    "        A_prev = A_cur\n",
    "    A[l] = np.array(A_l)"
   ]
  },
  {
   "cell_type": "code",
   "execution_count": 102,
   "metadata": {},
   "outputs": [
    {
     "data": {
      "application/vnd.plotly.v1+json": {
       "config": {
        "plotlyServerURL": "https://plot.ly"
       },
       "data": [
        {
         "name": "views",
         "type": "scatter",
         "y": [
          100,
          200,
          300,
          400,
          500,
          1000,
          2000,
          4000,
          3000,
          2000,
          1000,
          500,
          300,
          200,
          100
         ]
        },
        {
         "name": "sales, l=0.15",
         "type": "scatter",
         "y": [
          100,
          215,
          332.25,
          449.8375,
          567.475625,
          1085.12134375,
          2162.7682015625,
          4324.415230234375,
          3648.6622845351562,
          2547.299342680273,
          1382.094901402041,
          707.3142352103062,
          406.0971352815459,
          260.9145702922319,
          139.1371855438348
         ]
        },
        {
         "name": "sales, l=0.25",
         "type": "scatter",
         "y": [
          100,
          225,
          356.25,
          489.0625,
          622.265625,
          1155.56640625,
          2288.8916015625,
          4572.222900390625,
          4143.055725097656,
          3035.763931274414,
          1758.9409828186035,
          939.7352457046509,
          534.9338114261627,
          333.7334528565407,
          183.43336321413517
         ]
        },
        {
         "name": "sales, l=0.50",
         "type": "scatter",
         "y": [
          100,
          250,
          425,
          612.5,
          806.25,
          1403.125,
          2701.5625,
          5350.78125,
          5675.390625,
          4837.6953125,
          3418.84765625,
          2209.423828125,
          1404.7119140625,
          902.35595703125,
          551.177978515625
         ]
        },
        {
         "name": "sales, l=0.80",
         "type": "scatter",
         "y": [
          100,
          280,
          524,
          819.2,
          1155.3600000000001,
          1924.288,
          3539.4304,
          6831.544320000001,
          8465.235456000002,
          8772.188364800002,
          8017.750691840002,
          6914.200553472002,
          5831.360442777602,
          4865.088354222082,
          3992.070683377666
         ]
        }
       ],
       "layout": {
        "autosize": true,
        "template": {
         "data": {
          "bar": [
           {
            "error_x": {
             "color": "#2a3f5f"
            },
            "error_y": {
             "color": "#2a3f5f"
            },
            "marker": {
             "line": {
              "color": "#E5ECF6",
              "width": 0.5
             },
             "pattern": {
              "fillmode": "overlay",
              "size": 10,
              "solidity": 0.2
             }
            },
            "type": "bar"
           }
          ],
          "barpolar": [
           {
            "marker": {
             "line": {
              "color": "#E5ECF6",
              "width": 0.5
             },
             "pattern": {
              "fillmode": "overlay",
              "size": 10,
              "solidity": 0.2
             }
            },
            "type": "barpolar"
           }
          ],
          "carpet": [
           {
            "aaxis": {
             "endlinecolor": "#2a3f5f",
             "gridcolor": "white",
             "linecolor": "white",
             "minorgridcolor": "white",
             "startlinecolor": "#2a3f5f"
            },
            "baxis": {
             "endlinecolor": "#2a3f5f",
             "gridcolor": "white",
             "linecolor": "white",
             "minorgridcolor": "white",
             "startlinecolor": "#2a3f5f"
            },
            "type": "carpet"
           }
          ],
          "choropleth": [
           {
            "colorbar": {
             "outlinewidth": 0,
             "ticks": ""
            },
            "type": "choropleth"
           }
          ],
          "contour": [
           {
            "colorbar": {
             "outlinewidth": 0,
             "ticks": ""
            },
            "colorscale": [
             [
              0,
              "#0d0887"
             ],
             [
              0.1111111111111111,
              "#46039f"
             ],
             [
              0.2222222222222222,
              "#7201a8"
             ],
             [
              0.3333333333333333,
              "#9c179e"
             ],
             [
              0.4444444444444444,
              "#bd3786"
             ],
             [
              0.5555555555555556,
              "#d8576b"
             ],
             [
              0.6666666666666666,
              "#ed7953"
             ],
             [
              0.7777777777777778,
              "#fb9f3a"
             ],
             [
              0.8888888888888888,
              "#fdca26"
             ],
             [
              1,
              "#f0f921"
             ]
            ],
            "type": "contour"
           }
          ],
          "contourcarpet": [
           {
            "colorbar": {
             "outlinewidth": 0,
             "ticks": ""
            },
            "type": "contourcarpet"
           }
          ],
          "heatmap": [
           {
            "colorbar": {
             "outlinewidth": 0,
             "ticks": ""
            },
            "colorscale": [
             [
              0,
              "#0d0887"
             ],
             [
              0.1111111111111111,
              "#46039f"
             ],
             [
              0.2222222222222222,
              "#7201a8"
             ],
             [
              0.3333333333333333,
              "#9c179e"
             ],
             [
              0.4444444444444444,
              "#bd3786"
             ],
             [
              0.5555555555555556,
              "#d8576b"
             ],
             [
              0.6666666666666666,
              "#ed7953"
             ],
             [
              0.7777777777777778,
              "#fb9f3a"
             ],
             [
              0.8888888888888888,
              "#fdca26"
             ],
             [
              1,
              "#f0f921"
             ]
            ],
            "type": "heatmap"
           }
          ],
          "heatmapgl": [
           {
            "colorbar": {
             "outlinewidth": 0,
             "ticks": ""
            },
            "colorscale": [
             [
              0,
              "#0d0887"
             ],
             [
              0.1111111111111111,
              "#46039f"
             ],
             [
              0.2222222222222222,
              "#7201a8"
             ],
             [
              0.3333333333333333,
              "#9c179e"
             ],
             [
              0.4444444444444444,
              "#bd3786"
             ],
             [
              0.5555555555555556,
              "#d8576b"
             ],
             [
              0.6666666666666666,
              "#ed7953"
             ],
             [
              0.7777777777777778,
              "#fb9f3a"
             ],
             [
              0.8888888888888888,
              "#fdca26"
             ],
             [
              1,
              "#f0f921"
             ]
            ],
            "type": "heatmapgl"
           }
          ],
          "histogram": [
           {
            "marker": {
             "pattern": {
              "fillmode": "overlay",
              "size": 10,
              "solidity": 0.2
             }
            },
            "type": "histogram"
           }
          ],
          "histogram2d": [
           {
            "colorbar": {
             "outlinewidth": 0,
             "ticks": ""
            },
            "colorscale": [
             [
              0,
              "#0d0887"
             ],
             [
              0.1111111111111111,
              "#46039f"
             ],
             [
              0.2222222222222222,
              "#7201a8"
             ],
             [
              0.3333333333333333,
              "#9c179e"
             ],
             [
              0.4444444444444444,
              "#bd3786"
             ],
             [
              0.5555555555555556,
              "#d8576b"
             ],
             [
              0.6666666666666666,
              "#ed7953"
             ],
             [
              0.7777777777777778,
              "#fb9f3a"
             ],
             [
              0.8888888888888888,
              "#fdca26"
             ],
             [
              1,
              "#f0f921"
             ]
            ],
            "type": "histogram2d"
           }
          ],
          "histogram2dcontour": [
           {
            "colorbar": {
             "outlinewidth": 0,
             "ticks": ""
            },
            "colorscale": [
             [
              0,
              "#0d0887"
             ],
             [
              0.1111111111111111,
              "#46039f"
             ],
             [
              0.2222222222222222,
              "#7201a8"
             ],
             [
              0.3333333333333333,
              "#9c179e"
             ],
             [
              0.4444444444444444,
              "#bd3786"
             ],
             [
              0.5555555555555556,
              "#d8576b"
             ],
             [
              0.6666666666666666,
              "#ed7953"
             ],
             [
              0.7777777777777778,
              "#fb9f3a"
             ],
             [
              0.8888888888888888,
              "#fdca26"
             ],
             [
              1,
              "#f0f921"
             ]
            ],
            "type": "histogram2dcontour"
           }
          ],
          "mesh3d": [
           {
            "colorbar": {
             "outlinewidth": 0,
             "ticks": ""
            },
            "type": "mesh3d"
           }
          ],
          "parcoords": [
           {
            "line": {
             "colorbar": {
              "outlinewidth": 0,
              "ticks": ""
             }
            },
            "type": "parcoords"
           }
          ],
          "pie": [
           {
            "automargin": true,
            "type": "pie"
           }
          ],
          "scatter": [
           {
            "marker": {
             "colorbar": {
              "outlinewidth": 0,
              "ticks": ""
             }
            },
            "type": "scatter"
           }
          ],
          "scatter3d": [
           {
            "line": {
             "colorbar": {
              "outlinewidth": 0,
              "ticks": ""
             }
            },
            "marker": {
             "colorbar": {
              "outlinewidth": 0,
              "ticks": ""
             }
            },
            "type": "scatter3d"
           }
          ],
          "scattercarpet": [
           {
            "marker": {
             "colorbar": {
              "outlinewidth": 0,
              "ticks": ""
             }
            },
            "type": "scattercarpet"
           }
          ],
          "scattergeo": [
           {
            "marker": {
             "colorbar": {
              "outlinewidth": 0,
              "ticks": ""
             }
            },
            "type": "scattergeo"
           }
          ],
          "scattergl": [
           {
            "marker": {
             "colorbar": {
              "outlinewidth": 0,
              "ticks": ""
             }
            },
            "type": "scattergl"
           }
          ],
          "scattermapbox": [
           {
            "marker": {
             "colorbar": {
              "outlinewidth": 0,
              "ticks": ""
             }
            },
            "type": "scattermapbox"
           }
          ],
          "scatterpolar": [
           {
            "marker": {
             "colorbar": {
              "outlinewidth": 0,
              "ticks": ""
             }
            },
            "type": "scatterpolar"
           }
          ],
          "scatterpolargl": [
           {
            "marker": {
             "colorbar": {
              "outlinewidth": 0,
              "ticks": ""
             }
            },
            "type": "scatterpolargl"
           }
          ],
          "scatterternary": [
           {
            "marker": {
             "colorbar": {
              "outlinewidth": 0,
              "ticks": ""
             }
            },
            "type": "scatterternary"
           }
          ],
          "surface": [
           {
            "colorbar": {
             "outlinewidth": 0,
             "ticks": ""
            },
            "colorscale": [
             [
              0,
              "#0d0887"
             ],
             [
              0.1111111111111111,
              "#46039f"
             ],
             [
              0.2222222222222222,
              "#7201a8"
             ],
             [
              0.3333333333333333,
              "#9c179e"
             ],
             [
              0.4444444444444444,
              "#bd3786"
             ],
             [
              0.5555555555555556,
              "#d8576b"
             ],
             [
              0.6666666666666666,
              "#ed7953"
             ],
             [
              0.7777777777777778,
              "#fb9f3a"
             ],
             [
              0.8888888888888888,
              "#fdca26"
             ],
             [
              1,
              "#f0f921"
             ]
            ],
            "type": "surface"
           }
          ],
          "table": [
           {
            "cells": {
             "fill": {
              "color": "#EBF0F8"
             },
             "line": {
              "color": "white"
             }
            },
            "header": {
             "fill": {
              "color": "#C8D4E3"
             },
             "line": {
              "color": "white"
             }
            },
            "type": "table"
           }
          ]
         },
         "layout": {
          "annotationdefaults": {
           "arrowcolor": "#2a3f5f",
           "arrowhead": 0,
           "arrowwidth": 1
          },
          "autotypenumbers": "strict",
          "coloraxis": {
           "colorbar": {
            "outlinewidth": 0,
            "ticks": ""
           }
          },
          "colorscale": {
           "diverging": [
            [
             0,
             "#8e0152"
            ],
            [
             0.1,
             "#c51b7d"
            ],
            [
             0.2,
             "#de77ae"
            ],
            [
             0.3,
             "#f1b6da"
            ],
            [
             0.4,
             "#fde0ef"
            ],
            [
             0.5,
             "#f7f7f7"
            ],
            [
             0.6,
             "#e6f5d0"
            ],
            [
             0.7,
             "#b8e186"
            ],
            [
             0.8,
             "#7fbc41"
            ],
            [
             0.9,
             "#4d9221"
            ],
            [
             1,
             "#276419"
            ]
           ],
           "sequential": [
            [
             0,
             "#0d0887"
            ],
            [
             0.1111111111111111,
             "#46039f"
            ],
            [
             0.2222222222222222,
             "#7201a8"
            ],
            [
             0.3333333333333333,
             "#9c179e"
            ],
            [
             0.4444444444444444,
             "#bd3786"
            ],
            [
             0.5555555555555556,
             "#d8576b"
            ],
            [
             0.6666666666666666,
             "#ed7953"
            ],
            [
             0.7777777777777778,
             "#fb9f3a"
            ],
            [
             0.8888888888888888,
             "#fdca26"
            ],
            [
             1,
             "#f0f921"
            ]
           ],
           "sequentialminus": [
            [
             0,
             "#0d0887"
            ],
            [
             0.1111111111111111,
             "#46039f"
            ],
            [
             0.2222222222222222,
             "#7201a8"
            ],
            [
             0.3333333333333333,
             "#9c179e"
            ],
            [
             0.4444444444444444,
             "#bd3786"
            ],
            [
             0.5555555555555556,
             "#d8576b"
            ],
            [
             0.6666666666666666,
             "#ed7953"
            ],
            [
             0.7777777777777778,
             "#fb9f3a"
            ],
            [
             0.8888888888888888,
             "#fdca26"
            ],
            [
             1,
             "#f0f921"
            ]
           ]
          },
          "colorway": [
           "#636efa",
           "#EF553B",
           "#00cc96",
           "#ab63fa",
           "#FFA15A",
           "#19d3f3",
           "#FF6692",
           "#B6E880",
           "#FF97FF",
           "#FECB52"
          ],
          "font": {
           "color": "#2a3f5f"
          },
          "geo": {
           "bgcolor": "white",
           "lakecolor": "white",
           "landcolor": "#E5ECF6",
           "showlakes": true,
           "showland": true,
           "subunitcolor": "white"
          },
          "hoverlabel": {
           "align": "left"
          },
          "hovermode": "closest",
          "mapbox": {
           "style": "light"
          },
          "paper_bgcolor": "white",
          "plot_bgcolor": "#E5ECF6",
          "polar": {
           "angularaxis": {
            "gridcolor": "white",
            "linecolor": "white",
            "ticks": ""
           },
           "bgcolor": "#E5ECF6",
           "radialaxis": {
            "gridcolor": "white",
            "linecolor": "white",
            "ticks": ""
           }
          },
          "scene": {
           "xaxis": {
            "backgroundcolor": "#E5ECF6",
            "gridcolor": "white",
            "gridwidth": 2,
            "linecolor": "white",
            "showbackground": true,
            "ticks": "",
            "zerolinecolor": "white"
           },
           "yaxis": {
            "backgroundcolor": "#E5ECF6",
            "gridcolor": "white",
            "gridwidth": 2,
            "linecolor": "white",
            "showbackground": true,
            "ticks": "",
            "zerolinecolor": "white"
           },
           "zaxis": {
            "backgroundcolor": "#E5ECF6",
            "gridcolor": "white",
            "gridwidth": 2,
            "linecolor": "white",
            "showbackground": true,
            "ticks": "",
            "zerolinecolor": "white"
           }
          },
          "shapedefaults": {
           "line": {
            "color": "#2a3f5f"
           }
          },
          "ternary": {
           "aaxis": {
            "gridcolor": "white",
            "linecolor": "white",
            "ticks": ""
           },
           "baxis": {
            "gridcolor": "white",
            "linecolor": "white",
            "ticks": ""
           },
           "bgcolor": "#E5ECF6",
           "caxis": {
            "gridcolor": "white",
            "linecolor": "white",
            "ticks": ""
           }
          },
          "title": {
           "x": 0.05
          },
          "xaxis": {
           "automargin": true,
           "gridcolor": "white",
           "linecolor": "white",
           "ticks": "",
           "title": {
            "standoff": 15
           },
           "zerolinecolor": "white",
           "zerolinewidth": 2
          },
          "yaxis": {
           "automargin": true,
           "gridcolor": "white",
           "linecolor": "white",
           "ticks": "",
           "title": {
            "standoff": 15
           },
           "zerolinecolor": "white",
           "zerolinewidth": 2
          }
         }
        },
        "title": {
         "text": "Number of views"
        },
        "xaxis": {
         "autorange": true,
         "range": [
          -0.8119327829498214,
          14.811932782949821
         ]
        },
        "yaxis": {
         "autorange": true,
         "range": [
          -615.6660301048546,
          9487.854394904856
         ],
         "type": "linear"
        }
       }
      },
      "image/png": "[encoded data removed]",
      "text/html": [
       "<div>                            <div id=\"fee744a4-8fbe-44a9-b813-0d4d9ac23386\" class=\"plotly-graph-div\" style=\"height:525px; width:100%;\"></div>            <script type=\"text/javascript\">                require([\"plotly\"], function(Plotly) {                    window.PLOTLYENV=window.PLOTLYENV || {};                                    if (document.getElementById(\"fee744a4-8fbe-44a9-b813-0d4d9ac23386\")) {                    Plotly.newPlot(                        \"fee744a4-8fbe-44a9-b813-0d4d9ac23386\",                        [{\"name\":\"views\",\"type\":\"scatter\",\"y\":[100,200,300,400,500,1000,2000,4000,3000,2000,1000,500,300,200,100]},{\"name\":\"sales, l=0.15\",\"type\":\"scatter\",\"y\":[100.0,215.0,332.25,449.8375,567.475625,1085.12134375,2162.7682015625,4324.415230234375,3648.6622845351562,2547.299342680273,1382.094901402041,707.3142352103062,406.0971352815459,260.9145702922319,139.1371855438348]},{\"name\":\"sales, l=0.25\",\"type\":\"scatter\",\"y\":[100.0,225.0,356.25,489.0625,622.265625,1155.56640625,2288.8916015625,4572.222900390625,4143.055725097656,3035.763931274414,1758.9409828186035,939.7352457046509,534.9338114261627,333.7334528565407,183.43336321413517]},{\"name\":\"sales, l=0.50\",\"type\":\"scatter\",\"y\":[100.0,250.0,425.0,612.5,806.25,1403.125,2701.5625,5350.78125,5675.390625,4837.6953125,3418.84765625,2209.423828125,1404.7119140625,902.35595703125,551.177978515625]},{\"name\":\"sales, l=0.80\",\"type\":\"scatter\",\"y\":[100.0,280.0,524.0,819.2,1155.3600000000001,1924.288,3539.4304,6831.544320000001,8465.235456000002,8772.188364800002,8017.750691840002,6914.200553472002,5831.360442777602,4865.088354222082,3992.070683377666]}],                        {\"template\":{\"data\":{\"bar\":[{\"error_x\":{\"color\":\"#2a3f5f\"},\"error_y\":{\"color\":\"#2a3f5f\"},\"marker\":{\"line\":{\"color\":\"#E5ECF6\",\"width\":0.5},\"pattern\":{\"fillmode\":\"overlay\",\"size\":10,\"solidity\":0.2}},\"type\":\"bar\"}],\"barpolar\":[{\"marker\":{\"line\":{\"color\":\"#E5ECF6\",\"width\":0.5},\"pattern\":{\"fillmode\":\"overlay\",\"size\":10,\"solidity\":0.2}},\"type\":\"barpolar\"}],\"carpet\":[{\"aaxis\":{\"endlinecolor\":\"#2a3f5f\",\"gridcolor\":\"white\",\"linecolor\":\"white\",\"minorgridcolor\":\"white\",\"startlinecolor\":\"#2a3f5f\"},\"baxis\":{\"endlinecolor\":\"#2a3f5f\",\"gridcolor\":\"white\",\"linecolor\":\"white\",\"minorgridcolor\":\"white\",\"startlinecolor\":\"#2a3f5f\"},\"type\":\"carpet\"}],\"choropleth\":[{\"colorbar\":{\"outlinewidth\":0,\"ticks\":\"\"},\"type\":\"choropleth\"}],\"contour\":[{\"colorbar\":{\"outlinewidth\":0,\"ticks\":\"\"},\"colorscale\":[[0.0,\"#0d0887\"],[0.1111111111111111,\"#46039f\"],[0.2222222222222222,\"#7201a8\"],[0.3333333333333333,\"#9c179e\"],[0.4444444444444444,\"#bd3786\"],[0.5555555555555556,\"#d8576b\"],[0.6666666666666666,\"#ed7953\"],[0.7777777777777778,\"#fb9f3a\"],[0.8888888888888888,\"#fdca26\"],[1.0,\"#f0f921\"]],\"type\":\"contour\"}],\"contourcarpet\":[{\"colorbar\":{\"outlinewidth\":0,\"ticks\":\"\"},\"type\":\"contourcarpet\"}],\"heatmap\":[{\"colorbar\":{\"outlinewidth\":0,\"ticks\":\"\"},\"colorscale\":[[0.0,\"#0d0887\"],[0.1111111111111111,\"#46039f\"],[0.2222222222222222,\"#7201a8\"],[0.3333333333333333,\"#9c179e\"],[0.4444444444444444,\"#bd3786\"],[0.5555555555555556,\"#d8576b\"],[0.6666666666666666,\"#ed7953\"],[0.7777777777777778,\"#fb9f3a\"],[0.8888888888888888,\"#fdca26\"],[1.0,\"#f0f921\"]],\"type\":\"heatmap\"}],\"heatmapgl\":[{\"colorbar\":{\"outlinewidth\":0,\"ticks\":\"\"},\"colorscale\":[[0.0,\"#0d0887\"],[0.1111111111111111,\"#46039f\"],[0.2222222222222222,\"#7201a8\"],[0.3333333333333333,\"#9c179e\"],[0.4444444444444444,\"#bd3786\"],[0.5555555555555556,\"#d8576b\"],[0.6666666666666666,\"#ed7953\"],[0.7777777777777778,\"#fb9f3a\"],[0.8888888888888888,\"#fdca26\"],[1.0,\"#f0f921\"]],\"type\":\"heatmapgl\"}],\"histogram\":[{\"marker\":{\"pattern\":{\"fillmode\":\"overlay\",\"size\":10,\"solidity\":0.2}},\"type\":\"histogram\"}],\"histogram2d\":[{\"colorbar\":{\"outlinewidth\":0,\"ticks\":\"\"},\"colorscale\":[[0.0,\"#0d0887\"],[0.1111111111111111,\"#46039f\"],[0.2222222222222222,\"#7201a8\"],[0.3333333333333333,\"#9c179e\"],[0.4444444444444444,\"#bd3786\"],[0.5555555555555556,\"#d8576b\"],[0.6666666666666666,\"#ed7953\"],[0.7777777777777778,\"#fb9f3a\"],[0.8888888888888888,\"#fdca26\"],[1.0,\"#f0f921\"]],\"type\":\"histogram2d\"}],\"histogram2dcontour\":[{\"colorbar\":{\"outlinewidth\":0,\"ticks\":\"\"},\"colorscale\":[[0.0,\"#0d0887\"],[0.1111111111111111,\"#46039f\"],[0.2222222222222222,\"#7201a8\"],[0.3333333333333333,\"#9c179e\"],[0.4444444444444444,\"#bd3786\"],[0.5555555555555556,\"#d8576b\"],[0.6666666666666666,\"#ed7953\"],[0.7777777777777778,\"#fb9f3a\"],[0.8888888888888888,\"#fdca26\"],[1.0,\"#f0f921\"]],\"type\":\"histogram2dcontour\"}],\"mesh3d\":[{\"colorbar\":{\"outlinewidth\":0,\"ticks\":\"\"},\"type\":\"mesh3d\"}],\"parcoords\":[{\"line\":{\"colorbar\":{\"outlinewidth\":0,\"ticks\":\"\"}},\"type\":\"parcoords\"}],\"pie\":[{\"automargin\":true,\"type\":\"pie\"}],\"scatter\":[{\"marker\":{\"colorbar\":{\"outlinewidth\":0,\"ticks\":\"\"}},\"type\":\"scatter\"}],\"scatter3d\":[{\"line\":{\"colorbar\":{\"outlinewidth\":0,\"ticks\":\"\"}},\"marker\":{\"colorbar\":{\"outlinewidth\":0,\"ticks\":\"\"}},\"type\":\"scatter3d\"}],\"scattercarpet\":[{\"marker\":{\"colorbar\":{\"outlinewidth\":0,\"ticks\":\"\"}},\"type\":\"scattercarpet\"}],\"scattergeo\":[{\"marker\":{\"colorbar\":{\"outlinewidth\":0,\"ticks\":\"\"}},\"type\":\"scattergeo\"}],\"scattergl\":[{\"marker\":{\"colorbar\":{\"outlinewidth\":0,\"ticks\":\"\"}},\"type\":\"scattergl\"}],\"scattermapbox\":[{\"marker\":{\"colorbar\":{\"outlinewidth\":0,\"ticks\":\"\"}},\"type\":\"scattermapbox\"}],\"scatterpolar\":[{\"marker\":{\"colorbar\":{\"outlinewidth\":0,\"ticks\":\"\"}},\"type\":\"scatterpolar\"}],\"scatterpolargl\":[{\"marker\":{\"colorbar\":{\"outlinewidth\":0,\"ticks\":\"\"}},\"type\":\"scatterpolargl\"}],\"scatterternary\":[{\"marker\":{\"colorbar\":{\"outlinewidth\":0,\"ticks\":\"\"}},\"type\":\"scatterternary\"}],\"surface\":[{\"colorbar\":{\"outlinewidth\":0,\"ticks\":\"\"},\"colorscale\":[[0.0,\"#0d0887\"],[0.1111111111111111,\"#46039f\"],[0.2222222222222222,\"#7201a8\"],[0.3333333333333333,\"#9c179e\"],[0.4444444444444444,\"#bd3786\"],[0.5555555555555556,\"#d8576b\"],[0.6666666666666666,\"#ed7953\"],[0.7777777777777778,\"#fb9f3a\"],[0.8888888888888888,\"#fdca26\"],[1.0,\"#f0f921\"]],\"type\":\"surface\"}],\"table\":[{\"cells\":{\"fill\":{\"color\":\"#EBF0F8\"},\"line\":{\"color\":\"white\"}},\"header\":{\"fill\":{\"color\":\"#C8D4E3\"},\"line\":{\"color\":\"white\"}},\"type\":\"table\"}]},\"layout\":{\"annotationdefaults\":{\"arrowcolor\":\"#2a3f5f\",\"arrowhead\":0,\"arrowwidth\":1},\"autotypenumbers\":\"strict\",\"coloraxis\":{\"colorbar\":{\"outlinewidth\":0,\"ticks\":\"\"}},\"colorscale\":{\"diverging\":[[0,\"#8e0152\"],[0.1,\"#c51b7d\"],[0.2,\"#de77ae\"],[0.3,\"#f1b6da\"],[0.4,\"#fde0ef\"],[0.5,\"#f7f7f7\"],[0.6,\"#e6f5d0\"],[0.7,\"#b8e186\"],[0.8,\"#7fbc41\"],[0.9,\"#4d9221\"],[1,\"#276419\"]],\"sequential\":[[0.0,\"#0d0887\"],[0.1111111111111111,\"#46039f\"],[0.2222222222222222,\"#7201a8\"],[0.3333333333333333,\"#9c179e\"],[0.4444444444444444,\"#bd3786\"],[0.5555555555555556,\"#d8576b\"],[0.6666666666666666,\"#ed7953\"],[0.7777777777777778,\"#fb9f3a\"],[0.8888888888888888,\"#fdca26\"],[1.0,\"#f0f921\"]],\"sequentialminus\":[[0.0,\"#0d0887\"],[0.1111111111111111,\"#46039f\"],[0.2222222222222222,\"#7201a8\"],[0.3333333333333333,\"#9c179e\"],[0.4444444444444444,\"#bd3786\"],[0.5555555555555556,\"#d8576b\"],[0.6666666666666666,\"#ed7953\"],[0.7777777777777778,\"#fb9f3a\"],[0.8888888888888888,\"#fdca26\"],[1.0,\"#f0f921\"]]},\"colorway\":[\"#636efa\",\"#EF553B\",\"#00cc96\",\"#ab63fa\",\"#FFA15A\",\"#19d3f3\",\"#FF6692\",\"#B6E880\",\"#FF97FF\",\"#FECB52\"],\"font\":{\"color\":\"#2a3f5f\"},\"geo\":{\"bgcolor\":\"white\",\"lakecolor\":\"white\",\"landcolor\":\"#E5ECF6\",\"showlakes\":true,\"showland\":true,\"subunitcolor\":\"white\"},\"hoverlabel\":{\"align\":\"left\"},\"hovermode\":\"closest\",\"mapbox\":{\"style\":\"light\"},\"paper_bgcolor\":\"white\",\"plot_bgcolor\":\"#E5ECF6\",\"polar\":{\"angularaxis\":{\"gridcolor\":\"white\",\"linecolor\":\"white\",\"ticks\":\"\"},\"bgcolor\":\"#E5ECF6\",\"radialaxis\":{\"gridcolor\":\"white\",\"linecolor\":\"white\",\"ticks\":\"\"}},\"scene\":{\"xaxis\":{\"backgroundcolor\":\"#E5ECF6\",\"gridcolor\":\"white\",\"gridwidth\":2,\"linecolor\":\"white\",\"showbackground\":true,\"ticks\":\"\",\"zerolinecolor\":\"white\"},\"yaxis\":{\"backgroundcolor\":\"#E5ECF6\",\"gridcolor\":\"white\",\"gridwidth\":2,\"linecolor\":\"white\",\"showbackground\":true,\"ticks\":\"\",\"zerolinecolor\":\"white\"},\"zaxis\":{\"backgroundcolor\":\"#E5ECF6\",\"gridcolor\":\"white\",\"gridwidth\":2,\"linecolor\":\"white\",\"showbackground\":true,\"ticks\":\"\",\"zerolinecolor\":\"white\"}},\"shapedefaults\":{\"line\":{\"color\":\"#2a3f5f\"}},\"ternary\":{\"aaxis\":{\"gridcolor\":\"white\",\"linecolor\":\"white\",\"ticks\":\"\"},\"baxis\":{\"gridcolor\":\"white\",\"linecolor\":\"white\",\"ticks\":\"\"},\"bgcolor\":\"#E5ECF6\",\"caxis\":{\"gridcolor\":\"white\",\"linecolor\":\"white\",\"ticks\":\"\"}},\"title\":{\"x\":0.05},\"xaxis\":{\"automargin\":true,\"gridcolor\":\"white\",\"linecolor\":\"white\",\"ticks\":\"\",\"title\":{\"standoff\":15},\"zerolinecolor\":\"white\",\"zerolinewidth\":2},\"yaxis\":{\"automargin\":true,\"gridcolor\":\"white\",\"linecolor\":\"white\",\"ticks\":\"\",\"title\":{\"standoff\":15},\"zerolinecolor\":\"white\",\"zerolinewidth\":2}}},\"title\":{\"text\":\"Number of views\"}},                        {\"responsive\": true}                    ).then(function(){\n",
       "                            \n",
       "var gd = document.getElementById('fee744a4-8fbe-44a9-b813-0d4d9ac23386');\n",
       "var x = new MutationObserver(function (mutations, observer) {{\n",
       "        var display = window.getComputedStyle(gd).display;\n",
       "        if (!display || display === 'none') {{\n",
       "            console.log([gd, 'removed!']);\n",
       "            Plotly.purge(gd);\n",
       "            observer.disconnect();\n",
       "        }}\n",
       "}});\n",
       "\n",
       "// Listen for the removal of the full notebook cells\n",
       "var notebookContainer = gd.closest('#notebook-container');\n",
       "if (notebookContainer) {{\n",
       "    x.observe(notebookContainer, {childList: true});\n",
       "}}\n",
       "\n",
       "// Listen for the clearing of the current output cell\n",
       "var outputEl = gd.closest('.output');\n",
       "if (outputEl) {{\n",
       "    x.observe(outputEl, {childList: true});\n",
       "}}\n",
       "\n",
       "                        })                };                });            </script>        </div>"
      ]
     },
     "metadata": {},
     "output_type": "display_data"
    }
   ],
   "source": [
    "data = []\n",
    "for l in A.keys():\n",
    "    data.append(go.Scatter(y=A[l], name=f\"sales, l={l/100:.2f}\"))\n",
    "go.Figure(data=[go.Scatter(y=T, name=\"views\")] + data,\n",
    "          layout=go.Layout(title=\"Number of views\"))"
   ]
  },
  {
   "cell_type": "markdown",
   "metadata": {},
   "source": [
    "# Log Decay Model"
   ]
  },
  {
   "cell_type": "markdown",
   "metadata": {},
   "source": [
    "$A_t = \\log(T_t) + \\lambda A_{t-1}$,  \n",
    "Values are the same"
   ]
  },
  {
   "cell_type": "code",
   "execution_count": 103,
   "metadata": {},
   "outputs": [],
   "source": [
    "# 0 < l < 100\n",
    "l_values = [15, 40, 60, 80]"
   ]
  },
  {
   "cell_type": "code",
   "execution_count": 104,
   "metadata": {},
   "outputs": [],
   "source": [
    "A = {}\n",
    "for l in l_values:\n",
    "    A_l = []\n",
    "    A_prev = 0\n",
    "    for i in range(len(T)):\n",
    "        A_cur = np.log(T[i]) + l/100 * A_prev\n",
    "        A_l.append(A_cur)\n",
    "        A_prev = A_cur\n",
    "    A[l] = np.array(A_l)"
   ]
  },
  {
   "cell_type": "code",
   "execution_count": 105,
   "metadata": {},
   "outputs": [
    {
     "data": {
      "application/vnd.plotly.v1+json": {
       "config": {
        "plotlyServerURL": "https://plot.ly"
       },
       "data": [
        {
         "name": "views",
         "type": "scatter",
         "y": [
          100,
          200,
          300,
          400,
          500,
          1000,
          2000,
          4000,
          3000,
          2000,
          1000,
          500,
          300,
          200,
          100
         ]
        },
        {
         "name": "sales, l=0.15",
         "type": "scatter",
         "y": [
          4.605170185988092,
          5.98909289444625,
          6.602146408823138,
          6.981786508431452,
          7.261876074686909,
          7.997036690185173,
          8.800457963069858,
          9.614118334562507,
          9.448485317834622,
          9.018175257217276,
          8.260481567564728,
          7.453680333556901,
          6.821834524689736,
          6.321592545251496,
          5.553409067775816
         ]
        },
        {
         "name": "sales, l=0.40",
         "type": "scatter",
         "y": [
          4.605170185988092,
          7.140385440943273,
          8.55993665103351,
          9.415439207521386,
          9.980783781430747,
          10.900068791554435,
          11.960929976163857,
          13.078421630567572,
          13.237736219877275,
          12.895996947492993,
          12.066154057979334,
          11.041069721613926,
          10.120210363301773,
          9.346401511868745,
          8.34373079073559
         ]
        },
        {
         "name": "sales, l=0.60",
         "type": "scatter",
         "y": [
          4.605170185988092,
          8.061419478140891,
          10.540634161540735,
          12.315845044032422,
          13.604115124841645,
          15.070224353887124,
          16.643037071874357,
          18.27987188322664,
          18.97429069758623,
          18.98547687809382,
          18.29904140583843,
          17.19403294192525,
          16.02020223981135,
          14.910438710434846,
          13.551433412248999
         ]
        },
        {
         "name": "sales, l=0.80",
         "type": "scatter",
         "y": [
          4.605170185988092,
          8.98245351533851,
          12.88974528692701,
          16.30326077664959,
          19.257216719741862,
          22.313528654775627,
          25.451725383362586,
          28.655429946792097,
          30.93071152508392,
          32.34547167960922,
          32.78413262266952,
          32.4419141965578,
          31.657313831902446,
          30.624168432069997,
          29.104504931644094
         ]
        }
       ],
       "layout": {
        "autosize": true,
        "template": {
         "data": {
          "bar": [
           {
            "error_x": {
             "color": "#2a3f5f"
            },
            "error_y": {
             "color": "#2a3f5f"
            },
            "marker": {
             "line": {
              "color": "#E5ECF6",
              "width": 0.5
             },
             "pattern": {
              "fillmode": "overlay",
              "size": 10,
              "solidity": 0.2
             }
            },
            "type": "bar"
           }
          ],
          "barpolar": [
           {
            "marker": {
             "line": {
              "color": "#E5ECF6",
              "width": 0.5
             },
             "pattern": {
              "fillmode": "overlay",
              "size": 10,
              "solidity": 0.2
             }
            },
            "type": "barpolar"
           }
          ],
          "carpet": [
           {
            "aaxis": {
             "endlinecolor": "#2a3f5f",
             "gridcolor": "white",
             "linecolor": "white",
             "minorgridcolor": "white",
             "startlinecolor": "#2a3f5f"
            },
            "baxis": {
             "endlinecolor": "#2a3f5f",
             "gridcolor": "white",
             "linecolor": "white",
             "minorgridcolor": "white",
             "startlinecolor": "#2a3f5f"
            },
            "type": "carpet"
           }
          ],
          "choropleth": [
           {
            "colorbar": {
             "outlinewidth": 0,
             "ticks": ""
            },
            "type": "choropleth"
           }
          ],
          "contour": [
           {
            "colorbar": {
             "outlinewidth": 0,
             "ticks": ""
            },
            "colorscale": [
             [
              0,
              "#0d0887"
             ],
             [
              0.1111111111111111,
              "#46039f"
             ],
             [
              0.2222222222222222,
              "#7201a8"
             ],
             [
              0.3333333333333333,
              "#9c179e"
             ],
             [
              0.4444444444444444,
              "#bd3786"
             ],
             [
              0.5555555555555556,
              "#d8576b"
             ],
             [
              0.6666666666666666,
              "#ed7953"
             ],
             [
              0.7777777777777778,
              "#fb9f3a"
             ],
             [
              0.8888888888888888,
              "#fdca26"
             ],
             [
              1,
              "#f0f921"
             ]
            ],
            "type": "contour"
           }
          ],
          "contourcarpet": [
           {
            "colorbar": {
             "outlinewidth": 0,
             "ticks": ""
            },
            "type": "contourcarpet"
           }
          ],
          "heatmap": [
           {
            "colorbar": {
             "outlinewidth": 0,
             "ticks": ""
            },
            "colorscale": [
             [
              0,
              "#0d0887"
             ],
             [
              0.1111111111111111,
              "#46039f"
             ],
             [
              0.2222222222222222,
              "#7201a8"
             ],
             [
              0.3333333333333333,
              "#9c179e"
             ],
             [
              0.4444444444444444,
              "#bd3786"
             ],
             [
              0.5555555555555556,
              "#d8576b"
             ],
             [
              0.6666666666666666,
              "#ed7953"
             ],
             [
              0.7777777777777778,
              "#fb9f3a"
             ],
             [
              0.8888888888888888,
              "#fdca26"
             ],
             [
              1,
              "#f0f921"
             ]
            ],
            "type": "heatmap"
           }
          ],
          "heatmapgl": [
           {
            "colorbar": {
             "outlinewidth": 0,
             "ticks": ""
            },
            "colorscale": [
             [
              0,
              "#0d0887"
             ],
             [
              0.1111111111111111,
              "#46039f"
             ],
             [
              0.2222222222222222,
              "#7201a8"
             ],
             [
              0.3333333333333333,
              "#9c179e"
             ],
             [
              0.4444444444444444,
              "#bd3786"
             ],
             [
              0.5555555555555556,
              "#d8576b"
             ],
             [
              0.6666666666666666,
              "#ed7953"
             ],
             [
              0.7777777777777778,
              "#fb9f3a"
             ],
             [
              0.8888888888888888,
              "#fdca26"
             ],
             [
              1,
              "#f0f921"
             ]
            ],
            "type": "heatmapgl"
           }
          ],
          "histogram": [
           {
            "marker": {
             "pattern": {
              "fillmode": "overlay",
              "size": 10,
              "solidity": 0.2
             }
            },
            "type": "histogram"
           }
          ],
          "histogram2d": [
           {
            "colorbar": {
             "outlinewidth": 0,
             "ticks": ""
            },
            "colorscale": [
             [
              0,
              "#0d0887"
             ],
             [
              0.1111111111111111,
              "#46039f"
             ],
             [
              0.2222222222222222,
              "#7201a8"
             ],
             [
              0.3333333333333333,
              "#9c179e"
             ],
             [
              0.4444444444444444,
              "#bd3786"
             ],
             [
              0.5555555555555556,
              "#d8576b"
             ],
             [
              0.6666666666666666,
              "#ed7953"
             ],
             [
              0.7777777777777778,
              "#fb9f3a"
             ],
             [
              0.8888888888888888,
              "#fdca26"
             ],
             [
              1,
              "#f0f921"
             ]
            ],
            "type": "histogram2d"
           }
          ],
          "histogram2dcontour": [
           {
            "colorbar": {
             "outlinewidth": 0,
             "ticks": ""
            },
            "colorscale": [
             [
              0,
              "#0d0887"
             ],
             [
              0.1111111111111111,
              "#46039f"
             ],
             [
              0.2222222222222222,
              "#7201a8"
             ],
             [
              0.3333333333333333,
              "#9c179e"
             ],
             [
              0.4444444444444444,
              "#bd3786"
             ],
             [
              0.5555555555555556,
              "#d8576b"
             ],
             [
              0.6666666666666666,
              "#ed7953"
             ],
             [
              0.7777777777777778,
              "#fb9f3a"
             ],
             [
              0.8888888888888888,
              "#fdca26"
             ],
             [
              1,
              "#f0f921"
             ]
            ],
            "type": "histogram2dcontour"
           }
          ],
          "mesh3d": [
           {
            "colorbar": {
             "outlinewidth": 0,
             "ticks": ""
            },
            "type": "mesh3d"
           }
          ],
          "parcoords": [
           {
            "line": {
             "colorbar": {
              "outlinewidth": 0,
              "ticks": ""
             }
            },
            "type": "parcoords"
           }
          ],
          "pie": [
           {
            "automargin": true,
            "type": "pie"
           }
          ],
          "scatter": [
           {
            "marker": {
             "colorbar": {
              "outlinewidth": 0,
              "ticks": ""
             }
            },
            "type": "scatter"
           }
          ],
          "scatter3d": [
           {
            "line": {
             "colorbar": {
              "outlinewidth": 0,
              "ticks": ""
             }
            },
            "marker": {
             "colorbar": {
              "outlinewidth": 0,
              "ticks": ""
             }
            },
            "type": "scatter3d"
           }
          ],
          "scattercarpet": [
           {
            "marker": {
             "colorbar": {
              "outlinewidth": 0,
              "ticks": ""
             }
            },
            "type": "scattercarpet"
           }
          ],
          "scattergeo": [
           {
            "marker": {
             "colorbar": {
              "outlinewidth": 0,
              "ticks": ""
             }
            },
            "type": "scattergeo"
           }
          ],
          "scattergl": [
           {
            "marker": {
             "colorbar": {
              "outlinewidth": 0,
              "ticks": ""
             }
            },
            "type": "scattergl"
           }
          ],
          "scattermapbox": [
           {
            "marker": {
             "colorbar": {
              "outlinewidth": 0,
              "ticks": ""
             }
            },
            "type": "scattermapbox"
           }
          ],
          "scatterpolar": [
           {
            "marker": {
             "colorbar": {
              "outlinewidth": 0,
              "ticks": ""
             }
            },
            "type": "scatterpolar"
           }
          ],
          "scatterpolargl": [
           {
            "marker": {
             "colorbar": {
              "outlinewidth": 0,
              "ticks": ""
             }
            },
            "type": "scatterpolargl"
           }
          ],
          "scatterternary": [
           {
            "marker": {
             "colorbar": {
              "outlinewidth": 0,
              "ticks": ""
             }
            },
            "type": "scatterternary"
           }
          ],
          "surface": [
           {
            "colorbar": {
             "outlinewidth": 0,
             "ticks": ""
            },
            "colorscale": [
             [
              0,
              "#0d0887"
             ],
             [
              0.1111111111111111,
              "#46039f"
             ],
             [
              0.2222222222222222,
              "#7201a8"
             ],
             [
              0.3333333333333333,
              "#9c179e"
             ],
             [
              0.4444444444444444,
              "#bd3786"
             ],
             [
              0.5555555555555556,
              "#d8576b"
             ],
             [
              0.6666666666666666,
              "#ed7953"
             ],
             [
              0.7777777777777778,
              "#fb9f3a"
             ],
             [
              0.8888888888888888,
              "#fdca26"
             ],
             [
              1,
              "#f0f921"
             ]
            ],
            "type": "surface"
           }
          ],
          "table": [
           {
            "cells": {
             "fill": {
              "color": "#EBF0F8"
             },
             "line": {
              "color": "white"
             }
            },
            "header": {
             "fill": {
              "color": "#C8D4E3"
             },
             "line": {
              "color": "white"
             }
            },
            "type": "table"
           }
          ]
         },
         "layout": {
          "annotationdefaults": {
           "arrowcolor": "#2a3f5f",
           "arrowhead": 0,
           "arrowwidth": 1
          },
          "autotypenumbers": "strict",
          "coloraxis": {
           "colorbar": {
            "outlinewidth": 0,
            "ticks": ""
           }
          },
          "colorscale": {
           "diverging": [
            [
             0,
             "#8e0152"
            ],
            [
             0.1,
             "#c51b7d"
            ],
            [
             0.2,
             "#de77ae"
            ],
            [
             0.3,
             "#f1b6da"
            ],
            [
             0.4,
             "#fde0ef"
            ],
            [
             0.5,
             "#f7f7f7"
            ],
            [
             0.6,
             "#e6f5d0"
            ],
            [
             0.7,
             "#b8e186"
            ],
            [
             0.8,
             "#7fbc41"
            ],
            [
             0.9,
             "#4d9221"
            ],
            [
             1,
             "#276419"
            ]
           ],
           "sequential": [
            [
             0,
             "#0d0887"
            ],
            [
             0.1111111111111111,
             "#46039f"
            ],
            [
             0.2222222222222222,
             "#7201a8"
            ],
            [
             0.3333333333333333,
             "#9c179e"
            ],
            [
             0.4444444444444444,
             "#bd3786"
            ],
            [
             0.5555555555555556,
             "#d8576b"
            ],
            [
             0.6666666666666666,
             "#ed7953"
            ],
            [
             0.7777777777777778,
             "#fb9f3a"
            ],
            [
             0.8888888888888888,
             "#fdca26"
            ],
            [
             1,
             "#f0f921"
            ]
           ],
           "sequentialminus": [
            [
             0,
             "#0d0887"
            ],
            [
             0.1111111111111111,
             "#46039f"
            ],
            [
             0.2222222222222222,
             "#7201a8"
            ],
            [
             0.3333333333333333,
             "#9c179e"
            ],
            [
             0.4444444444444444,
             "#bd3786"
            ],
            [
             0.5555555555555556,
             "#d8576b"
            ],
            [
             0.6666666666666666,
             "#ed7953"
            ],
            [
             0.7777777777777778,
             "#fb9f3a"
            ],
            [
             0.8888888888888888,
             "#fdca26"
            ],
            [
             1,
             "#f0f921"
            ]
           ]
          },
          "colorway": [
           "#636efa",
           "#EF553B",
           "#00cc96",
           "#ab63fa",
           "#FFA15A",
           "#19d3f3",
           "#FF6692",
           "#B6E880",
           "#FF97FF",
           "#FECB52"
          ],
          "font": {
           "color": "#2a3f5f"
          },
          "geo": {
           "bgcolor": "white",
           "lakecolor": "white",
           "landcolor": "#E5ECF6",
           "showlakes": true,
           "showland": true,
           "subunitcolor": "white"
          },
          "hoverlabel": {
           "align": "left"
          },
          "hovermode": "closest",
          "mapbox": {
           "style": "light"
          },
          "paper_bgcolor": "white",
          "plot_bgcolor": "#E5ECF6",
          "polar": {
           "angularaxis": {
            "gridcolor": "white",
            "linecolor": "white",
            "ticks": ""
           },
           "bgcolor": "#E5ECF6",
           "radialaxis": {
            "gridcolor": "white",
            "linecolor": "white",
            "ticks": ""
           }
          },
          "scene": {
           "xaxis": {
            "backgroundcolor": "#E5ECF6",
            "gridcolor": "white",
            "gridwidth": 2,
            "linecolor": "white",
            "showbackground": true,
            "ticks": "",
            "zerolinecolor": "white"
           },
           "yaxis": {
            "backgroundcolor": "#E5ECF6",
            "gridcolor": "white",
            "gridwidth": 2,
            "linecolor": "white",
            "showbackground": true,
            "ticks": "",
            "zerolinecolor": "white"
           },
           "zaxis": {
            "backgroundcolor": "#E5ECF6",
            "gridcolor": "white",
            "gridwidth": 2,
            "linecolor": "white",
            "showbackground": true,
            "ticks": "",
            "zerolinecolor": "white"
           }
          },
          "shapedefaults": {
           "line": {
            "color": "#2a3f5f"
           }
          },
          "ternary": {
           "aaxis": {
            "gridcolor": "white",
            "linecolor": "white",
            "ticks": ""
           },
           "baxis": {
            "gridcolor": "white",
            "linecolor": "white",
            "ticks": ""
           },
           "bgcolor": "#E5ECF6",
           "caxis": {
            "gridcolor": "white",
            "linecolor": "white",
            "ticks": ""
           }
          },
          "title": {
           "x": 0.05
          },
          "xaxis": {
           "automargin": true,
           "gridcolor": "white",
           "linecolor": "white",
           "ticks": "",
           "title": {
            "standoff": 15
           },
           "zerolinecolor": "white",
           "zerolinewidth": 2
          },
          "yaxis": {
           "automargin": true,
           "gridcolor": "white",
           "linecolor": "white",
           "ticks": "",
           "title": {
            "standoff": 15
           },
           "zerolinecolor": "white",
           "zerolinewidth": 2
          }
         }
        },
        "title": {
         "text": "Number of views"
        },
        "xaxis": {
         "autorange": true,
         "range": [
          -0.8119327829498214,
          14.811932782949821
         ]
        },
        "yaxis": {
         "autorange": true,
         "range": [
          0.4207221735945278,
          3.8445835020968784
         ],
         "type": "log"
        }
       }
      },
      "image/png": "[encoded data removed]",
      "text/html": [
       "<div>                            <div id=\"a761af06-54e2-446c-9884-f7ad12c7022e\" class=\"plotly-graph-div\" style=\"height:525px; width:100%;\"></div>            <script type=\"text/javascript\">                require([\"plotly\"], function(Plotly) {                    window.PLOTLYENV=window.PLOTLYENV || {};                                    if (document.getElementById(\"a761af06-54e2-446c-9884-f7ad12c7022e\")) {                    Plotly.newPlot(                        \"a761af06-54e2-446c-9884-f7ad12c7022e\",                        [{\"name\":\"views\",\"type\":\"scatter\",\"y\":[100,200,300,400,500,1000,2000,4000,3000,2000,1000,500,300,200,100]},{\"name\":\"sales, l=0.15\",\"type\":\"scatter\",\"y\":[4.605170185988092,5.98909289444625,6.602146408823138,6.981786508431452,7.261876074686909,7.997036690185173,8.800457963069858,9.614118334562507,9.448485317834622,9.018175257217276,8.260481567564728,7.453680333556901,6.821834524689736,6.321592545251496,5.553409067775816]},{\"name\":\"sales, l=0.40\",\"type\":\"scatter\",\"y\":[4.605170185988092,7.140385440943273,8.55993665103351,9.415439207521386,9.980783781430747,10.900068791554435,11.960929976163857,13.078421630567572,13.237736219877275,12.895996947492993,12.066154057979334,11.041069721613926,10.120210363301773,9.346401511868745,8.34373079073559]},{\"name\":\"sales, l=0.60\",\"type\":\"scatter\",\"y\":[4.605170185988092,8.061419478140891,10.540634161540735,12.315845044032422,13.604115124841645,15.070224353887124,16.643037071874357,18.27987188322664,18.97429069758623,18.98547687809382,18.29904140583843,17.19403294192525,16.02020223981135,14.910438710434846,13.551433412248999]},{\"name\":\"sales, l=0.80\",\"type\":\"scatter\",\"y\":[4.605170185988092,8.98245351533851,12.88974528692701,16.30326077664959,19.257216719741862,22.313528654775627,25.451725383362586,28.655429946792097,30.93071152508392,32.34547167960922,32.78413262266952,32.4419141965578,31.657313831902446,30.624168432069997,29.104504931644094]}],                        {\"template\":{\"data\":{\"bar\":[{\"error_x\":{\"color\":\"#2a3f5f\"},\"error_y\":{\"color\":\"#2a3f5f\"},\"marker\":{\"line\":{\"color\":\"#E5ECF6\",\"width\":0.5},\"pattern\":{\"fillmode\":\"overlay\",\"size\":10,\"solidity\":0.2}},\"type\":\"bar\"}],\"barpolar\":[{\"marker\":{\"line\":{\"color\":\"#E5ECF6\",\"width\":0.5},\"pattern\":{\"fillmode\":\"overlay\",\"size\":10,\"solidity\":0.2}},\"type\":\"barpolar\"}],\"carpet\":[{\"aaxis\":{\"endlinecolor\":\"#2a3f5f\",\"gridcolor\":\"white\",\"linecolor\":\"white\",\"minorgridcolor\":\"white\",\"startlinecolor\":\"#2a3f5f\"},\"baxis\":{\"endlinecolor\":\"#2a3f5f\",\"gridcolor\":\"white\",\"linecolor\":\"white\",\"minorgridcolor\":\"white\",\"startlinecolor\":\"#2a3f5f\"},\"type\":\"carpet\"}],\"choropleth\":[{\"colorbar\":{\"outlinewidth\":0,\"ticks\":\"\"},\"type\":\"choropleth\"}],\"contour\":[{\"colorbar\":{\"outlinewidth\":0,\"ticks\":\"\"},\"colorscale\":[[0.0,\"#0d0887\"],[0.1111111111111111,\"#46039f\"],[0.2222222222222222,\"#7201a8\"],[0.3333333333333333,\"#9c179e\"],[0.4444444444444444,\"#bd3786\"],[0.5555555555555556,\"#d8576b\"],[0.6666666666666666,\"#ed7953\"],[0.7777777777777778,\"#fb9f3a\"],[0.8888888888888888,\"#fdca26\"],[1.0,\"#f0f921\"]],\"type\":\"contour\"}],\"contourcarpet\":[{\"colorbar\":{\"outlinewidth\":0,\"ticks\":\"\"},\"type\":\"contourcarpet\"}],\"heatmap\":[{\"colorbar\":{\"outlinewidth\":0,\"ticks\":\"\"},\"colorscale\":[[0.0,\"#0d0887\"],[0.1111111111111111,\"#46039f\"],[0.2222222222222222,\"#7201a8\"],[0.3333333333333333,\"#9c179e\"],[0.4444444444444444,\"#bd3786\"],[0.5555555555555556,\"#d8576b\"],[0.6666666666666666,\"#ed7953\"],[0.7777777777777778,\"#fb9f3a\"],[0.8888888888888888,\"#fdca26\"],[1.0,\"#f0f921\"]],\"type\":\"heatmap\"}],\"heatmapgl\":[{\"colorbar\":{\"outlinewidth\":0,\"ticks\":\"\"},\"colorscale\":[[0.0,\"#0d0887\"],[0.1111111111111111,\"#46039f\"],[0.2222222222222222,\"#7201a8\"],[0.3333333333333333,\"#9c179e\"],[0.4444444444444444,\"#bd3786\"],[0.5555555555555556,\"#d8576b\"],[0.6666666666666666,\"#ed7953\"],[0.7777777777777778,\"#fb9f3a\"],[0.8888888888888888,\"#fdca26\"],[1.0,\"#f0f921\"]],\"type\":\"heatmapgl\"}],\"histogram\":[{\"marker\":{\"pattern\":{\"fillmode\":\"overlay\",\"size\":10,\"solidity\":0.2}},\"type\":\"histogram\"}],\"histogram2d\":[{\"colorbar\":{\"outlinewidth\":0,\"ticks\":\"\"},\"colorscale\":[[0.0,\"#0d0887\"],[0.1111111111111111,\"#46039f\"],[0.2222222222222222,\"#7201a8\"],[0.3333333333333333,\"#9c179e\"],[0.4444444444444444,\"#bd3786\"],[0.5555555555555556,\"#d8576b\"],[0.6666666666666666,\"#ed7953\"],[0.7777777777777778,\"#fb9f3a\"],[0.8888888888888888,\"#fdca26\"],[1.0,\"#f0f921\"]],\"type\":\"histogram2d\"}],\"histogram2dcontour\":[{\"colorbar\":{\"outlinewidth\":0,\"ticks\":\"\"},\"colorscale\":[[0.0,\"#0d0887\"],[0.1111111111111111,\"#46039f\"],[0.2222222222222222,\"#7201a8\"],[0.3333333333333333,\"#9c179e\"],[0.4444444444444444,\"#bd3786\"],[0.5555555555555556,\"#d8576b\"],[0.6666666666666666,\"#ed7953\"],[0.7777777777777778,\"#fb9f3a\"],[0.8888888888888888,\"#fdca26\"],[1.0,\"#f0f921\"]],\"type\":\"histogram2dcontour\"}],\"mesh3d\":[{\"colorbar\":{\"outlinewidth\":0,\"ticks\":\"\"},\"type\":\"mesh3d\"}],\"parcoords\":[{\"line\":{\"colorbar\":{\"outlinewidth\":0,\"ticks\":\"\"}},\"type\":\"parcoords\"}],\"pie\":[{\"automargin\":true,\"type\":\"pie\"}],\"scatter\":[{\"marker\":{\"colorbar\":{\"outlinewidth\":0,\"ticks\":\"\"}},\"type\":\"scatter\"}],\"scatter3d\":[{\"line\":{\"colorbar\":{\"outlinewidth\":0,\"ticks\":\"\"}},\"marker\":{\"colorbar\":{\"outlinewidth\":0,\"ticks\":\"\"}},\"type\":\"scatter3d\"}],\"scattercarpet\":[{\"marker\":{\"colorbar\":{\"outlinewidth\":0,\"ticks\":\"\"}},\"type\":\"scattercarpet\"}],\"scattergeo\":[{\"marker\":{\"colorbar\":{\"outlinewidth\":0,\"ticks\":\"\"}},\"type\":\"scattergeo\"}],\"scattergl\":[{\"marker\":{\"colorbar\":{\"outlinewidth\":0,\"ticks\":\"\"}},\"type\":\"scattergl\"}],\"scattermapbox\":[{\"marker\":{\"colorbar\":{\"outlinewidth\":0,\"ticks\":\"\"}},\"type\":\"scattermapbox\"}],\"scatterpolar\":[{\"marker\":{\"colorbar\":{\"outlinewidth\":0,\"ticks\":\"\"}},\"type\":\"scatterpolar\"}],\"scatterpolargl\":[{\"marker\":{\"colorbar\":{\"outlinewidth\":0,\"ticks\":\"\"}},\"type\":\"scatterpolargl\"}],\"scatterternary\":[{\"marker\":{\"colorbar\":{\"outlinewidth\":0,\"ticks\":\"\"}},\"type\":\"scatterternary\"}],\"surface\":[{\"colorbar\":{\"outlinewidth\":0,\"ticks\":\"\"},\"colorscale\":[[0.0,\"#0d0887\"],[0.1111111111111111,\"#46039f\"],[0.2222222222222222,\"#7201a8\"],[0.3333333333333333,\"#9c179e\"],[0.4444444444444444,\"#bd3786\"],[0.5555555555555556,\"#d8576b\"],[0.6666666666666666,\"#ed7953\"],[0.7777777777777778,\"#fb9f3a\"],[0.8888888888888888,\"#fdca26\"],[1.0,\"#f0f921\"]],\"type\":\"surface\"}],\"table\":[{\"cells\":{\"fill\":{\"color\":\"#EBF0F8\"},\"line\":{\"color\":\"white\"}},\"header\":{\"fill\":{\"color\":\"#C8D4E3\"},\"line\":{\"color\":\"white\"}},\"type\":\"table\"}]},\"layout\":{\"annotationdefaults\":{\"arrowcolor\":\"#2a3f5f\",\"arrowhead\":0,\"arrowwidth\":1},\"autotypenumbers\":\"strict\",\"coloraxis\":{\"colorbar\":{\"outlinewidth\":0,\"ticks\":\"\"}},\"colorscale\":{\"diverging\":[[0,\"#8e0152\"],[0.1,\"#c51b7d\"],[0.2,\"#de77ae\"],[0.3,\"#f1b6da\"],[0.4,\"#fde0ef\"],[0.5,\"#f7f7f7\"],[0.6,\"#e6f5d0\"],[0.7,\"#b8e186\"],[0.8,\"#7fbc41\"],[0.9,\"#4d9221\"],[1,\"#276419\"]],\"sequential\":[[0.0,\"#0d0887\"],[0.1111111111111111,\"#46039f\"],[0.2222222222222222,\"#7201a8\"],[0.3333333333333333,\"#9c179e\"],[0.4444444444444444,\"#bd3786\"],[0.5555555555555556,\"#d8576b\"],[0.6666666666666666,\"#ed7953\"],[0.7777777777777778,\"#fb9f3a\"],[0.8888888888888888,\"#fdca26\"],[1.0,\"#f0f921\"]],\"sequentialminus\":[[0.0,\"#0d0887\"],[0.1111111111111111,\"#46039f\"],[0.2222222222222222,\"#7201a8\"],[0.3333333333333333,\"#9c179e\"],[0.4444444444444444,\"#bd3786\"],[0.5555555555555556,\"#d8576b\"],[0.6666666666666666,\"#ed7953\"],[0.7777777777777778,\"#fb9f3a\"],[0.8888888888888888,\"#fdca26\"],[1.0,\"#f0f921\"]]},\"colorway\":[\"#636efa\",\"#EF553B\",\"#00cc96\",\"#ab63fa\",\"#FFA15A\",\"#19d3f3\",\"#FF6692\",\"#B6E880\",\"#FF97FF\",\"#FECB52\"],\"font\":{\"color\":\"#2a3f5f\"},\"geo\":{\"bgcolor\":\"white\",\"lakecolor\":\"white\",\"landcolor\":\"#E5ECF6\",\"showlakes\":true,\"showland\":true,\"subunitcolor\":\"white\"},\"hoverlabel\":{\"align\":\"left\"},\"hovermode\":\"closest\",\"mapbox\":{\"style\":\"light\"},\"paper_bgcolor\":\"white\",\"plot_bgcolor\":\"#E5ECF6\",\"polar\":{\"angularaxis\":{\"gridcolor\":\"white\",\"linecolor\":\"white\",\"ticks\":\"\"},\"bgcolor\":\"#E5ECF6\",\"radialaxis\":{\"gridcolor\":\"white\",\"linecolor\":\"white\",\"ticks\":\"\"}},\"scene\":{\"xaxis\":{\"backgroundcolor\":\"#E5ECF6\",\"gridcolor\":\"white\",\"gridwidth\":2,\"linecolor\":\"white\",\"showbackground\":true,\"ticks\":\"\",\"zerolinecolor\":\"white\"},\"yaxis\":{\"backgroundcolor\":\"#E5ECF6\",\"gridcolor\":\"white\",\"gridwidth\":2,\"linecolor\":\"white\",\"showbackground\":true,\"ticks\":\"\",\"zerolinecolor\":\"white\"},\"zaxis\":{\"backgroundcolor\":\"#E5ECF6\",\"gridcolor\":\"white\",\"gridwidth\":2,\"linecolor\":\"white\",\"showbackground\":true,\"ticks\":\"\",\"zerolinecolor\":\"white\"}},\"shapedefaults\":{\"line\":{\"color\":\"#2a3f5f\"}},\"ternary\":{\"aaxis\":{\"gridcolor\":\"white\",\"linecolor\":\"white\",\"ticks\":\"\"},\"baxis\":{\"gridcolor\":\"white\",\"linecolor\":\"white\",\"ticks\":\"\"},\"bgcolor\":\"#E5ECF6\",\"caxis\":{\"gridcolor\":\"white\",\"linecolor\":\"white\",\"ticks\":\"\"}},\"title\":{\"x\":0.05},\"xaxis\":{\"automargin\":true,\"gridcolor\":\"white\",\"linecolor\":\"white\",\"ticks\":\"\",\"title\":{\"standoff\":15},\"zerolinecolor\":\"white\",\"zerolinewidth\":2},\"yaxis\":{\"automargin\":true,\"gridcolor\":\"white\",\"linecolor\":\"white\",\"ticks\":\"\",\"title\":{\"standoff\":15},\"zerolinecolor\":\"white\",\"zerolinewidth\":2}}},\"title\":{\"text\":\"Number of views\"},\"yaxis\":{\"type\":\"log\"}},                        {\"responsive\": true}                    ).then(function(){\n",
       "                            \n",
       "var gd = document.getElementById('a761af06-54e2-446c-9884-f7ad12c7022e');\n",
       "var x = new MutationObserver(function (mutations, observer) {{\n",
       "        var display = window.getComputedStyle(gd).display;\n",
       "        if (!display || display === 'none') {{\n",
       "            console.log([gd, 'removed!']);\n",
       "            Plotly.purge(gd);\n",
       "            observer.disconnect();\n",
       "        }}\n",
       "}});\n",
       "\n",
       "// Listen for the removal of the full notebook cells\n",
       "var notebookContainer = gd.closest('#notebook-container');\n",
       "if (notebookContainer) {{\n",
       "    x.observe(notebookContainer, {childList: true});\n",
       "}}\n",
       "\n",
       "// Listen for the clearing of the current output cell\n",
       "var outputEl = gd.closest('.output');\n",
       "if (outputEl) {{\n",
       "    x.observe(outputEl, {childList: true});\n",
       "}}\n",
       "\n",
       "                        })                };                });            </script>        </div>"
      ]
     },
     "metadata": {},
     "output_type": "display_data"
    }
   ],
   "source": [
    "data = []\n",
    "for l in A.keys():\n",
    "    data.append(go.Scatter(y=A[l], name=f\"sales, l={l/100:.2f}\"))\n",
    "go.Figure(data=[go.Scatter(y=T, name=\"views\")] + data,\n",
    "          layout=go.Layout(title=\"Number of views\", yaxis={\"type\": \"log\"}))"
   ]
  },
  {
   "cell_type": "markdown",
   "metadata": {},
   "source": [
    "# Negative Exponential Decay Model"
   ]
  },
  {
   "cell_type": "markdown",
   "metadata": {},
   "source": [
    "$A_t = (1 - e^{-vT_t}) + \\lambda A_{t-1}$,  \n",
    "Values are the same, plus  \n",
    "$v$ - saturation"
   ]
  },
  {
   "cell_type": "code",
   "execution_count": 106,
   "metadata": {},
   "outputs": [],
   "source": [
    "# 0 < l < 100\n",
    "l_values = [15, 40, 60, 80]\n",
    "# 0 < v < 1000\n",
    "v_values = [1, 2, 3, 5, 10, 20, 50]"
   ]
  },
  {
   "cell_type": "code",
   "execution_count": 107,
   "metadata": {},
   "outputs": [],
   "source": [
    "A = {}\n",
    "for l in l_values:\n",
    "    for v in v_values:\n",
    "        A_l = []\n",
    "        A_prev = 0\n",
    "        for i in range(len(T)):\n",
    "            A_cur = 1 - np.exp(-v/1000 * T[i]) + l/100 * A_prev\n",
    "            A_l.append(A_cur)\n",
    "            A_prev = A_cur\n",
    "        A[(l, v)] = np.array(A_l)"
   ]
  },
  {
   "cell_type": "code",
   "execution_count": 108,
   "metadata": {},
   "outputs": [
    {
     "data": {
      "application/vnd.plotly.v1+json": {
       "config": {
        "plotlyServerURL": "https://plot.ly"
       },
       "data": [
        {
         "name": "views",
         "type": "scatter",
         "y": [
          100,
          200,
          300,
          400,
          500,
          1000,
          2000,
          4000,
          3000,
          2000,
          1000,
          500,
          300,
          200,
          100
         ]
        },
        {
         "name": "sales, l=0.15, v=0.001",
         "type": "scatter",
         "y": [
          0.09516258196404048,
          0.19554363421662424,
          0.28851332445077577,
          0.37295695263197703,
          0.4494128831821631,
          0.6995324913058821,
          0.9695945904592697,
          1.1271235496801562,
          1.1192814640841595,
          1.0325569363760112,
          0.7870040992849594,
          0.5115199551801105,
          0.3359097725952987,
          0.23165571281131297,
          0.12991093888573743
         ]
        },
        {
         "name": "sales, l=0.15, v=0.002",
         "type": "scatter",
         "y": [
          0.18126924692201818,
          0.3568703410026634,
          0.504718915056373,
          0.6263788731412344,
          0.7260773897997428,
          0.9735763252333487,
          1.127720809896268,
          1.1688226588565378,
          1.1728446466518143,
          1.157611058109038,
          1.038306375479743,
          0.7878665151505191,
          0.5693683411785514,
          0.4150852051411434,
          0.24353202769318968
         ]
        },
        {
         "name": "sales, l=0.15, v=0.003",
         "type": "scatter",
         "y": [
          0.2591817793182821,
          0.4900656308037158,
          0.6669401848799582,
          0.7988468158197916,
          0.8966968622245389,
          1.084717460965817,
          1.1602288669682062,
          1.1740281858328776,
          1.1759808180708449,
          1.1739183705339604,
          1.12630068721223,
          0.9458149429334047,
          0.7353025816994117,
          0.5614837511608852,
          0.3434043419924149
         ]
        },
        {
         "name": "sales, l=0.15, v=0.005",
         "type": "scatter",
         "y": [
          0.3934693402873666,
          0.6911409598716627,
          0.8805409838323196,
          0.9967458643382352,
          1.0674268810268364,
          1.15337608515494,
          1.1729610128434784,
          1.1759441498653682,
          1.1763913165774849,
          1.1764132975568602,
          1.1697240476344435,
          1.0933736085212677,
          0.9408758811297604,
          0.7732519409980217,
          0.5094571314370698
         ]
        },
        {
         "name": "sales, l=0.15, v=0.01",
         "type": "scatter",
         "y": [
          0.6321205588285577,
          0.959482800587671,
          1.0941353517202868,
          1.145804663869309,
          1.1651327525813109,
          1.1747245129574342,
          1.1762086748824616,
          1.1764313012323693,
          1.1764646951847617,
          1.1764697022165607,
          1.1764250554027216,
          1.1697258113113227,
          1.1256718033288344,
          1.0335154872627124,
          0.7871478819179645
         ]
        },
        {
         "name": "sales, l=0.15, v=0.02",
         "type": "scatter",
         "y": [
          0.8646647167633873,
          1.1113840686257739,
          1.1642288581171998,
          1.1742988660896774,
          1.176099429983689,
          1.1764149124363998,
          1.17646223686546,
          1.176469335529819,
          1.1764704003294728,
          1.176470560049421,
          1.1764705819462595,
          1.1764251873621765,
          1.17398502592766,
          1.1577821150004148,
          1.0383320340134494
         ]
        },
        {
         "name": "sales, l=0.15, v=0.05",
         "type": "scatter",
         "y": [
          0.9932620530009145,
          1.1489439080203747,
          1.1723412803007358,
          1.1758511899839568,
          1.1763776784837057,
          1.1764566517725559,
          1.1764684977658835,
          1.1764702746648825,
          1.1764705411997323,
          1.1764705811799598,
          1.176470587176994,
          1.1764705880626611,
          1.1764702823070787,
          1.1764251424162993,
          1.1697258243633595
         ]
        },
        {
         "name": "sales, l=0.40, v=0.001",
         "type": "scatter",
         "y": [
          0.09516258196404048,
          0.21933427970763436,
          0.34691549120133586,
          0.468446150444895,
          0.5808478004653246,
          0.8644596790146875,
          1.2104485883692622,
          1.4658637964589707,
          1.5365584502157243,
          1.479288096849677,
          1.2238357975684284,
          0.8830036593147379,
          0.6123832430441774,
          0.42622254413968913,
          0.26565159961991613
         ]
        },
        {
         "name": "sales, l=0.40, v=0.002",
         "type": "scatter",
         "y": [
          0.18126924692201818,
          0.4021876527331679,
          0.6120634249992407,
          0.7954964058824747,
          0.9503191211815476,
          1.2447923652360062,
          1.4796013072056682,
          1.5915050602543648,
          1.6341232719250796,
          1.6353336698812977,
          1.5187981847159064,
          1.2396398327149203,
          0.9470442969919417,
          0.7084976727611374,
          0.4646683160264731
         ]
        },
        {
         "name": "sales, l=0.40, v=0.003",
         "type": "scatter",
         "y": [
          0.2591817793182821,
          0.5548610756332863,
          0.8153747705127155,
          1.024955696292884,
          1.1868521183687237,
          1.4249537789796256,
          1.5675027594151838,
          1.6269949595537203,
          1.6506745740174016,
          1.6577910774302942,
          1.6133293626042537,
          1.4222015848932719,
          1.1623109742167097,
          0.9161127535926574,
          0.6256268807553451
         ]
        },
        {
         "name": "sales, l=0.40, v=0.005",
         "type": "scatter",
         "y": [
          0.3934693402873666,
          0.7895082949435043,
          1.092673157828972,
          1.301733979894976,
          1.4386085933340915,
          1.5687054903345512,
          1.6274367962040581,
          1.6509747164204698,
          1.6603895806658675,
          1.6641104323365845,
          1.6589062259355485,
          1.5814774917503205,
          1.4094608365516983,
          1.195904893449237,
          0.8718312976670614
         ]
        },
        {
         "name": "sales, l=0.40, v=0.01",
         "type": "scatter",
         "y": [
          0.6321205588285577,
          1.1175129402948103,
          1.39721810775006,
          1.5405716042112898,
          1.6094906946854306,
          1.6437508779444099,
          1.6575003491166105,
          1.6630001396466443,
          1.665200055858564,
          1.666080020282272,
          1.6663866081831464,
          1.6598166962741732,
          1.6141396101418053,
          1.5103205608201096,
          1.2362487831566016
         ]
        },
        {
         "name": "sales, l=0.40, v=0.02",
         "type": "scatter",
         "y": [
          0.8646647167633873,
          1.3275502478166208,
          1.528541346949982,
          1.6110810761520904,
          1.6443870305310737,
          1.657754810151276,
          1.6631019240605105,
          1.6652407696242042,
          1.6660963078496818,
          1.6664385231398726,
          1.6665754071947956,
          1.6665847629481558,
          1.664155153002596,
          1.6473464223123042,
          1.523603285688309
         ]
        },
        {
         "name": "sales, l=0.40, v=0.05",
         "type": "scatter",
         "y": [
          0.9932620530009145,
          1.3972594212706033,
          1.5589034626059208,
          1.6235613829812148,
          1.649424553178598,
          1.6597698212714391,
          1.6639079285085758,
          1.6655631714034302,
          1.666225268561372,
          1.6664901074245488,
          1.6665960429698194,
          1.66663841717404,
          1.6666550609672957,
          1.6666166244571559,
          1.659908702783777
         ]
        },
        {
         "name": "sales, l=0.60, v=0.001",
         "type": "scatter",
         "y": [
          0.09516258196404048,
          0.23836679610044248,
          0.4022018569785476,
          0.5710010681514892,
          0.7360699811782601,
          1.0737625475355137,
          1.5089222452846955,
          1.887037708282083,
          2.0824355566013857,
          2.1141260507242188,
          1.900596189263089,
          1.53382705384522,
          1.179478011625414,
          0.8889560538972665,
          0.6285362143024004
         ]
        },
        {
         "name": "sales, l=0.60, v=0.002",
         "type": "scatter",
         "y": [
          0.18126924692201818,
          0.4384415021175716,
          0.7142532651765164,
          0.9792229949886884,
          1.2196543558217705,
          1.5964573302564495,
          1.9395587592651355,
          2.1633997929311786,
          2.295561123582041,
          2.35902103526049,
          2.280077337919681,
          2.0001669615803666,
          1.6512885408541933,
          1.3204530784768767,
          0.9735410940081441
         ]
        },
        {
         "name": "sales, l=0.60, v=0.003",
         "type": "scatter",
         "y": [
          0.2591817793182821,
          0.6066974314969428,
          0.9574487991575665,
          1.2732750675823377,
          1.5408348804009728,
          1.8747138598727195,
          2.1223495637469654,
          2.273403594035826,
          2.3639187466174088,
          2.4158724957937787,
          2.3997364291084033,
          2.216711697316612,
          1.923457358649368,
          1.6052627790955942,
          1.2223394467756385
         ]
        },
        {
         "name": "sales, l=0.60, v=0.005",
         "type": "scatter",
         "y": [
          0.3934693402873666,
          0.8682021630009776,
          1.297791137652157,
          1.6433393993546814,
          1.90391864098891,
          2.1356132375942605,
          2.2813225426267936,
          2.3687935235149227,
          2.4212758082066332,
          2.4527200849942172,
          2.464894103997445,
          2.396851463774568,
          2.214980718116311,
          1.9611089896983442,
          1.5701347341063732
         ]
        },
        {
         "name": "sales, l=0.60, v=0.01",
         "type": "scatter",
         "y": [
          0.6321205588285577,
          1.243937052060522,
          1.6965751628684491,
          1.9996294588323351,
          2.1930397283003153,
          2.315778437050427,
          2.3894670601691024,
          2.4336802361014613,
          2.4602081416607833,
          2.4761248829353164,
          2.485629529831427,
          2.4846397708997707,
          2.4409967941719986,
          2.3292627932665866,
          2.0296782347885096
         ]
        },
        {
         "name": "sales, l=0.60, v=0.02",
         "type": "scatter",
         "y": [
          0.8646647167633873,
          1.5004831911692982,
          1.8978111625249126,
          2.138351234887045,
          2.2829653410024644,
          2.369779202540325,
          2.421867521524195,
          2.4531205129145173,
          2.4718723077487104,
          2.483123384649226,
          2.4898740287283823,
          2.493879017307267,
          2.4938486582076935,
          2.477993556035882,
          2.3514608503849166
         ]
        },
        {
         "name": "sales, l=0.60, v=0.05",
         "type": "scatter",
         "y": [
          0.9932620530009145,
          1.5959118318707861,
          1.9575467932201511,
          2.174528073870937,
          2.304716844308674,
          2.3828301065852044,
          2.4296980639511228,
          2.457818838370674,
          2.4746913030224045,
          2.4848147818134425,
          2.4908888690880655,
          2.4945333214389516,
          2.4967196869610504,
          2.497986412246868,
          2.492053900349035
         ]
        },
        {
         "name": "sales, l=0.80, v=0.001",
         "type": "scatter",
         "y": [
          0.09516258196404048,
          0.25739931249325054,
          0.46510122931288256,
          0.7017609374146667,
          0.9548780902191,
          1.3960230310038377,
          1.9814831415664576,
          2.566870874364432,
          3.003709631123682,
          3.267632421662333,
          3.246226496158424,
          2.990450537214106,
          2.651542209089567,
          2.302503014193672,
          1.9371649933189783
         ]
        },
        {
         "name": "sales, l=0.80, v=0.002",
         "type": "scatter",
         "y": [
          0.18126924692201818,
          0.4746953515019752,
          0.8309446451075537,
          1.2154267519688213,
          1.6044619604036148,
          2.148234285086279,
          2.700271789180289,
          3.159881968716329,
          3.525426822796397,
          3.802025819348384,
          3.9062853722420945,
          3.7571488566222335,
          3.4569074492037606,
          3.0952059133273693,
          2.657433977583914
         ]
        },
        {
         "name": "sales, l=0.80, v=0.003",
         "type": "scatter",
         "y": [
          0.2591817793182821,
          0.6585337873605992,
          1.1202573701478804,
          1.5950116842061022,
          2.052879187216452,
          2.5925162814052976,
          3.071534272947572,
          3.457221274145704,
          3.765653609512477,
          4.010044135433315,
          4.158248239978788,
          4.103468431834601,
          3.876205085727082,
          3.5521524324876395,
          3.100903725308394
         ]
        },
        {
         "name": "sales, l=0.80, v=0.005",
         "type": "scatter",
         "y": [
          0.3934693402873666,
          0.9468960310584509,
          1.534386664698331,
          2.092174048522052,
          2.591654240193743,
          3.066585445155909,
          3.453222956194965,
          3.762578362894819,
          4.010062384413535,
          4.208004507601066,
          4.3596656590817675,
          4.4056475286415155,
          4.301387862764783,
          4.073230849040384,
          3.6520540195196745
         ]
        },
        {
         "name": "sales, l=0.80, v=0.01",
         "type": "scatter",
         "y": [
          0.6321205588285577,
          1.3703611638262334,
          2.046501862693123,
          2.6188858512657642,
          3.088370734013526,
          3.4706511872810584,
          3.7765209477636934,
          4.021216758210954,
          4.216973406568671,
          4.373578723193783,
          4.498817578625264,
          4.592316115901126,
          4.624065824353037,
          4.563917376245818,
          4.283254459825212
         ]
        },
        {
         "name": "sales, l=0.80, v=0.02",
         "type": "scatter",
         "y": [
          0.8646647167633873,
          1.6734161345219758,
          2.336254155440914,
          2.868667861724829,
          3.2948888894501005,
          3.635911109498927,
          3.9087288875991417,
          4.126983110079314,
          4.301586488063451,
          4.441269190450761,
          4.5530153502994555,
          4.642366880309802,
          4.7114147520711755,
          4.750816162768206,
          4.665317646977953
         ]
        },
        {
         "name": "sales, l=0.80, v=0.05",
         "type": "scatter",
         "y": [
          0.9932620530009145,
          1.7945642424709691,
          2.435651088074455,
          2.9485208683984103,
          3.3588166947048403,
          3.6870533557638723,
          3.949642684611098,
          4.159714147688879,
          4.327771318151104,
          4.462217054520883,
          4.569773643616706,
          4.655818914879477,
          4.724654826001261,
          4.779678460871247,
          4.817004821697912
         ]
        }
       ],
       "layout": {
        "autosize": true,
        "template": {
         "data": {
          "bar": [
           {
            "error_x": {
             "color": "#2a3f5f"
            },
            "error_y": {
             "color": "#2a3f5f"
            },
            "marker": {
             "line": {
              "color": "#E5ECF6",
              "width": 0.5
             },
             "pattern": {
              "fillmode": "overlay",
              "size": 10,
              "solidity": 0.2
             }
            },
            "type": "bar"
           }
          ],
          "barpolar": [
           {
            "marker": {
             "line": {
              "color": "#E5ECF6",
              "width": 0.5
             },
             "pattern": {
              "fillmode": "overlay",
              "size": 10,
              "solidity": 0.2
             }
            },
            "type": "barpolar"
           }
          ],
          "carpet": [
           {
            "aaxis": {
             "endlinecolor": "#2a3f5f",
             "gridcolor": "white",
             "linecolor": "white",
             "minorgridcolor": "white",
             "startlinecolor": "#2a3f5f"
            },
            "baxis": {
             "endlinecolor": "#2a3f5f",
             "gridcolor": "white",
             "linecolor": "white",
             "minorgridcolor": "white",
             "startlinecolor": "#2a3f5f"
            },
            "type": "carpet"
           }
          ],
          "choropleth": [
           {
            "colorbar": {
             "outlinewidth": 0,
             "ticks": ""
            },
            "type": "choropleth"
           }
          ],
          "contour": [
           {
            "colorbar": {
             "outlinewidth": 0,
             "ticks": ""
            },
            "colorscale": [
             [
              0,
              "#0d0887"
             ],
             [
              0.1111111111111111,
              "#46039f"
             ],
             [
              0.2222222222222222,
              "#7201a8"
             ],
             [
              0.3333333333333333,
              "#9c179e"
             ],
             [
              0.4444444444444444,
              "#bd3786"
             ],
             [
              0.5555555555555556,
              "#d8576b"
             ],
             [
              0.6666666666666666,
              "#ed7953"
             ],
             [
              0.7777777777777778,
              "#fb9f3a"
             ],
             [
              0.8888888888888888,
              "#fdca26"
             ],
             [
              1,
              "#f0f921"
             ]
            ],
            "type": "contour"
           }
          ],
          "contourcarpet": [
           {
            "colorbar": {
             "outlinewidth": 0,
             "ticks": ""
            },
            "type": "contourcarpet"
           }
          ],
          "heatmap": [
           {
            "colorbar": {
             "outlinewidth": 0,
             "ticks": ""
            },
            "colorscale": [
             [
              0,
              "#0d0887"
             ],
             [
              0.1111111111111111,
              "#46039f"
             ],
             [
              0.2222222222222222,
              "#7201a8"
             ],
             [
              0.3333333333333333,
              "#9c179e"
             ],
             [
              0.4444444444444444,
              "#bd3786"
             ],
             [
              0.5555555555555556,
              "#d8576b"
             ],
             [
              0.6666666666666666,
              "#ed7953"
             ],
             [
              0.7777777777777778,
              "#fb9f3a"
             ],
             [
              0.8888888888888888,
              "#fdca26"
             ],
             [
              1,
              "#f0f921"
             ]
            ],
            "type": "heatmap"
           }
          ],
          "heatmapgl": [
           {
            "colorbar": {
             "outlinewidth": 0,
             "ticks": ""
            },
            "colorscale": [
             [
              0,
              "#0d0887"
             ],
             [
              0.1111111111111111,
              "#46039f"
             ],
             [
              0.2222222222222222,
              "#7201a8"
             ],
             [
              0.3333333333333333,
              "#9c179e"
             ],
             [
              0.4444444444444444,
              "#bd3786"
             ],
             [
              0.5555555555555556,
              "#d8576b"
             ],
             [
              0.6666666666666666,
              "#ed7953"
             ],
             [
              0.7777777777777778,
              "#fb9f3a"
             ],
             [
              0.8888888888888888,
              "#fdca26"
             ],
             [
              1,
              "#f0f921"
             ]
            ],
            "type": "heatmapgl"
           }
          ],
          "histogram": [
           {
            "marker": {
             "pattern": {
              "fillmode": "overlay",
              "size": 10,
              "solidity": 0.2
             }
            },
            "type": "histogram"
           }
          ],
          "histogram2d": [
           {
            "colorbar": {
             "outlinewidth": 0,
             "ticks": ""
            },
            "colorscale": [
             [
              0,
              "#0d0887"
             ],
             [
              0.1111111111111111,
              "#46039f"
             ],
             [
              0.2222222222222222,
              "#7201a8"
             ],
             [
              0.3333333333333333,
              "#9c179e"
             ],
             [
              0.4444444444444444,
              "#bd3786"
             ],
             [
              0.5555555555555556,
              "#d8576b"
             ],
             [
              0.6666666666666666,
              "#ed7953"
             ],
             [
              0.7777777777777778,
              "#fb9f3a"
             ],
             [
              0.8888888888888888,
              "#fdca26"
             ],
             [
              1,
              "#f0f921"
             ]
            ],
            "type": "histogram2d"
           }
          ],
          "histogram2dcontour": [
           {
            "colorbar": {
             "outlinewidth": 0,
             "ticks": ""
            },
            "colorscale": [
             [
              0,
              "#0d0887"
             ],
             [
              0.1111111111111111,
              "#46039f"
             ],
             [
              0.2222222222222222,
              "#7201a8"
             ],
             [
              0.3333333333333333,
              "#9c179e"
             ],
             [
              0.4444444444444444,
              "#bd3786"
             ],
             [
              0.5555555555555556,
              "#d8576b"
             ],
             [
              0.6666666666666666,
              "#ed7953"
             ],
             [
              0.7777777777777778,
              "#fb9f3a"
             ],
             [
              0.8888888888888888,
              "#fdca26"
             ],
             [
              1,
              "#f0f921"
             ]
            ],
            "type": "histogram2dcontour"
           }
          ],
          "mesh3d": [
           {
            "colorbar": {
             "outlinewidth": 0,
             "ticks": ""
            },
            "type": "mesh3d"
           }
          ],
          "parcoords": [
           {
            "line": {
             "colorbar": {
              "outlinewidth": 0,
              "ticks": ""
             }
            },
            "type": "parcoords"
           }
          ],
          "pie": [
           {
            "automargin": true,
            "type": "pie"
           }
          ],
          "scatter": [
           {
            "marker": {
             "colorbar": {
              "outlinewidth": 0,
              "ticks": ""
             }
            },
            "type": "scatter"
           }
          ],
          "scatter3d": [
           {
            "line": {
             "colorbar": {
              "outlinewidth": 0,
              "ticks": ""
             }
            },
            "marker": {
             "colorbar": {
              "outlinewidth": 0,
              "ticks": ""
             }
            },
            "type": "scatter3d"
           }
          ],
          "scattercarpet": [
           {
            "marker": {
             "colorbar": {
              "outlinewidth": 0,
              "ticks": ""
             }
            },
            "type": "scattercarpet"
           }
          ],
          "scattergeo": [
           {
            "marker": {
             "colorbar": {
              "outlinewidth": 0,
              "ticks": ""
             }
            },
            "type": "scattergeo"
           }
          ],
          "scattergl": [
           {
            "marker": {
             "colorbar": {
              "outlinewidth": 0,
              "ticks": ""
             }
            },
            "type": "scattergl"
           }
          ],
          "scattermapbox": [
           {
            "marker": {
             "colorbar": {
              "outlinewidth": 0,
              "ticks": ""
             }
            },
            "type": "scattermapbox"
           }
          ],
          "scatterpolar": [
           {
            "marker": {
             "colorbar": {
              "outlinewidth": 0,
              "ticks": ""
             }
            },
            "type": "scatterpolar"
           }
          ],
          "scatterpolargl": [
           {
            "marker": {
             "colorbar": {
              "outlinewidth": 0,
              "ticks": ""
             }
            },
            "type": "scatterpolargl"
           }
          ],
          "scatterternary": [
           {
            "marker": {
             "colorbar": {
              "outlinewidth": 0,
              "ticks": ""
             }
            },
            "type": "scatterternary"
           }
          ],
          "surface": [
           {
            "colorbar": {
             "outlinewidth": 0,
             "ticks": ""
            },
            "colorscale": [
             [
              0,
              "#0d0887"
             ],
             [
              0.1111111111111111,
              "#46039f"
             ],
             [
              0.2222222222222222,
              "#7201a8"
             ],
             [
              0.3333333333333333,
              "#9c179e"
             ],
             [
              0.4444444444444444,
              "#bd3786"
             ],
             [
              0.5555555555555556,
              "#d8576b"
             ],
             [
              0.6666666666666666,
              "#ed7953"
             ],
             [
              0.7777777777777778,
              "#fb9f3a"
             ],
             [
              0.8888888888888888,
              "#fdca26"
             ],
             [
              1,
              "#f0f921"
             ]
            ],
            "type": "surface"
           }
          ],
          "table": [
           {
            "cells": {
             "fill": {
              "color": "#EBF0F8"
             },
             "line": {
              "color": "white"
             }
            },
            "header": {
             "fill": {
              "color": "#C8D4E3"
             },
             "line": {
              "color": "white"
             }
            },
            "type": "table"
           }
          ]
         },
         "layout": {
          "annotationdefaults": {
           "arrowcolor": "#2a3f5f",
           "arrowhead": 0,
           "arrowwidth": 1
          },
          "autotypenumbers": "strict",
          "coloraxis": {
           "colorbar": {
            "outlinewidth": 0,
            "ticks": ""
           }
          },
          "colorscale": {
           "diverging": [
            [
             0,
             "#8e0152"
            ],
            [
             0.1,
             "#c51b7d"
            ],
            [
             0.2,
             "#de77ae"
            ],
            [
             0.3,
             "#f1b6da"
            ],
            [
             0.4,
             "#fde0ef"
            ],
            [
             0.5,
             "#f7f7f7"
            ],
            [
             0.6,
             "#e6f5d0"
            ],
            [
             0.7,
             "#b8e186"
            ],
            [
             0.8,
             "#7fbc41"
            ],
            [
             0.9,
             "#4d9221"
            ],
            [
             1,
             "#276419"
            ]
           ],
           "sequential": [
            [
             0,
             "#0d0887"
            ],
            [
             0.1111111111111111,
             "#46039f"
            ],
            [
             0.2222222222222222,
             "#7201a8"
            ],
            [
             0.3333333333333333,
             "#9c179e"
            ],
            [
             0.4444444444444444,
             "#bd3786"
            ],
            [
             0.5555555555555556,
             "#d8576b"
            ],
            [
             0.6666666666666666,
             "#ed7953"
            ],
            [
             0.7777777777777778,
             "#fb9f3a"
            ],
            [
             0.8888888888888888,
             "#fdca26"
            ],
            [
             1,
             "#f0f921"
            ]
           ],
           "sequentialminus": [
            [
             0,
             "#0d0887"
            ],
            [
             0.1111111111111111,
             "#46039f"
            ],
            [
             0.2222222222222222,
             "#7201a8"
            ],
            [
             0.3333333333333333,
             "#9c179e"
            ],
            [
             0.4444444444444444,
             "#bd3786"
            ],
            [
             0.5555555555555556,
             "#d8576b"
            ],
            [
             0.6666666666666666,
             "#ed7953"
            ],
            [
             0.7777777777777778,
             "#fb9f3a"
            ],
            [
             0.8888888888888888,
             "#fdca26"
            ],
            [
             1,
             "#f0f921"
            ]
           ]
          },
          "colorway": [
           "#636efa",
           "#EF553B",
           "#00cc96",
           "#ab63fa",
           "#FFA15A",
           "#19d3f3",
           "#FF6692",
           "#B6E880",
           "#FF97FF",
           "#FECB52"
          ],
          "font": {
           "color": "#2a3f5f"
          },
          "geo": {
           "bgcolor": "white",
           "lakecolor": "white",
           "landcolor": "#E5ECF6",
           "showlakes": true,
           "showland": true,
           "subunitcolor": "white"
          },
          "hoverlabel": {
           "align": "left"
          },
          "hovermode": "closest",
          "mapbox": {
           "style": "light"
          },
          "paper_bgcolor": "white",
          "plot_bgcolor": "#E5ECF6",
          "polar": {
           "angularaxis": {
            "gridcolor": "white",
            "linecolor": "white",
            "ticks": ""
           },
           "bgcolor": "#E5ECF6",
           "radialaxis": {
            "gridcolor": "white",
            "linecolor": "white",
            "ticks": ""
           }
          },
          "scene": {
           "xaxis": {
            "backgroundcolor": "#E5ECF6",
            "gridcolor": "white",
            "gridwidth": 2,
            "linecolor": "white",
            "showbackground": true,
            "ticks": "",
            "zerolinecolor": "white"
           },
           "yaxis": {
            "backgroundcolor": "#E5ECF6",
            "gridcolor": "white",
            "gridwidth": 2,
            "linecolor": "white",
            "showbackground": true,
            "ticks": "",
            "zerolinecolor": "white"
           },
           "zaxis": {
            "backgroundcolor": "#E5ECF6",
            "gridcolor": "white",
            "gridwidth": 2,
            "linecolor": "white",
            "showbackground": true,
            "ticks": "",
            "zerolinecolor": "white"
           }
          },
          "shapedefaults": {
           "line": {
            "color": "#2a3f5f"
           }
          },
          "ternary": {
           "aaxis": {
            "gridcolor": "white",
            "linecolor": "white",
            "ticks": ""
           },
           "baxis": {
            "gridcolor": "white",
            "linecolor": "white",
            "ticks": ""
           },
           "bgcolor": "#E5ECF6",
           "caxis": {
            "gridcolor": "white",
            "linecolor": "white",
            "ticks": ""
           }
          },
          "title": {
           "x": 0.05
          },
          "xaxis": {
           "automargin": true,
           "gridcolor": "white",
           "linecolor": "white",
           "ticks": "",
           "title": {
            "standoff": 15
           },
           "zerolinecolor": "white",
           "zerolinewidth": 2
          },
          "yaxis": {
           "automargin": true,
           "gridcolor": "white",
           "linecolor": "white",
           "ticks": "",
           "title": {
            "standoff": 15
           },
           "zerolinecolor": "white",
           "zerolinewidth": 2
          }
         }
        },
        "title": {
         "text": "Number of views"
        },
        "xaxis": {
         "autorange": true,
         "range": [
          -0.8130287648054146,
          14.813028764805415
         ]
        },
        "yaxis": {
         "autorange": true,
         "range": [
          -1.4030924926816455,
          3.983618700871295
         ],
         "type": "log"
        }
       }
      },
      "image/png": "[encoded data removed]",
      "text/html": [
       "<div>                            <div id=\"7c15eadd-225b-4680-acd4-ab6fdc6a7989\" class=\"plotly-graph-div\" style=\"height:525px; width:100%;\"></div>            <script type=\"text/javascript\">                require([\"plotly\"], function(Plotly) {                    window.PLOTLYENV=window.PLOTLYENV || {};                                    if (document.getElementById(\"7c15eadd-225b-4680-acd4-ab6fdc6a7989\")) {                    Plotly.newPlot(                        \"7c15eadd-225b-4680-acd4-ab6fdc6a7989\",                        [{\"name\":\"views\",\"type\":\"scatter\",\"y\":[100,200,300,400,500,1000,2000,4000,3000,2000,1000,500,300,200,100]},{\"name\":\"sales, l=0.15, v=0.001\",\"type\":\"scatter\",\"y\":[0.09516258196404048,0.19554363421662424,0.28851332445077577,0.37295695263197703,0.4494128831821631,0.6995324913058821,0.9695945904592697,1.1271235496801562,1.1192814640841595,1.0325569363760112,0.7870040992849594,0.5115199551801105,0.3359097725952987,0.23165571281131297,0.12991093888573743]},{\"name\":\"sales, l=0.15, v=0.002\",\"type\":\"scatter\",\"y\":[0.18126924692201818,0.3568703410026634,0.504718915056373,0.6263788731412344,0.7260773897997428,0.9735763252333487,1.127720809896268,1.1688226588565378,1.1728446466518143,1.157611058109038,1.038306375479743,0.7878665151505191,0.5693683411785514,0.4150852051411434,0.24353202769318968]},{\"name\":\"sales, l=0.15, v=0.003\",\"type\":\"scatter\",\"y\":[0.2591817793182821,0.4900656308037158,0.6669401848799582,0.7988468158197916,0.8966968622245389,1.084717460965817,1.1602288669682062,1.1740281858328776,1.1759808180708449,1.1739183705339604,1.12630068721223,0.9458149429334047,0.7353025816994117,0.5614837511608852,0.3434043419924149]},{\"name\":\"sales, l=0.15, v=0.005\",\"type\":\"scatter\",\"y\":[0.3934693402873666,0.6911409598716627,0.8805409838323196,0.9967458643382352,1.0674268810268364,1.15337608515494,1.1729610128434784,1.1759441498653682,1.1763913165774849,1.1764132975568602,1.1697240476344435,1.0933736085212677,0.9408758811297604,0.7732519409980217,0.5094571314370698]},{\"name\":\"sales, l=0.15, v=0.01\",\"type\":\"scatter\",\"y\":[0.6321205588285577,0.959482800587671,1.0941353517202868,1.145804663869309,1.1651327525813109,1.1747245129574342,1.1762086748824616,1.1764313012323693,1.1764646951847617,1.1764697022165607,1.1764250554027216,1.1697258113113227,1.1256718033288344,1.0335154872627124,0.7871478819179645]},{\"name\":\"sales, l=0.15, v=0.02\",\"type\":\"scatter\",\"y\":[0.8646647167633873,1.1113840686257739,1.1642288581171998,1.1742988660896774,1.176099429983689,1.1764149124363998,1.17646223686546,1.176469335529819,1.1764704003294728,1.176470560049421,1.1764705819462595,1.1764251873621765,1.17398502592766,1.1577821150004148,1.0383320340134494]},{\"name\":\"sales, l=0.15, v=0.05\",\"type\":\"scatter\",\"y\":[0.9932620530009145,1.1489439080203747,1.1723412803007358,1.1758511899839568,1.1763776784837057,1.1764566517725559,1.1764684977658835,1.1764702746648825,1.1764705411997323,1.1764705811799598,1.176470587176994,1.1764705880626611,1.1764702823070787,1.1764251424162993,1.1697258243633595]},{\"name\":\"sales, l=0.40, v=0.001\",\"type\":\"scatter\",\"y\":[0.09516258196404048,0.21933427970763436,0.34691549120133586,0.468446150444895,0.5808478004653246,0.8644596790146875,1.2104485883692622,1.4658637964589707,1.5365584502157243,1.479288096849677,1.2238357975684284,0.8830036593147379,0.6123832430441774,0.42622254413968913,0.26565159961991613]},{\"name\":\"sales, l=0.40, v=0.002\",\"type\":\"scatter\",\"y\":[0.18126924692201818,0.4021876527331679,0.6120634249992407,0.7954964058824747,0.9503191211815476,1.2447923652360062,1.4796013072056682,1.5915050602543648,1.6341232719250796,1.6353336698812977,1.5187981847159064,1.2396398327149203,0.9470442969919417,0.7084976727611374,0.4646683160264731]},{\"name\":\"sales, l=0.40, v=0.003\",\"type\":\"scatter\",\"y\":[0.2591817793182821,0.5548610756332863,0.8153747705127155,1.024955696292884,1.1868521183687237,1.4249537789796256,1.5675027594151838,1.6269949595537203,1.6506745740174016,1.6577910774302942,1.6133293626042537,1.4222015848932719,1.1623109742167097,0.9161127535926574,0.6256268807553451]},{\"name\":\"sales, l=0.40, v=0.005\",\"type\":\"scatter\",\"y\":[0.3934693402873666,0.7895082949435043,1.092673157828972,1.301733979894976,1.4386085933340915,1.5687054903345512,1.6274367962040581,1.6509747164204698,1.6603895806658675,1.6641104323365845,1.6589062259355485,1.5814774917503205,1.4094608365516983,1.195904893449237,0.8718312976670614]},{\"name\":\"sales, l=0.40, v=0.01\",\"type\":\"scatter\",\"y\":[0.6321205588285577,1.1175129402948103,1.39721810775006,1.5405716042112898,1.6094906946854306,1.6437508779444099,1.6575003491166105,1.6630001396466443,1.665200055858564,1.666080020282272,1.6663866081831464,1.6598166962741732,1.6141396101418053,1.5103205608201096,1.2362487831566016]},{\"name\":\"sales, l=0.40, v=0.02\",\"type\":\"scatter\",\"y\":[0.8646647167633873,1.3275502478166208,1.528541346949982,1.6110810761520904,1.6443870305310737,1.657754810151276,1.6631019240605105,1.6652407696242042,1.6660963078496818,1.6664385231398726,1.6665754071947956,1.6665847629481558,1.664155153002596,1.6473464223123042,1.523603285688309]},{\"name\":\"sales, l=0.40, v=0.05\",\"type\":\"scatter\",\"y\":[0.9932620530009145,1.3972594212706033,1.5589034626059208,1.6235613829812148,1.649424553178598,1.6597698212714391,1.6639079285085758,1.6655631714034302,1.666225268561372,1.6664901074245488,1.6665960429698194,1.66663841717404,1.6666550609672957,1.6666166244571559,1.659908702783777]},{\"name\":\"sales, l=0.60, v=0.001\",\"type\":\"scatter\",\"y\":[0.09516258196404048,0.23836679610044248,0.4022018569785476,0.5710010681514892,0.7360699811782601,1.0737625475355137,1.5089222452846955,1.887037708282083,2.0824355566013857,2.1141260507242188,1.900596189263089,1.53382705384522,1.179478011625414,0.8889560538972665,0.6285362143024004]},{\"name\":\"sales, l=0.60, v=0.002\",\"type\":\"scatter\",\"y\":[0.18126924692201818,0.4384415021175716,0.7142532651765164,0.9792229949886884,1.2196543558217705,1.5964573302564495,1.9395587592651355,2.1633997929311786,2.295561123582041,2.35902103526049,2.280077337919681,2.0001669615803666,1.6512885408541933,1.3204530784768767,0.9735410940081441]},{\"name\":\"sales, l=0.60, v=0.003\",\"type\":\"scatter\",\"y\":[0.2591817793182821,0.6066974314969428,0.9574487991575665,1.2732750675823377,1.5408348804009728,1.8747138598727195,2.1223495637469654,2.273403594035826,2.3639187466174088,2.4158724957937787,2.3997364291084033,2.216711697316612,1.923457358649368,1.6052627790955942,1.2223394467756385]},{\"name\":\"sales, l=0.60, v=0.005\",\"type\":\"scatter\",\"y\":[0.3934693402873666,0.8682021630009776,1.297791137652157,1.6433393993546814,1.90391864098891,2.1356132375942605,2.2813225426267936,2.3687935235149227,2.4212758082066332,2.4527200849942172,2.464894103997445,2.396851463774568,2.214980718116311,1.9611089896983442,1.5701347341063732]},{\"name\":\"sales, l=0.60, v=0.01\",\"type\":\"scatter\",\"y\":[0.6321205588285577,1.243937052060522,1.6965751628684491,1.9996294588323351,2.1930397283003153,2.315778437050427,2.3894670601691024,2.4336802361014613,2.4602081416607833,2.4761248829353164,2.485629529831427,2.4846397708997707,2.4409967941719986,2.3292627932665866,2.0296782347885096]},{\"name\":\"sales, l=0.60, v=0.02\",\"type\":\"scatter\",\"y\":[0.8646647167633873,1.5004831911692982,1.8978111625249126,2.138351234887045,2.2829653410024644,2.369779202540325,2.421867521524195,2.4531205129145173,2.4718723077487104,2.483123384649226,2.4898740287283823,2.493879017307267,2.4938486582076935,2.477993556035882,2.3514608503849166]},{\"name\":\"sales, l=0.60, v=0.05\",\"type\":\"scatter\",\"y\":[0.9932620530009145,1.5959118318707861,1.9575467932201511,2.174528073870937,2.304716844308674,2.3828301065852044,2.4296980639511228,2.457818838370674,2.4746913030224045,2.4848147818134425,2.4908888690880655,2.4945333214389516,2.4967196869610504,2.497986412246868,2.492053900349035]},{\"name\":\"sales, l=0.80, v=0.001\",\"type\":\"scatter\",\"y\":[0.09516258196404048,0.25739931249325054,0.46510122931288256,0.7017609374146667,0.9548780902191,1.3960230310038377,1.9814831415664576,2.566870874364432,3.003709631123682,3.267632421662333,3.246226496158424,2.990450537214106,2.651542209089567,2.302503014193672,1.9371649933189783]},{\"name\":\"sales, l=0.80, v=0.002\",\"type\":\"scatter\",\"y\":[0.18126924692201818,0.4746953515019752,0.8309446451075537,1.2154267519688213,1.6044619604036148,2.148234285086279,2.700271789180289,3.159881968716329,3.525426822796397,3.802025819348384,3.9062853722420945,3.7571488566222335,3.4569074492037606,3.0952059133273693,2.657433977583914]},{\"name\":\"sales, l=0.80, v=0.003\",\"type\":\"scatter\",\"y\":[0.2591817793182821,0.6585337873605992,1.1202573701478804,1.5950116842061022,2.052879187216452,2.5925162814052976,3.071534272947572,3.457221274145704,3.765653609512477,4.010044135433315,4.158248239978788,4.103468431834601,3.876205085727082,3.5521524324876395,3.100903725308394]},{\"name\":\"sales, l=0.80, v=0.005\",\"type\":\"scatter\",\"y\":[0.3934693402873666,0.9468960310584509,1.534386664698331,2.092174048522052,2.591654240193743,3.066585445155909,3.453222956194965,3.762578362894819,4.010062384413535,4.208004507601066,4.3596656590817675,4.4056475286415155,4.301387862764783,4.073230849040384,3.6520540195196745]},{\"name\":\"sales, l=0.80, v=0.01\",\"type\":\"scatter\",\"y\":[0.6321205588285577,1.3703611638262334,2.046501862693123,2.6188858512657642,3.088370734013526,3.4706511872810584,3.7765209477636934,4.021216758210954,4.216973406568671,4.373578723193783,4.498817578625264,4.592316115901126,4.624065824353037,4.563917376245818,4.283254459825212]},{\"name\":\"sales, l=0.80, v=0.02\",\"type\":\"scatter\",\"y\":[0.8646647167633873,1.6734161345219758,2.336254155440914,2.868667861724829,3.2948888894501005,3.635911109498927,3.9087288875991417,4.126983110079314,4.301586488063451,4.441269190450761,4.5530153502994555,4.642366880309802,4.7114147520711755,4.750816162768206,4.665317646977953]},{\"name\":\"sales, l=0.80, v=0.05\",\"type\":\"scatter\",\"y\":[0.9932620530009145,1.7945642424709691,2.435651088074455,2.9485208683984103,3.3588166947048403,3.6870533557638723,3.949642684611098,4.159714147688879,4.327771318151104,4.462217054520883,4.569773643616706,4.655818914879477,4.724654826001261,4.779678460871247,4.817004821697912]}],                        {\"template\":{\"data\":{\"bar\":[{\"error_x\":{\"color\":\"#2a3f5f\"},\"error_y\":{\"color\":\"#2a3f5f\"},\"marker\":{\"line\":{\"color\":\"#E5ECF6\",\"width\":0.5},\"pattern\":{\"fillmode\":\"overlay\",\"size\":10,\"solidity\":0.2}},\"type\":\"bar\"}],\"barpolar\":[{\"marker\":{\"line\":{\"color\":\"#E5ECF6\",\"width\":0.5},\"pattern\":{\"fillmode\":\"overlay\",\"size\":10,\"solidity\":0.2}},\"type\":\"barpolar\"}],\"carpet\":[{\"aaxis\":{\"endlinecolor\":\"#2a3f5f\",\"gridcolor\":\"white\",\"linecolor\":\"white\",\"minorgridcolor\":\"white\",\"startlinecolor\":\"#2a3f5f\"},\"baxis\":{\"endlinecolor\":\"#2a3f5f\",\"gridcolor\":\"white\",\"linecolor\":\"white\",\"minorgridcolor\":\"white\",\"startlinecolor\":\"#2a3f5f\"},\"type\":\"carpet\"}],\"choropleth\":[{\"colorbar\":{\"outlinewidth\":0,\"ticks\":\"\"},\"type\":\"choropleth\"}],\"contour\":[{\"colorbar\":{\"outlinewidth\":0,\"ticks\":\"\"},\"colorscale\":[[0.0,\"#0d0887\"],[0.1111111111111111,\"#46039f\"],[0.2222222222222222,\"#7201a8\"],[0.3333333333333333,\"#9c179e\"],[0.4444444444444444,\"#bd3786\"],[0.5555555555555556,\"#d8576b\"],[0.6666666666666666,\"#ed7953\"],[0.7777777777777778,\"#fb9f3a\"],[0.8888888888888888,\"#fdca26\"],[1.0,\"#f0f921\"]],\"type\":\"contour\"}],\"contourcarpet\":[{\"colorbar\":{\"outlinewidth\":0,\"ticks\":\"\"},\"type\":\"contourcarpet\"}],\"heatmap\":[{\"colorbar\":{\"outlinewidth\":0,\"ticks\":\"\"},\"colorscale\":[[0.0,\"#0d0887\"],[0.1111111111111111,\"#46039f\"],[0.2222222222222222,\"#7201a8\"],[0.3333333333333333,\"#9c179e\"],[0.4444444444444444,\"#bd3786\"],[0.5555555555555556,\"#d8576b\"],[0.6666666666666666,\"#ed7953\"],[0.7777777777777778,\"#fb9f3a\"],[0.8888888888888888,\"#fdca26\"],[1.0,\"#f0f921\"]],\"type\":\"heatmap\"}],\"heatmapgl\":[{\"colorbar\":{\"outlinewidth\":0,\"ticks\":\"\"},\"colorscale\":[[0.0,\"#0d0887\"],[0.1111111111111111,\"#46039f\"],[0.2222222222222222,\"#7201a8\"],[0.3333333333333333,\"#9c179e\"],[0.4444444444444444,\"#bd3786\"],[0.5555555555555556,\"#d8576b\"],[0.6666666666666666,\"#ed7953\"],[0.7777777777777778,\"#fb9f3a\"],[0.8888888888888888,\"#fdca26\"],[1.0,\"#f0f921\"]],\"type\":\"heatmapgl\"}],\"histogram\":[{\"marker\":{\"pattern\":{\"fillmode\":\"overlay\",\"size\":10,\"solidity\":0.2}},\"type\":\"histogram\"}],\"histogram2d\":[{\"colorbar\":{\"outlinewidth\":0,\"ticks\":\"\"},\"colorscale\":[[0.0,\"#0d0887\"],[0.1111111111111111,\"#46039f\"],[0.2222222222222222,\"#7201a8\"],[0.3333333333333333,\"#9c179e\"],[0.4444444444444444,\"#bd3786\"],[0.5555555555555556,\"#d8576b\"],[0.6666666666666666,\"#ed7953\"],[0.7777777777777778,\"#fb9f3a\"],[0.8888888888888888,\"#fdca26\"],[1.0,\"#f0f921\"]],\"type\":\"histogram2d\"}],\"histogram2dcontour\":[{\"colorbar\":{\"outlinewidth\":0,\"ticks\":\"\"},\"colorscale\":[[0.0,\"#0d0887\"],[0.1111111111111111,\"#46039f\"],[0.2222222222222222,\"#7201a8\"],[0.3333333333333333,\"#9c179e\"],[0.4444444444444444,\"#bd3786\"],[0.5555555555555556,\"#d8576b\"],[0.6666666666666666,\"#ed7953\"],[0.7777777777777778,\"#fb9f3a\"],[0.8888888888888888,\"#fdca26\"],[1.0,\"#f0f921\"]],\"type\":\"histogram2dcontour\"}],\"mesh3d\":[{\"colorbar\":{\"outlinewidth\":0,\"ticks\":\"\"},\"type\":\"mesh3d\"}],\"parcoords\":[{\"line\":{\"colorbar\":{\"outlinewidth\":0,\"ticks\":\"\"}},\"type\":\"parcoords\"}],\"pie\":[{\"automargin\":true,\"type\":\"pie\"}],\"scatter\":[{\"marker\":{\"colorbar\":{\"outlinewidth\":0,\"ticks\":\"\"}},\"type\":\"scatter\"}],\"scatter3d\":[{\"line\":{\"colorbar\":{\"outlinewidth\":0,\"ticks\":\"\"}},\"marker\":{\"colorbar\":{\"outlinewidth\":0,\"ticks\":\"\"}},\"type\":\"scatter3d\"}],\"scattercarpet\":[{\"marker\":{\"colorbar\":{\"outlinewidth\":0,\"ticks\":\"\"}},\"type\":\"scattercarpet\"}],\"scattergeo\":[{\"marker\":{\"colorbar\":{\"outlinewidth\":0,\"ticks\":\"\"}},\"type\":\"scattergeo\"}],\"scattergl\":[{\"marker\":{\"colorbar\":{\"outlinewidth\":0,\"ticks\":\"\"}},\"type\":\"scattergl\"}],\"scattermapbox\":[{\"marker\":{\"colorbar\":{\"outlinewidth\":0,\"ticks\":\"\"}},\"type\":\"scattermapbox\"}],\"scatterpolar\":[{\"marker\":{\"colorbar\":{\"outlinewidth\":0,\"ticks\":\"\"}},\"type\":\"scatterpolar\"}],\"scatterpolargl\":[{\"marker\":{\"colorbar\":{\"outlinewidth\":0,\"ticks\":\"\"}},\"type\":\"scatterpolargl\"}],\"scatterternary\":[{\"marker\":{\"colorbar\":{\"outlinewidth\":0,\"ticks\":\"\"}},\"type\":\"scatterternary\"}],\"surface\":[{\"colorbar\":{\"outlinewidth\":0,\"ticks\":\"\"},\"colorscale\":[[0.0,\"#0d0887\"],[0.1111111111111111,\"#46039f\"],[0.2222222222222222,\"#7201a8\"],[0.3333333333333333,\"#9c179e\"],[0.4444444444444444,\"#bd3786\"],[0.5555555555555556,\"#d8576b\"],[0.6666666666666666,\"#ed7953\"],[0.7777777777777778,\"#fb9f3a\"],[0.8888888888888888,\"#fdca26\"],[1.0,\"#f0f921\"]],\"type\":\"surface\"}],\"table\":[{\"cells\":{\"fill\":{\"color\":\"#EBF0F8\"},\"line\":{\"color\":\"white\"}},\"header\":{\"fill\":{\"color\":\"#C8D4E3\"},\"line\":{\"color\":\"white\"}},\"type\":\"table\"}]},\"layout\":{\"annotationdefaults\":{\"arrowcolor\":\"#2a3f5f\",\"arrowhead\":0,\"arrowwidth\":1},\"autotypenumbers\":\"strict\",\"coloraxis\":{\"colorbar\":{\"outlinewidth\":0,\"ticks\":\"\"}},\"colorscale\":{\"diverging\":[[0,\"#8e0152\"],[0.1,\"#c51b7d\"],[0.2,\"#de77ae\"],[0.3,\"#f1b6da\"],[0.4,\"#fde0ef\"],[0.5,\"#f7f7f7\"],[0.6,\"#e6f5d0\"],[0.7,\"#b8e186\"],[0.8,\"#7fbc41\"],[0.9,\"#4d9221\"],[1,\"#276419\"]],\"sequential\":[[0.0,\"#0d0887\"],[0.1111111111111111,\"#46039f\"],[0.2222222222222222,\"#7201a8\"],[0.3333333333333333,\"#9c179e\"],[0.4444444444444444,\"#bd3786\"],[0.5555555555555556,\"#d8576b\"],[0.6666666666666666,\"#ed7953\"],[0.7777777777777778,\"#fb9f3a\"],[0.8888888888888888,\"#fdca26\"],[1.0,\"#f0f921\"]],\"sequentialminus\":[[0.0,\"#0d0887\"],[0.1111111111111111,\"#46039f\"],[0.2222222222222222,\"#7201a8\"],[0.3333333333333333,\"#9c179e\"],[0.4444444444444444,\"#bd3786\"],[0.5555555555555556,\"#d8576b\"],[0.6666666666666666,\"#ed7953\"],[0.7777777777777778,\"#fb9f3a\"],[0.8888888888888888,\"#fdca26\"],[1.0,\"#f0f921\"]]},\"colorway\":[\"#636efa\",\"#EF553B\",\"#00cc96\",\"#ab63fa\",\"#FFA15A\",\"#19d3f3\",\"#FF6692\",\"#B6E880\",\"#FF97FF\",\"#FECB52\"],\"font\":{\"color\":\"#2a3f5f\"},\"geo\":{\"bgcolor\":\"white\",\"lakecolor\":\"white\",\"landcolor\":\"#E5ECF6\",\"showlakes\":true,\"showland\":true,\"subunitcolor\":\"white\"},\"hoverlabel\":{\"align\":\"left\"},\"hovermode\":\"closest\",\"mapbox\":{\"style\":\"light\"},\"paper_bgcolor\":\"white\",\"plot_bgcolor\":\"#E5ECF6\",\"polar\":{\"angularaxis\":{\"gridcolor\":\"white\",\"linecolor\":\"white\",\"ticks\":\"\"},\"bgcolor\":\"#E5ECF6\",\"radialaxis\":{\"gridcolor\":\"white\",\"linecolor\":\"white\",\"ticks\":\"\"}},\"scene\":{\"xaxis\":{\"backgroundcolor\":\"#E5ECF6\",\"gridcolor\":\"white\",\"gridwidth\":2,\"linecolor\":\"white\",\"showbackground\":true,\"ticks\":\"\",\"zerolinecolor\":\"white\"},\"yaxis\":{\"backgroundcolor\":\"#E5ECF6\",\"gridcolor\":\"white\",\"gridwidth\":2,\"linecolor\":\"white\",\"showbackground\":true,\"ticks\":\"\",\"zerolinecolor\":\"white\"},\"zaxis\":{\"backgroundcolor\":\"#E5ECF6\",\"gridcolor\":\"white\",\"gridwidth\":2,\"linecolor\":\"white\",\"showbackground\":true,\"ticks\":\"\",\"zerolinecolor\":\"white\"}},\"shapedefaults\":{\"line\":{\"color\":\"#2a3f5f\"}},\"ternary\":{\"aaxis\":{\"gridcolor\":\"white\",\"linecolor\":\"white\",\"ticks\":\"\"},\"baxis\":{\"gridcolor\":\"white\",\"linecolor\":\"white\",\"ticks\":\"\"},\"bgcolor\":\"#E5ECF6\",\"caxis\":{\"gridcolor\":\"white\",\"linecolor\":\"white\",\"ticks\":\"\"}},\"title\":{\"x\":0.05},\"xaxis\":{\"automargin\":true,\"gridcolor\":\"white\",\"linecolor\":\"white\",\"ticks\":\"\",\"title\":{\"standoff\":15},\"zerolinecolor\":\"white\",\"zerolinewidth\":2},\"yaxis\":{\"automargin\":true,\"gridcolor\":\"white\",\"linecolor\":\"white\",\"ticks\":\"\",\"title\":{\"standoff\":15},\"zerolinecolor\":\"white\",\"zerolinewidth\":2}}},\"title\":{\"text\":\"Number of views\"},\"yaxis\":{\"type\":\"log\"}},                        {\"responsive\": true}                    ).then(function(){\n",
       "                            \n",
       "var gd = document.getElementById('7c15eadd-225b-4680-acd4-ab6fdc6a7989');\n",
       "var x = new MutationObserver(function (mutations, observer) {{\n",
       "        var display = window.getComputedStyle(gd).display;\n",
       "        if (!display || display === 'none') {{\n",
       "            console.log([gd, 'removed!']);\n",
       "            Plotly.purge(gd);\n",
       "            observer.disconnect();\n",
       "        }}\n",
       "}});\n",
       "\n",
       "// Listen for the removal of the full notebook cells\n",
       "var notebookContainer = gd.closest('#notebook-container');\n",
       "if (notebookContainer) {{\n",
       "    x.observe(notebookContainer, {childList: true});\n",
       "}}\n",
       "\n",
       "// Listen for the clearing of the current output cell\n",
       "var outputEl = gd.closest('.output');\n",
       "if (outputEl) {{\n",
       "    x.observe(outputEl, {childList: true});\n",
       "}}\n",
       "\n",
       "                        })                };                });            </script>        </div>"
      ]
     },
     "metadata": {},
     "output_type": "display_data"
    }
   ],
   "source": [
    "data = []\n",
    "for l in A.keys():\n",
    "    data.append(go.Scatter(y=A[l], name=f\"sales, l={l[0]/100:.2f}, v={l[1]/1000:.2}\"))\n",
    "go.Figure(data=[go.Scatter(y=T, name=\"views\")] + data,\n",
    "          layout=go.Layout(title=\"Number of views\", yaxis={\"type\": \"log\"}))"
   ]
  },
  {
   "cell_type": "markdown",
   "metadata": {},
   "source": [
    "# Logistic (S-Curve) Decay Model"
   ]
  },
  {
   "cell_type": "markdown",
   "metadata": {},
   "source": [
    "$A_t = {1 \\over (1 - e^{-vT_t})} + \\lambda A_{t-1}$,  \n",
    "Values are the same, plus  \n",
    "$v$ - saturation"
   ]
  },
  {
   "cell_type": "code",
   "execution_count": 109,
   "metadata": {},
   "outputs": [],
   "source": [
    "# 0 < l < 100\n",
    "l_values = [15, 40, 60, 80]\n",
    "# 0 < v < 1000\n",
    "v_values = [1, 2, 3, 5, 10, 20, 50]"
   ]
  },
  {
   "cell_type": "code",
   "execution_count": 110,
   "metadata": {},
   "outputs": [],
   "source": [
    "A = {}\n",
    "for l in l_values:\n",
    "    for v in v_values:\n",
    "        A_l = []\n",
    "        A_prev = 0\n",
    "        for i in range(len(T)):\n",
    "            A_cur = 1 / (1 - np.exp(-v/1000 * T[i])) + l/100 * A_prev\n",
    "            A_l.append(A_cur)\n",
    "            A_prev = A_cur\n",
    "        A[(l, v)] = np.array(A_l)"
   ]
  },
  {
   "cell_type": "code",
   "execution_count": 111,
   "metadata": {},
   "outputs": [
    {
     "data": {
      "application/vnd.plotly.v1+json": {
       "config": {
        "plotlyServerURL": "https://plot.ly"
       },
       "data": [
        {
         "name": "views",
         "type": "scatter",
         "y": [
          100,
          200,
          300,
          400,
          500,
          1000,
          2000,
          4000,
          3000,
          2000,
          1000,
          500,
          300,
          200,
          100
         ]
        },
        {
         "name": "sales, l=0.15, v=0.001",
         "type": "scatter",
         "y": [
          10.508331944775044,
          7.09290535784325,
          4.92223171718657,
          3.771579539297722,
          3.1072310134314565,
          2.048061358884045,
          1.4637268465822724,
          1.238216387351115,
          1.2381281545939231,
          1.3422368659387542,
          1.7833122367601395,
          2.8089909180508195,
          4.2796445512177055,
          6.1586022488096495,
          11.432122282096492
         ]
        },
        {
         "name": "sales, l=0.15, v=0.002",
         "type": "scatter",
         "y": [
          5.516655566126993,
          3.860743116638786,
          2.795480682656689,
          2.2352883233145975,
          1.917269955366516,
          1.444108136054643,
          1.2352735807719706,
          1.1856266123166368,
          1.18032890350434,
          1.1957066958894251,
          1.3358736471330794,
          1.7823577539392883,
          2.4837228782517644,
          3.4058032134575016,
          6.027526048145619
         ]
        },
        {
         "name": "sales, l=0.15, v=0.003",
         "type": "scatter",
         "y": [
          3.8582959135100827,
          2.7951136021873837,
          2.1043847907331155,
          1.7466704793033008,
          1.5492174886843633,
          1.2847783197939104,
          1.1952016596259312,
          1.1792863931939945,
          1.1770163840150452,
          1.1790373692591014,
          1.2292513018801212,
          1.4716046120708863,
          1.9058584422156408,
          2.502247981493217,
          4.233633110734066
         ]
        },
        {
         "name": "sales, l=0.15, v=0.005",
         "type": "scatter",
         "y": [
          2.5414940825367984,
          1.9632008192498462,
          1.581697039676345,
          1.3937721987011176,
          1.2984913196390195,
          1.2015573528521573,
          1.1802790049188332,
          1.1770418527989785,
          1.176556583822261,
          1.1765288895643489,
          1.1832629883409567,
          1.2669149380849956,
          1.4772541575016174,
          1.803564830494569,
          2.812028807110984
         ]
        },
        {
         "name": "sales, l=0.15, v=0.01",
         "type": "scatter",
         "y": [
          1.5819767068693265,
          1.3938141487800646,
          1.2614678188082658,
          1.207877533185014,
          1.1879652848840563,
          1.178240194723618,
          1.1767360312696964,
          1.1765104046904544,
          1.1764765607036618,
          1.176471486166703,
          1.1765161249160152,
          1.1832610736437066,
          1.229884857537812,
          1.3410003713803376,
          1.7831267625763771
         ]
        },
        {
         "name": "sales, l=0.15, v=0.02",
         "type": "scatter",
         "y": [
          1.1565176427496657,
          1.192135006776224,
          1.1813051626732782,
          1.177531349601833,
          1.1766751044312846,
          1.1765012677258464,
          1.176475190158877,
          1.1764712785238316,
          1.1764706917785748,
          1.1764706037667862,
          1.1764705926261716,
          1.1765159908849354,
          1.178962310289585,
          1.1955017069072118,
          1.3358428987857476
         ]
        },
        {
         "name": "sales, l=0.15, v=0.05",
         "type": "scatter",
         "y": [
          1.0067836549063043,
          1.1510629502269554,
          1.1726597484364574,
          1.1758989643266222,
          1.1763848446628813,
          1.1764577266994323,
          1.176468659004915,
          1.1764702988507372,
          1.1764705448276105,
          1.1764705817241417,
          1.1764705872586212,
          1.1764705881026811,
          1.1764708941178161,
          1.1765160361086822,
          1.1832610603226066
         ]
        },
        {
         "name": "sales, l=0.40, v=0.001",
         "type": "scatter",
         "y": [
          10.508331944775044,
          9.719988344037011,
          7.746291251124887,
          6.131761282169692,
          4.994198595404676,
          3.579656145031197,
          2.5883801007621443,
          2.054009400668632,
          1.8739994567587086,
          1.9061174254531492,
          2.344423677050586,
          3.479263553357033,
          5.250001334852896,
          7.616656100068152,
          13.554994384802304
         ]
        },
        {
         "name": "sales, l=0.40, v=0.002",
         "type": "scatter",
         "y": [
          5.516655566126993,
          5.239907008170534,
          4.312332018429085,
          3.540899028287728,
          2.9983363181844176,
          2.3558521700234327,
          1.960998228373147,
          1.7847348665501,
          1.7163788582768846,
          1.705208903674528,
          1.838601204219477,
          2.3174171885571173,
          3.143336090583718,
          4.2905792179532245,
          7.2328872533082835
         ]
        },
        {
         "name": "sales, l=0.40, v=0.003",
         "type": "scatter",
         "y": [
          3.8582959135100827,
          3.759687580564904,
          3.1889927826309696,
          2.7066098737457214,
          2.3698608662871568,
          2.0003400430061187,
          1.8026209288592923,
          1.721054515793822,
          1.688545231353475,
          1.6779030041982348,
          1.7235568981705498,
          1.9766396760570881,
          2.475773620827843,
          3.2066786634920086,
          5.140967378906886
         ]
        },
        {
         "name": "sales, l=0.40, v=0.005",
         "type": "scatter",
         "y": [
          2.5414940825367984,
          2.598574339884046,
          2.3266466527424865,
          2.08717630384666,
          1.9242960113725163,
          1.7765020594553107,
          1.710646225773134,
          1.6842584923704074,
          1.673703702850577,
          1.6695268831312404,
          1.6745944081588005,
          1.7592632530973722,
          1.990922218027817,
          2.378345594080453,
          3.4928323201689797
         ]
        },
        {
         "name": "sales, l=0.40, v=0.01",
         "type": "scatter",
         "y": [
          1.5819767068693265,
          1.7893083254973963,
          1.7681190266902145,
          1.72590497103986,
          1.6971456433222483,
          1.678903659319909,
          1.6715614657891174,
          1.668624586315647,
          1.6674498345263524,
          1.6669799358716948,
          1.6668373763396875,
          1.6735186054421793,
          1.7218031386681276,
          1.8452388982169168,
          2.3200722661560933
         ]
        },
        {
         "name": "sales, l=0.40, v=0.02",
         "type": "scatter",
         "y": [
          1.1565176427496657,
          1.4812644174636405,
          1.5949906786423007,
          1.6383318466577614,
          1.6553781406541144,
          1.6621512583227995,
          1.6648605033291197,
          1.665944201331648,
          1.6663776805326593,
          1.6665510722130636,
          1.6666204309463792,
          1.6666935743695614,
          1.6691623414046692,
          1.686322296925642,
          1.8310465615199225
         ]
        },
        {
         "name": "sales, l=0.40, v=0.05",
         "type": "scatter",
         "y": [
          1.0067836549063043,
          1.4027588639535313,
          1.5611038514838267,
          1.6244415426546843,
          1.6497766170757617,
          1.6599106468303049,
          1.663964258732122,
          1.665585703492849,
          1.6662342813971396,
          1.666493712558856,
          1.6665974850235425,
          1.666638994023305,
          1.666655903511736,
          1.6667077633957041,
          1.6734667602645859
         ]
        },
        {
         "name": "sales, l=0.60, v=0.001",
         "type": "scatter",
         "y": [
          10.508331944775044,
          11.82165473299202,
          10.951288753305295,
          9.604018033702914,
          8.303904902758546,
          6.564319648524454,
          5.095109431864338,
          4.075723019482377,
          3.497829508180682,
          3.2552153476580745,
          3.535105915464171,
          4.662557631815301,
          6.655830492599263,
          9.51015386168655,
          16.214424261786974
         ]
        },
        {
         "name": "sales, l=0.60, v=0.002",
         "type": "scatter",
         "y": [
          5.516655566126993,
          6.343238121395933,
          6.022312087998431,
          5.429353473715152,
          4.839588791098418,
          4.060270917408716,
          3.454819910809004,
          3.0732275216862437,
          2.846421424668591,
          2.7265102151649288,
          2.7924237718486227,
          3.2574309699785,
          4.170827797147971,
          5.535741460008519,
          8.838100442132104
         ]
        },
        {
         "name": "sales, l=0.60, v=0.003",
         "type": "scatter",
         "y": [
          3.8582959135100827,
          4.531346763266921,
          4.403925808365161,
          4.073368245712429,
          3.7312378642163253,
          3.291138415021051,
          2.977167960669475,
          2.78630692065179,
          2.67190757742702,
          2.6056294581130564,
          2.61577337135909,
          2.8566809396043222,
          3.399126314167601,
          4.255845003661432,
          6.411802915706941
         ]
        },
        {
         "name": "sales, l=0.60, v=0.005",
         "type": "scatter",
         "y": [
          2.5414940825367984,
          3.1068731563914054,
          3.1513408106237115,
          3.0473221291238923,
          2.9178187673081872,
          2.7574749152912164,
          2.6545303511657394,
          2.592718212760597,
          2.5556312335587723,
          2.533424142126273,
          2.5268381401820683,
          2.605528373943093,
          2.850533941154724,
          3.2922970715621607,
          4.516872325474095
         ]
        },
        {
         "name": "sales, l=0.60, v=0.01",
         "type": "scatter",
         "y": [
          1.5819767068693265,
          2.1057036668712614,
          2.315817896614013,
          2.4081480983321817,
          2.4516725139056135,
          2.471048910334378,
          2.4826293482617805,
          2.4895776089570685,
          2.4937465653743347,
          2.4962479412857546,
          2.4977941667624624,
          2.5054601549637816,
          2.5556717894695247,
          2.6899207164313808,
          3.1959291367281546
         ]
        },
        {
         "name": "sales, l=0.60, v=0.02",
         "type": "scatter",
         "y": [
          1.1565176427496657,
          1.7125679460135736,
          2.0300256792649884,
          2.2183509827598344,
          2.3310559916469105,
          2.3986335970493,
          2.43918015822958,
          2.463508094937748,
          2.4781048569626485,
          2.486862914177589,
          2.492117750567707,
          2.495316052331634,
          2.499674543055825,
          2.5184620861972693,
          2.667594894468027
         ]
        },
        {
         "name": "sales, l=0.60, v=0.05",
         "type": "scatter",
         "y": [
          1.0067836549063043,
          1.6041155949347923,
          1.9624696628632894,
          2.1774817997791276,
          2.3064890798813646,
          2.383893447928819,
          2.430336068757291,
          2.458201641254375,
          2.474920984752625,
          2.4849525908515746,
          2.4909715545109448,
          2.494582932720455,
          2.496750065534687,
          2.498095441311822,
          2.5056409196933975
         ]
        },
        {
         "name": "sales, l=0.80, v=0.001",
         "type": "scatter",
         "y": [
          10.508331944775044,
          13.92332112194703,
          14.996952811067708,
          15.030807030573904,
          14.566139706995923,
          13.234888472466066,
          11.74442842072252,
          10.414200096941789,
          9.383755774044689,
          8.663522261985417,
          8.51279451645766,
          9.351729695702927,
          11.339679670072424,
          14.588399302184932,
          22.179051386522993
         ]
        },
        {
         "name": "sales, l=0.80, v=0.002",
         "type": "scatter",
         "y": [
          5.516655566126993,
          7.4465692346213315,
          8.173624602857936,
          8.354865903202443,
          8.26586942943128,
          7.7692131862946905,
          7.2340279093995274,
          6.787557902720463,
          6.432531233833215,
          6.164682347430347,
          6.0882635206939435,
          6.452587523424482,
          7.3784392339004565,
          8.935996168840102,
          12.665452501199075
         ]
        },
        {
         "name": "sales, l=0.80, v=0.003",
         "type": "scatter",
         "y": [
          3.8582959135100827,
          5.303005945968938,
          5.927522507180159,
          6.173030766437461,
          6.225641529938837,
          6.032908920442326,
          5.828812048010706,
          5.66305578265867,
          5.5305680511628825,
          5.426939352587151,
          5.3939471785609765,
          5.60237465963765,
          6.1670174781151275,
          7.149983197652974,
          9.578282471632463
         ]
        },
        {
         "name": "sales, l=0.80, v=0.005",
         "type": "scatter",
         "y": [
          2.5414940825367984,
          3.6151719728987652,
          4.17935449510788,
          4.50000123883597,
          4.689426480902628,
          4.758324839628407,
          4.806705273693735,
          4.845364221016142,
          4.876291682715328,
          4.901078748163272,
          4.927646653436922,
          5.031542812583389,
          5.312451166855579,
          5.83193764035379,
          7.207044194819831
         ]
        },
        {
         "name": "sales, l=0.80, v=0.01",
         "type": "scatter",
         "y": [
          1.5819767068693265,
          2.422099008245127,
          2.9900749030873577,
          3.4107172828336605,
          3.735357481173233,
          3.9883313869295964,
          4.190665111604831,
          4.352532089283866,
          4.482025671427186,
          4.585620539202902,
          4.6685418333533315,
          4.74161712158897,
          4.845689393762433,
          5.033069157759612,
          5.608432033077016
         ]
        },
        {
         "name": "sales, l=0.80, v=0.02",
         "type": "scatter",
         "y": [
          1.1565176427496657,
          1.9438714745635068,
          2.5575820913076504,
          3.046401248246961,
          3.4371664005885787,
          3.7497331225320165,
          3.9997864980256135,
          4.199829198420491,
          4.359863358736392,
          4.487890686989115,
          4.5903125516524454,
          4.672295443312966,
          4.740321266307218,
          4.810914373409549,
          5.0052491414773055
         ]
        },
        {
         "name": "sales, l=0.80, v=0.05",
         "type": "scatter",
         "y": [
          1.0067836549063043,
          1.8054723259160532,
          2.4443781666352566,
          2.955502535369359,
          3.3644020283093754,
          3.6915216226475005,
          3.9532172981180005,
          4.162573838494401,
          4.330059070795521,
          4.464047256636417,
          4.571237805309133,
          4.656990244261195,
          4.72559250131137,
          4.780519403040106,
          4.831199177338389
         ]
        }
       ],
       "layout": {
        "autosize": true,
        "template": {
         "data": {
          "bar": [
           {
            "error_x": {
             "color": "#2a3f5f"
            },
            "error_y": {
             "color": "#2a3f5f"
            },
            "marker": {
             "line": {
              "color": "#E5ECF6",
              "width": 0.5
             },
             "pattern": {
              "fillmode": "overlay",
              "size": 10,
              "solidity": 0.2
             }
            },
            "type": "bar"
           }
          ],
          "barpolar": [
           {
            "marker": {
             "line": {
              "color": "#E5ECF6",
              "width": 0.5
             },
             "pattern": {
              "fillmode": "overlay",
              "size": 10,
              "solidity": 0.2
             }
            },
            "type": "barpolar"
           }
          ],
          "carpet": [
           {
            "aaxis": {
             "endlinecolor": "#2a3f5f",
             "gridcolor": "white",
             "linecolor": "white",
             "minorgridcolor": "white",
             "startlinecolor": "#2a3f5f"
            },
            "baxis": {
             "endlinecolor": "#2a3f5f",
             "gridcolor": "white",
             "linecolor": "white",
             "minorgridcolor": "white",
             "startlinecolor": "#2a3f5f"
            },
            "type": "carpet"
           }
          ],
          "choropleth": [
           {
            "colorbar": {
             "outlinewidth": 0,
             "ticks": ""
            },
            "type": "choropleth"
           }
          ],
          "contour": [
           {
            "colorbar": {
             "outlinewidth": 0,
             "ticks": ""
            },
            "colorscale": [
             [
              0,
              "#0d0887"
             ],
             [
              0.1111111111111111,
              "#46039f"
             ],
             [
              0.2222222222222222,
              "#7201a8"
             ],
             [
              0.3333333333333333,
              "#9c179e"
             ],
             [
              0.4444444444444444,
              "#bd3786"
             ],
             [
              0.5555555555555556,
              "#d8576b"
             ],
             [
              0.6666666666666666,
              "#ed7953"
             ],
             [
              0.7777777777777778,
              "#fb9f3a"
             ],
             [
              0.8888888888888888,
              "#fdca26"
             ],
             [
              1,
              "#f0f921"
             ]
            ],
            "type": "contour"
           }
          ],
          "contourcarpet": [
           {
            "colorbar": {
             "outlinewidth": 0,
             "ticks": ""
            },
            "type": "contourcarpet"
           }
          ],
          "heatmap": [
           {
            "colorbar": {
             "outlinewidth": 0,
             "ticks": ""
            },
            "colorscale": [
             [
              0,
              "#0d0887"
             ],
             [
              0.1111111111111111,
              "#46039f"
             ],
             [
              0.2222222222222222,
              "#7201a8"
             ],
             [
              0.3333333333333333,
              "#9c179e"
             ],
             [
              0.4444444444444444,
              "#bd3786"
             ],
             [
              0.5555555555555556,
              "#d8576b"
             ],
             [
              0.6666666666666666,
              "#ed7953"
             ],
             [
              0.7777777777777778,
              "#fb9f3a"
             ],
             [
              0.8888888888888888,
              "#fdca26"
             ],
             [
              1,
              "#f0f921"
             ]
            ],
            "type": "heatmap"
           }
          ],
          "heatmapgl": [
           {
            "colorbar": {
             "outlinewidth": 0,
             "ticks": ""
            },
            "colorscale": [
             [
              0,
              "#0d0887"
             ],
             [
              0.1111111111111111,
              "#46039f"
             ],
             [
              0.2222222222222222,
              "#7201a8"
             ],
             [
              0.3333333333333333,
              "#9c179e"
             ],
             [
              0.4444444444444444,
              "#bd3786"
             ],
             [
              0.5555555555555556,
              "#d8576b"
             ],
             [
              0.6666666666666666,
              "#ed7953"
             ],
             [
              0.7777777777777778,
              "#fb9f3a"
             ],
             [
              0.8888888888888888,
              "#fdca26"
             ],
             [
              1,
              "#f0f921"
             ]
            ],
            "type": "heatmapgl"
           }
          ],
          "histogram": [
           {
            "marker": {
             "pattern": {
              "fillmode": "overlay",
              "size": 10,
              "solidity": 0.2
             }
            },
            "type": "histogram"
           }
          ],
          "histogram2d": [
           {
            "colorbar": {
             "outlinewidth": 0,
             "ticks": ""
            },
            "colorscale": [
             [
              0,
              "#0d0887"
             ],
             [
              0.1111111111111111,
              "#46039f"
             ],
             [
              0.2222222222222222,
              "#7201a8"
             ],
             [
              0.3333333333333333,
              "#9c179e"
             ],
             [
              0.4444444444444444,
              "#bd3786"
             ],
             [
              0.5555555555555556,
              "#d8576b"
             ],
             [
              0.6666666666666666,
              "#ed7953"
             ],
             [
              0.7777777777777778,
              "#fb9f3a"
             ],
             [
              0.8888888888888888,
              "#fdca26"
             ],
             [
              1,
              "#f0f921"
             ]
            ],
            "type": "histogram2d"
           }
          ],
          "histogram2dcontour": [
           {
            "colorbar": {
             "outlinewidth": 0,
             "ticks": ""
            },
            "colorscale": [
             [
              0,
              "#0d0887"
             ],
             [
              0.1111111111111111,
              "#46039f"
             ],
             [
              0.2222222222222222,
              "#7201a8"
             ],
             [
              0.3333333333333333,
              "#9c179e"
             ],
             [
              0.4444444444444444,
              "#bd3786"
             ],
             [
              0.5555555555555556,
              "#d8576b"
             ],
             [
              0.6666666666666666,
              "#ed7953"
             ],
             [
              0.7777777777777778,
              "#fb9f3a"
             ],
             [
              0.8888888888888888,
              "#fdca26"
             ],
             [
              1,
              "#f0f921"
             ]
            ],
            "type": "histogram2dcontour"
           }
          ],
          "mesh3d": [
           {
            "colorbar": {
             "outlinewidth": 0,
             "ticks": ""
            },
            "type": "mesh3d"
           }
          ],
          "parcoords": [
           {
            "line": {
             "colorbar": {
              "outlinewidth": 0,
              "ticks": ""
             }
            },
            "type": "parcoords"
           }
          ],
          "pie": [
           {
            "automargin": true,
            "type": "pie"
           }
          ],
          "scatter": [
           {
            "marker": {
             "colorbar": {
              "outlinewidth": 0,
              "ticks": ""
             }
            },
            "type": "scatter"
           }
          ],
          "scatter3d": [
           {
            "line": {
             "colorbar": {
              "outlinewidth": 0,
              "ticks": ""
             }
            },
            "marker": {
             "colorbar": {
              "outlinewidth": 0,
              "ticks": ""
             }
            },
            "type": "scatter3d"
           }
          ],
          "scattercarpet": [
           {
            "marker": {
             "colorbar": {
              "outlinewidth": 0,
              "ticks": ""
             }
            },
            "type": "scattercarpet"
           }
          ],
          "scattergeo": [
           {
            "marker": {
             "colorbar": {
              "outlinewidth": 0,
              "ticks": ""
             }
            },
            "type": "scattergeo"
           }
          ],
          "scattergl": [
           {
            "marker": {
             "colorbar": {
              "outlinewidth": 0,
              "ticks": ""
             }
            },
            "type": "scattergl"
           }
          ],
          "scattermapbox": [
           {
            "marker": {
             "colorbar": {
              "outlinewidth": 0,
              "ticks": ""
             }
            },
            "type": "scattermapbox"
           }
          ],
          "scatterpolar": [
           {
            "marker": {
             "colorbar": {
              "outlinewidth": 0,
              "ticks": ""
             }
            },
            "type": "scatterpolar"
           }
          ],
          "scatterpolargl": [
           {
            "marker": {
             "colorbar": {
              "outlinewidth": 0,
              "ticks": ""
             }
            },
            "type": "scatterpolargl"
           }
          ],
          "scatterternary": [
           {
            "marker": {
             "colorbar": {
              "outlinewidth": 0,
              "ticks": ""
             }
            },
            "type": "scatterternary"
           }
          ],
          "surface": [
           {
            "colorbar": {
             "outlinewidth": 0,
             "ticks": ""
            },
            "colorscale": [
             [
              0,
              "#0d0887"
             ],
             [
              0.1111111111111111,
              "#46039f"
             ],
             [
              0.2222222222222222,
              "#7201a8"
             ],
             [
              0.3333333333333333,
              "#9c179e"
             ],
             [
              0.4444444444444444,
              "#bd3786"
             ],
             [
              0.5555555555555556,
              "#d8576b"
             ],
             [
              0.6666666666666666,
              "#ed7953"
             ],
             [
              0.7777777777777778,
              "#fb9f3a"
             ],
             [
              0.8888888888888888,
              "#fdca26"
             ],
             [
              1,
              "#f0f921"
             ]
            ],
            "type": "surface"
           }
          ],
          "table": [
           {
            "cells": {
             "fill": {
              "color": "#EBF0F8"
             },
             "line": {
              "color": "white"
             }
            },
            "header": {
             "fill": {
              "color": "#C8D4E3"
             },
             "line": {
              "color": "white"
             }
            },
            "type": "table"
           }
          ]
         },
         "layout": {
          "annotationdefaults": {
           "arrowcolor": "#2a3f5f",
           "arrowhead": 0,
           "arrowwidth": 1
          },
          "autotypenumbers": "strict",
          "coloraxis": {
           "colorbar": {
            "outlinewidth": 0,
            "ticks": ""
           }
          },
          "colorscale": {
           "diverging": [
            [
             0,
             "#8e0152"
            ],
            [
             0.1,
             "#c51b7d"
            ],
            [
             0.2,
             "#de77ae"
            ],
            [
             0.3,
             "#f1b6da"
            ],
            [
             0.4,
             "#fde0ef"
            ],
            [
             0.5,
             "#f7f7f7"
            ],
            [
             0.6,
             "#e6f5d0"
            ],
            [
             0.7,
             "#b8e186"
            ],
            [
             0.8,
             "#7fbc41"
            ],
            [
             0.9,
             "#4d9221"
            ],
            [
             1,
             "#276419"
            ]
           ],
           "sequential": [
            [
             0,
             "#0d0887"
            ],
            [
             0.1111111111111111,
             "#46039f"
            ],
            [
             0.2222222222222222,
             "#7201a8"
            ],
            [
             0.3333333333333333,
             "#9c179e"
            ],
            [
             0.4444444444444444,
             "#bd3786"
            ],
            [
             0.5555555555555556,
             "#d8576b"
            ],
            [
             0.6666666666666666,
             "#ed7953"
            ],
            [
             0.7777777777777778,
             "#fb9f3a"
            ],
            [
             0.8888888888888888,
             "#fdca26"
            ],
            [
             1,
             "#f0f921"
            ]
           ],
           "sequentialminus": [
            [
             0,
             "#0d0887"
            ],
            [
             0.1111111111111111,
             "#46039f"
            ],
            [
             0.2222222222222222,
             "#7201a8"
            ],
            [
             0.3333333333333333,
             "#9c179e"
            ],
            [
             0.4444444444444444,
             "#bd3786"
            ],
            [
             0.5555555555555556,
             "#d8576b"
            ],
            [
             0.6666666666666666,
             "#ed7953"
            ],
            [
             0.7777777777777778,
             "#fb9f3a"
            ],
            [
             0.8888888888888888,
             "#fdca26"
            ],
            [
             1,
             "#f0f921"
            ]
           ]
          },
          "colorway": [
           "#636efa",
           "#EF553B",
           "#00cc96",
           "#ab63fa",
           "#FFA15A",
           "#19d3f3",
           "#FF6692",
           "#B6E880",
           "#FF97FF",
           "#FECB52"
          ],
          "font": {
           "color": "#2a3f5f"
          },
          "geo": {
           "bgcolor": "white",
           "lakecolor": "white",
           "landcolor": "#E5ECF6",
           "showlakes": true,
           "showland": true,
           "subunitcolor": "white"
          },
          "hoverlabel": {
           "align": "left"
          },
          "hovermode": "closest",
          "mapbox": {
           "style": "light"
          },
          "paper_bgcolor": "white",
          "plot_bgcolor": "#E5ECF6",
          "polar": {
           "angularaxis": {
            "gridcolor": "white",
            "linecolor": "white",
            "ticks": ""
           },
           "bgcolor": "#E5ECF6",
           "radialaxis": {
            "gridcolor": "white",
            "linecolor": "white",
            "ticks": ""
           }
          },
          "scene": {
           "xaxis": {
            "backgroundcolor": "#E5ECF6",
            "gridcolor": "white",
            "gridwidth": 2,
            "linecolor": "white",
            "showbackground": true,
            "ticks": "",
            "zerolinecolor": "white"
           },
           "yaxis": {
            "backgroundcolor": "#E5ECF6",
            "gridcolor": "white",
            "gridwidth": 2,
            "linecolor": "white",
            "showbackground": true,
            "ticks": "",
            "zerolinecolor": "white"
           },
           "zaxis": {
            "backgroundcolor": "#E5ECF6",
            "gridcolor": "white",
            "gridwidth": 2,
            "linecolor": "white",
            "showbackground": true,
            "ticks": "",
            "zerolinecolor": "white"
           }
          },
          "shapedefaults": {
           "line": {
            "color": "#2a3f5f"
           }
          },
          "ternary": {
           "aaxis": {
            "gridcolor": "white",
            "linecolor": "white",
            "ticks": ""
           },
           "baxis": {
            "gridcolor": "white",
            "linecolor": "white",
            "ticks": ""
           },
           "bgcolor": "#E5ECF6",
           "caxis": {
            "gridcolor": "white",
            "linecolor": "white",
            "ticks": ""
           }
          },
          "title": {
           "x": 0.05
          },
          "xaxis": {
           "automargin": true,
           "gridcolor": "white",
           "linecolor": "white",
           "ticks": "",
           "title": {
            "standoff": 15
           },
           "zerolinecolor": "white",
           "zerolinewidth": 2
          },
          "yaxis": {
           "automargin": true,
           "gridcolor": "white",
           "linecolor": "white",
           "ticks": "",
           "title": {
            "standoff": 15
           },
           "zerolinecolor": "white",
           "zerolinewidth": 2
          }
         }
        },
        "title": {
         "text": "Number of views"
        },
        "xaxis": {
         "autorange": true,
         "range": [
          -0.8130287648054146,
          14.813028764805415
         ]
        },
        "yaxis": {
         "autorange": true,
         "range": [
          -0.294078917594949,
          3.8990750651023545
         ],
         "type": "log"
        }
       }
      },
      "image/png": "[encoded data removed]",
      "text/html": [
       "<div>                            <div id=\"83f76f9a-c066-413b-9543-1c241958c663\" class=\"plotly-graph-div\" style=\"height:525px; width:100%;\"></div>            <script type=\"text/javascript\">                require([\"plotly\"], function(Plotly) {                    window.PLOTLYENV=window.PLOTLYENV || {};                                    if (document.getElementById(\"83f76f9a-c066-413b-9543-1c241958c663\")) {                    Plotly.newPlot(                        \"83f76f9a-c066-413b-9543-1c241958c663\",                        [{\"name\":\"views\",\"type\":\"scatter\",\"y\":[100,200,300,400,500,1000,2000,4000,3000,2000,1000,500,300,200,100]},{\"name\":\"sales, l=0.15, v=0.001\",\"type\":\"scatter\",\"y\":[10.508331944775044,7.09290535784325,4.92223171718657,3.771579539297722,3.1072310134314565,2.048061358884045,1.4637268465822724,1.238216387351115,1.2381281545939231,1.3422368659387542,1.7833122367601395,2.8089909180508195,4.2796445512177055,6.1586022488096495,11.432122282096492]},{\"name\":\"sales, l=0.15, v=0.002\",\"type\":\"scatter\",\"y\":[5.516655566126993,3.860743116638786,2.795480682656689,2.2352883233145975,1.917269955366516,1.444108136054643,1.2352735807719706,1.1856266123166368,1.18032890350434,1.1957066958894251,1.3358736471330794,1.7823577539392883,2.4837228782517644,3.4058032134575016,6.027526048145619]},{\"name\":\"sales, l=0.15, v=0.003\",\"type\":\"scatter\",\"y\":[3.8582959135100827,2.7951136021873837,2.1043847907331155,1.7466704793033008,1.5492174886843633,1.2847783197939104,1.1952016596259312,1.1792863931939945,1.1770163840150452,1.1790373692591014,1.2292513018801212,1.4716046120708863,1.9058584422156408,2.502247981493217,4.233633110734066]},{\"name\":\"sales, l=0.15, v=0.005\",\"type\":\"scatter\",\"y\":[2.5414940825367984,1.9632008192498462,1.581697039676345,1.3937721987011176,1.2984913196390195,1.2015573528521573,1.1802790049188332,1.1770418527989785,1.176556583822261,1.1765288895643489,1.1832629883409567,1.2669149380849956,1.4772541575016174,1.803564830494569,2.812028807110984]},{\"name\":\"sales, l=0.15, v=0.01\",\"type\":\"scatter\",\"y\":[1.5819767068693265,1.3938141487800646,1.2614678188082658,1.207877533185014,1.1879652848840563,1.178240194723618,1.1767360312696964,1.1765104046904544,1.1764765607036618,1.176471486166703,1.1765161249160152,1.1832610736437066,1.229884857537812,1.3410003713803376,1.7831267625763771]},{\"name\":\"sales, l=0.15, v=0.02\",\"type\":\"scatter\",\"y\":[1.1565176427496657,1.192135006776224,1.1813051626732782,1.177531349601833,1.1766751044312846,1.1765012677258464,1.176475190158877,1.1764712785238316,1.1764706917785748,1.1764706037667862,1.1764705926261716,1.1765159908849354,1.178962310289585,1.1955017069072118,1.3358428987857476]},{\"name\":\"sales, l=0.15, v=0.05\",\"type\":\"scatter\",\"y\":[1.0067836549063043,1.1510629502269554,1.1726597484364574,1.1758989643266222,1.1763848446628813,1.1764577266994323,1.176468659004915,1.1764702988507372,1.1764705448276105,1.1764705817241417,1.1764705872586212,1.1764705881026811,1.1764708941178161,1.1765160361086822,1.1832610603226066]},{\"name\":\"sales, l=0.40, v=0.001\",\"type\":\"scatter\",\"y\":[10.508331944775044,9.719988344037011,7.746291251124887,6.131761282169692,4.994198595404676,3.579656145031197,2.5883801007621443,2.054009400668632,1.8739994567587086,1.9061174254531492,2.344423677050586,3.479263553357033,5.250001334852896,7.616656100068152,13.554994384802304]},{\"name\":\"sales, l=0.40, v=0.002\",\"type\":\"scatter\",\"y\":[5.516655566126993,5.239907008170534,4.312332018429085,3.540899028287728,2.9983363181844176,2.3558521700234327,1.960998228373147,1.7847348665501,1.7163788582768846,1.705208903674528,1.838601204219477,2.3174171885571173,3.143336090583718,4.2905792179532245,7.2328872533082835]},{\"name\":\"sales, l=0.40, v=0.003\",\"type\":\"scatter\",\"y\":[3.8582959135100827,3.759687580564904,3.1889927826309696,2.7066098737457214,2.3698608662871568,2.0003400430061187,1.8026209288592923,1.721054515793822,1.688545231353475,1.6779030041982348,1.7235568981705498,1.9766396760570881,2.475773620827843,3.2066786634920086,5.140967378906886]},{\"name\":\"sales, l=0.40, v=0.005\",\"type\":\"scatter\",\"y\":[2.5414940825367984,2.598574339884046,2.3266466527424865,2.08717630384666,1.9242960113725163,1.7765020594553107,1.710646225773134,1.6842584923704074,1.673703702850577,1.6695268831312404,1.6745944081588005,1.7592632530973722,1.990922218027817,2.378345594080453,3.4928323201689797]},{\"name\":\"sales, l=0.40, v=0.01\",\"type\":\"scatter\",\"y\":[1.5819767068693265,1.7893083254973963,1.7681190266902145,1.72590497103986,1.6971456433222483,1.678903659319909,1.6715614657891174,1.668624586315647,1.6674498345263524,1.6669799358716948,1.6668373763396875,1.6735186054421793,1.7218031386681276,1.8452388982169168,2.3200722661560933]},{\"name\":\"sales, l=0.40, v=0.02\",\"type\":\"scatter\",\"y\":[1.1565176427496657,1.4812644174636405,1.5949906786423007,1.6383318466577614,1.6553781406541144,1.6621512583227995,1.6648605033291197,1.665944201331648,1.6663776805326593,1.6665510722130636,1.6666204309463792,1.6666935743695614,1.6691623414046692,1.686322296925642,1.8310465615199225]},{\"name\":\"sales, l=0.40, v=0.05\",\"type\":\"scatter\",\"y\":[1.0067836549063043,1.4027588639535313,1.5611038514838267,1.6244415426546843,1.6497766170757617,1.6599106468303049,1.663964258732122,1.665585703492849,1.6662342813971396,1.666493712558856,1.6665974850235425,1.666638994023305,1.666655903511736,1.6667077633957041,1.6734667602645859]},{\"name\":\"sales, l=0.60, v=0.001\",\"type\":\"scatter\",\"y\":[10.508331944775044,11.82165473299202,10.951288753305295,9.604018033702914,8.303904902758546,6.564319648524454,5.095109431864338,4.075723019482377,3.497829508180682,3.2552153476580745,3.535105915464171,4.662557631815301,6.655830492599263,9.51015386168655,16.214424261786974]},{\"name\":\"sales, l=0.60, v=0.002\",\"type\":\"scatter\",\"y\":[5.516655566126993,6.343238121395933,6.022312087998431,5.429353473715152,4.839588791098418,4.060270917408716,3.454819910809004,3.0732275216862437,2.846421424668591,2.7265102151649288,2.7924237718486227,3.2574309699785,4.170827797147971,5.535741460008519,8.838100442132104]},{\"name\":\"sales, l=0.60, v=0.003\",\"type\":\"scatter\",\"y\":[3.8582959135100827,4.531346763266921,4.403925808365161,4.073368245712429,3.7312378642163253,3.291138415021051,2.977167960669475,2.78630692065179,2.67190757742702,2.6056294581130564,2.61577337135909,2.8566809396043222,3.399126314167601,4.255845003661432,6.411802915706941]},{\"name\":\"sales, l=0.60, v=0.005\",\"type\":\"scatter\",\"y\":[2.5414940825367984,3.1068731563914054,3.1513408106237115,3.0473221291238923,2.9178187673081872,2.7574749152912164,2.6545303511657394,2.592718212760597,2.5556312335587723,2.533424142126273,2.5268381401820683,2.605528373943093,2.850533941154724,3.2922970715621607,4.516872325474095]},{\"name\":\"sales, l=0.60, v=0.01\",\"type\":\"scatter\",\"y\":[1.5819767068693265,2.1057036668712614,2.315817896614013,2.4081480983321817,2.4516725139056135,2.471048910334378,2.4826293482617805,2.4895776089570685,2.4937465653743347,2.4962479412857546,2.4977941667624624,2.5054601549637816,2.5556717894695247,2.6899207164313808,3.1959291367281546]},{\"name\":\"sales, l=0.60, v=0.02\",\"type\":\"scatter\",\"y\":[1.1565176427496657,1.7125679460135736,2.0300256792649884,2.2183509827598344,2.3310559916469105,2.3986335970493,2.43918015822958,2.463508094937748,2.4781048569626485,2.486862914177589,2.492117750567707,2.495316052331634,2.499674543055825,2.5184620861972693,2.667594894468027]},{\"name\":\"sales, l=0.60, v=0.05\",\"type\":\"scatter\",\"y\":[1.0067836549063043,1.6041155949347923,1.9624696628632894,2.1774817997791276,2.3064890798813646,2.383893447928819,2.430336068757291,2.458201641254375,2.474920984752625,2.4849525908515746,2.4909715545109448,2.494582932720455,2.496750065534687,2.498095441311822,2.5056409196933975]},{\"name\":\"sales, l=0.80, v=0.001\",\"type\":\"scatter\",\"y\":[10.508331944775044,13.92332112194703,14.996952811067708,15.030807030573904,14.566139706995923,13.234888472466066,11.74442842072252,10.414200096941789,9.383755774044689,8.663522261985417,8.51279451645766,9.351729695702927,11.339679670072424,14.588399302184932,22.179051386522993]},{\"name\":\"sales, l=0.80, v=0.002\",\"type\":\"scatter\",\"y\":[5.516655566126993,7.4465692346213315,8.173624602857936,8.354865903202443,8.26586942943128,7.7692131862946905,7.2340279093995274,6.787557902720463,6.432531233833215,6.164682347430347,6.0882635206939435,6.452587523424482,7.3784392339004565,8.935996168840102,12.665452501199075]},{\"name\":\"sales, l=0.80, v=0.003\",\"type\":\"scatter\",\"y\":[3.8582959135100827,5.303005945968938,5.927522507180159,6.173030766437461,6.225641529938837,6.032908920442326,5.828812048010706,5.66305578265867,5.5305680511628825,5.426939352587151,5.3939471785609765,5.60237465963765,6.1670174781151275,7.149983197652974,9.578282471632463]},{\"name\":\"sales, l=0.80, v=0.005\",\"type\":\"scatter\",\"y\":[2.5414940825367984,3.6151719728987652,4.17935449510788,4.50000123883597,4.689426480902628,4.758324839628407,4.806705273693735,4.845364221016142,4.876291682715328,4.901078748163272,4.927646653436922,5.031542812583389,5.312451166855579,5.83193764035379,7.207044194819831]},{\"name\":\"sales, l=0.80, v=0.01\",\"type\":\"scatter\",\"y\":[1.5819767068693265,2.422099008245127,2.9900749030873577,3.4107172828336605,3.735357481173233,3.9883313869295964,4.190665111604831,4.352532089283866,4.482025671427186,4.585620539202902,4.6685418333533315,4.74161712158897,4.845689393762433,5.033069157759612,5.608432033077016]},{\"name\":\"sales, l=0.80, v=0.02\",\"type\":\"scatter\",\"y\":[1.1565176427496657,1.9438714745635068,2.5575820913076504,3.046401248246961,3.4371664005885787,3.7497331225320165,3.9997864980256135,4.199829198420491,4.359863358736392,4.487890686989115,4.5903125516524454,4.672295443312966,4.740321266307218,4.810914373409549,5.0052491414773055]},{\"name\":\"sales, l=0.80, v=0.05\",\"type\":\"scatter\",\"y\":[1.0067836549063043,1.8054723259160532,2.4443781666352566,2.955502535369359,3.3644020283093754,3.6915216226475005,3.9532172981180005,4.162573838494401,4.330059070795521,4.464047256636417,4.571237805309133,4.656990244261195,4.72559250131137,4.780519403040106,4.831199177338389]}],                        {\"template\":{\"data\":{\"bar\":[{\"error_x\":{\"color\":\"#2a3f5f\"},\"error_y\":{\"color\":\"#2a3f5f\"},\"marker\":{\"line\":{\"color\":\"#E5ECF6\",\"width\":0.5},\"pattern\":{\"fillmode\":\"overlay\",\"size\":10,\"solidity\":0.2}},\"type\":\"bar\"}],\"barpolar\":[{\"marker\":{\"line\":{\"color\":\"#E5ECF6\",\"width\":0.5},\"pattern\":{\"fillmode\":\"overlay\",\"size\":10,\"solidity\":0.2}},\"type\":\"barpolar\"}],\"carpet\":[{\"aaxis\":{\"endlinecolor\":\"#2a3f5f\",\"gridcolor\":\"white\",\"linecolor\":\"white\",\"minorgridcolor\":\"white\",\"startlinecolor\":\"#2a3f5f\"},\"baxis\":{\"endlinecolor\":\"#2a3f5f\",\"gridcolor\":\"white\",\"linecolor\":\"white\",\"minorgridcolor\":\"white\",\"startlinecolor\":\"#2a3f5f\"},\"type\":\"carpet\"}],\"choropleth\":[{\"colorbar\":{\"outlinewidth\":0,\"ticks\":\"\"},\"type\":\"choropleth\"}],\"contour\":[{\"colorbar\":{\"outlinewidth\":0,\"ticks\":\"\"},\"colorscale\":[[0.0,\"#0d0887\"],[0.1111111111111111,\"#46039f\"],[0.2222222222222222,\"#7201a8\"],[0.3333333333333333,\"#9c179e\"],[0.4444444444444444,\"#bd3786\"],[0.5555555555555556,\"#d8576b\"],[0.6666666666666666,\"#ed7953\"],[0.7777777777777778,\"#fb9f3a\"],[0.8888888888888888,\"#fdca26\"],[1.0,\"#f0f921\"]],\"type\":\"contour\"}],\"contourcarpet\":[{\"colorbar\":{\"outlinewidth\":0,\"ticks\":\"\"},\"type\":\"contourcarpet\"}],\"heatmap\":[{\"colorbar\":{\"outlinewidth\":0,\"ticks\":\"\"},\"colorscale\":[[0.0,\"#0d0887\"],[0.1111111111111111,\"#46039f\"],[0.2222222222222222,\"#7201a8\"],[0.3333333333333333,\"#9c179e\"],[0.4444444444444444,\"#bd3786\"],[0.5555555555555556,\"#d8576b\"],[0.6666666666666666,\"#ed7953\"],[0.7777777777777778,\"#fb9f3a\"],[0.8888888888888888,\"#fdca26\"],[1.0,\"#f0f921\"]],\"type\":\"heatmap\"}],\"heatmapgl\":[{\"colorbar\":{\"outlinewidth\":0,\"ticks\":\"\"},\"colorscale\":[[0.0,\"#0d0887\"],[0.1111111111111111,\"#46039f\"],[0.2222222222222222,\"#7201a8\"],[0.3333333333333333,\"#9c179e\"],[0.4444444444444444,\"#bd3786\"],[0.5555555555555556,\"#d8576b\"],[0.6666666666666666,\"#ed7953\"],[0.7777777777777778,\"#fb9f3a\"],[0.8888888888888888,\"#fdca26\"],[1.0,\"#f0f921\"]],\"type\":\"heatmapgl\"}],\"histogram\":[{\"marker\":{\"pattern\":{\"fillmode\":\"overlay\",\"size\":10,\"solidity\":0.2}},\"type\":\"histogram\"}],\"histogram2d\":[{\"colorbar\":{\"outlinewidth\":0,\"ticks\":\"\"},\"colorscale\":[[0.0,\"#0d0887\"],[0.1111111111111111,\"#46039f\"],[0.2222222222222222,\"#7201a8\"],[0.3333333333333333,\"#9c179e\"],[0.4444444444444444,\"#bd3786\"],[0.5555555555555556,\"#d8576b\"],[0.6666666666666666,\"#ed7953\"],[0.7777777777777778,\"#fb9f3a\"],[0.8888888888888888,\"#fdca26\"],[1.0,\"#f0f921\"]],\"type\":\"histogram2d\"}],\"histogram2dcontour\":[{\"colorbar\":{\"outlinewidth\":0,\"ticks\":\"\"},\"colorscale\":[[0.0,\"#0d0887\"],[0.1111111111111111,\"#46039f\"],[0.2222222222222222,\"#7201a8\"],[0.3333333333333333,\"#9c179e\"],[0.4444444444444444,\"#bd3786\"],[0.5555555555555556,\"#d8576b\"],[0.6666666666666666,\"#ed7953\"],[0.7777777777777778,\"#fb9f3a\"],[0.8888888888888888,\"#fdca26\"],[1.0,\"#f0f921\"]],\"type\":\"histogram2dcontour\"}],\"mesh3d\":[{\"colorbar\":{\"outlinewidth\":0,\"ticks\":\"\"},\"type\":\"mesh3d\"}],\"parcoords\":[{\"line\":{\"colorbar\":{\"outlinewidth\":0,\"ticks\":\"\"}},\"type\":\"parcoords\"}],\"pie\":[{\"automargin\":true,\"type\":\"pie\"}],\"scatter\":[{\"marker\":{\"colorbar\":{\"outlinewidth\":0,\"ticks\":\"\"}},\"type\":\"scatter\"}],\"scatter3d\":[{\"line\":{\"colorbar\":{\"outlinewidth\":0,\"ticks\":\"\"}},\"marker\":{\"colorbar\":{\"outlinewidth\":0,\"ticks\":\"\"}},\"type\":\"scatter3d\"}],\"scattercarpet\":[{\"marker\":{\"colorbar\":{\"outlinewidth\":0,\"ticks\":\"\"}},\"type\":\"scattercarpet\"}],\"scattergeo\":[{\"marker\":{\"colorbar\":{\"outlinewidth\":0,\"ticks\":\"\"}},\"type\":\"scattergeo\"}],\"scattergl\":[{\"marker\":{\"colorbar\":{\"outlinewidth\":0,\"ticks\":\"\"}},\"type\":\"scattergl\"}],\"scattermapbox\":[{\"marker\":{\"colorbar\":{\"outlinewidth\":0,\"ticks\":\"\"}},\"type\":\"scattermapbox\"}],\"scatterpolar\":[{\"marker\":{\"colorbar\":{\"outlinewidth\":0,\"ticks\":\"\"}},\"type\":\"scatterpolar\"}],\"scatterpolargl\":[{\"marker\":{\"colorbar\":{\"outlinewidth\":0,\"ticks\":\"\"}},\"type\":\"scatterpolargl\"}],\"scatterternary\":[{\"marker\":{\"colorbar\":{\"outlinewidth\":0,\"ticks\":\"\"}},\"type\":\"scatterternary\"}],\"surface\":[{\"colorbar\":{\"outlinewidth\":0,\"ticks\":\"\"},\"colorscale\":[[0.0,\"#0d0887\"],[0.1111111111111111,\"#46039f\"],[0.2222222222222222,\"#7201a8\"],[0.3333333333333333,\"#9c179e\"],[0.4444444444444444,\"#bd3786\"],[0.5555555555555556,\"#d8576b\"],[0.6666666666666666,\"#ed7953\"],[0.7777777777777778,\"#fb9f3a\"],[0.8888888888888888,\"#fdca26\"],[1.0,\"#f0f921\"]],\"type\":\"surface\"}],\"table\":[{\"cells\":{\"fill\":{\"color\":\"#EBF0F8\"},\"line\":{\"color\":\"white\"}},\"header\":{\"fill\":{\"color\":\"#C8D4E3\"},\"line\":{\"color\":\"white\"}},\"type\":\"table\"}]},\"layout\":{\"annotationdefaults\":{\"arrowcolor\":\"#2a3f5f\",\"arrowhead\":0,\"arrowwidth\":1},\"autotypenumbers\":\"strict\",\"coloraxis\":{\"colorbar\":{\"outlinewidth\":0,\"ticks\":\"\"}},\"colorscale\":{\"diverging\":[[0,\"#8e0152\"],[0.1,\"#c51b7d\"],[0.2,\"#de77ae\"],[0.3,\"#f1b6da\"],[0.4,\"#fde0ef\"],[0.5,\"#f7f7f7\"],[0.6,\"#e6f5d0\"],[0.7,\"#b8e186\"],[0.8,\"#7fbc41\"],[0.9,\"#4d9221\"],[1,\"#276419\"]],\"sequential\":[[0.0,\"#0d0887\"],[0.1111111111111111,\"#46039f\"],[0.2222222222222222,\"#7201a8\"],[0.3333333333333333,\"#9c179e\"],[0.4444444444444444,\"#bd3786\"],[0.5555555555555556,\"#d8576b\"],[0.6666666666666666,\"#ed7953\"],[0.7777777777777778,\"#fb9f3a\"],[0.8888888888888888,\"#fdca26\"],[1.0,\"#f0f921\"]],\"sequentialminus\":[[0.0,\"#0d0887\"],[0.1111111111111111,\"#46039f\"],[0.2222222222222222,\"#7201a8\"],[0.3333333333333333,\"#9c179e\"],[0.4444444444444444,\"#bd3786\"],[0.5555555555555556,\"#d8576b\"],[0.6666666666666666,\"#ed7953\"],[0.7777777777777778,\"#fb9f3a\"],[0.8888888888888888,\"#fdca26\"],[1.0,\"#f0f921\"]]},\"colorway\":[\"#636efa\",\"#EF553B\",\"#00cc96\",\"#ab63fa\",\"#FFA15A\",\"#19d3f3\",\"#FF6692\",\"#B6E880\",\"#FF97FF\",\"#FECB52\"],\"font\":{\"color\":\"#2a3f5f\"},\"geo\":{\"bgcolor\":\"white\",\"lakecolor\":\"white\",\"landcolor\":\"#E5ECF6\",\"showlakes\":true,\"showland\":true,\"subunitcolor\":\"white\"},\"hoverlabel\":{\"align\":\"left\"},\"hovermode\":\"closest\",\"mapbox\":{\"style\":\"light\"},\"paper_bgcolor\":\"white\",\"plot_bgcolor\":\"#E5ECF6\",\"polar\":{\"angularaxis\":{\"gridcolor\":\"white\",\"linecolor\":\"white\",\"ticks\":\"\"},\"bgcolor\":\"#E5ECF6\",\"radialaxis\":{\"gridcolor\":\"white\",\"linecolor\":\"white\",\"ticks\":\"\"}},\"scene\":{\"xaxis\":{\"backgroundcolor\":\"#E5ECF6\",\"gridcolor\":\"white\",\"gridwidth\":2,\"linecolor\":\"white\",\"showbackground\":true,\"ticks\":\"\",\"zerolinecolor\":\"white\"},\"yaxis\":{\"backgroundcolor\":\"#E5ECF6\",\"gridcolor\":\"white\",\"gridwidth\":2,\"linecolor\":\"white\",\"showbackground\":true,\"ticks\":\"\",\"zerolinecolor\":\"white\"},\"zaxis\":{\"backgroundcolor\":\"#E5ECF6\",\"gridcolor\":\"white\",\"gridwidth\":2,\"linecolor\":\"white\",\"showbackground\":true,\"ticks\":\"\",\"zerolinecolor\":\"white\"}},\"shapedefaults\":{\"line\":{\"color\":\"#2a3f5f\"}},\"ternary\":{\"aaxis\":{\"gridcolor\":\"white\",\"linecolor\":\"white\",\"ticks\":\"\"},\"baxis\":{\"gridcolor\":\"white\",\"linecolor\":\"white\",\"ticks\":\"\"},\"bgcolor\":\"#E5ECF6\",\"caxis\":{\"gridcolor\":\"white\",\"linecolor\":\"white\",\"ticks\":\"\"}},\"title\":{\"x\":0.05},\"xaxis\":{\"automargin\":true,\"gridcolor\":\"white\",\"linecolor\":\"white\",\"ticks\":\"\",\"title\":{\"standoff\":15},\"zerolinecolor\":\"white\",\"zerolinewidth\":2},\"yaxis\":{\"automargin\":true,\"gridcolor\":\"white\",\"linecolor\":\"white\",\"ticks\":\"\",\"title\":{\"standoff\":15},\"zerolinecolor\":\"white\",\"zerolinewidth\":2}}},\"title\":{\"text\":\"Number of views\"},\"yaxis\":{\"type\":\"log\"}},                        {\"responsive\": true}                    ).then(function(){\n",
       "                            \n",
       "var gd = document.getElementById('83f76f9a-c066-413b-9543-1c241958c663');\n",
       "var x = new MutationObserver(function (mutations, observer) {{\n",
       "        var display = window.getComputedStyle(gd).display;\n",
       "        if (!display || display === 'none') {{\n",
       "            console.log([gd, 'removed!']);\n",
       "            Plotly.purge(gd);\n",
       "            observer.disconnect();\n",
       "        }}\n",
       "}});\n",
       "\n",
       "// Listen for the removal of the full notebook cells\n",
       "var notebookContainer = gd.closest('#notebook-container');\n",
       "if (notebookContainer) {{\n",
       "    x.observe(notebookContainer, {childList: true});\n",
       "}}\n",
       "\n",
       "// Listen for the clearing of the current output cell\n",
       "var outputEl = gd.closest('.output');\n",
       "if (outputEl) {{\n",
       "    x.observe(outputEl, {childList: true});\n",
       "}}\n",
       "\n",
       "                        })                };                });            </script>        </div>"
      ]
     },
     "metadata": {},
     "output_type": "display_data"
    }
   ],
   "source": [
    "data = []\n",
    "for l in A.keys():\n",
    "    data.append(go.Scatter(y=A[l], name=f\"sales, l={l[0]/100:.2f}, v={l[1]/1000:.2}\"))\n",
    "go.Figure(data=[go.Scatter(y=T, name=\"views\")] + data,\n",
    "          layout=go.Layout(title=\"Number of views\", yaxis={\"type\": \"log\"}))"
   ]
  },
  {
   "cell_type": "markdown",
   "metadata": {},
   "source": [
    "# Half-life and lambda"
   ]
  },
  {
   "cell_type": "markdown",
   "metadata": {},
   "source": [
    "$\\lambda^{\\mu} = {1 \\over 2} $  \n",
    "$\\mu$ - half-life time"
   ]
  },
  {
   "cell_type": "code",
   "execution_count": 112,
   "metadata": {},
   "outputs": [],
   "source": [
    "def get_half_life_from_lambda(l):\n",
    "    return np.log(0.5) / np.log(l)"
   ]
  },
  {
   "cell_type": "code",
   "execution_count": 113,
   "metadata": {},
   "outputs": [],
   "source": [
    "def get_lambda_from_half_life(half_life):\n",
    "    return (0.5) ** (1 / half_life)"
   ]
  },
  {
   "cell_type": "code",
   "execution_count": 114,
   "metadata": {},
   "outputs": [
    {
     "data": {
      "text/plain": [
       "0.5"
      ]
     },
     "execution_count": 114,
     "metadata": {},
     "output_type": "execute_result"
    }
   ],
   "source": [
    "get_half_life_from_lambda(0.25)"
   ]
  },
  {
   "cell_type": "code",
   "execution_count": 115,
   "metadata": {},
   "outputs": [
    {
     "data": {
      "text/plain": [
       "0.7937005259840998"
      ]
     },
     "execution_count": 115,
     "metadata": {},
     "output_type": "execute_result"
    }
   ],
   "source": [
    "get_lambda_from_half_life(3)"
   ]
  }
 ],
 "metadata": {
  "kernelspec": {
   "display_name": "Python 3 (ipykernel)",
   "language": "python",
   "name": "python3"
  },
  "language_info": {
   "codemirror_mode": {
    "name": "ipython",
    "version": 3
   },
   "file_extension": ".py",
   "mimetype": "text/x-python",
   "name": "python",
   "nbconvert_exporter": "python",
   "pygments_lexer": "ipython3",
   "version": "3.8.5"
  }
 },
 "nbformat": 4,
 "nbformat_minor": 4
}
